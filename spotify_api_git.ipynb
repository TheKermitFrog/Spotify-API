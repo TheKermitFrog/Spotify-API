{
 "cells": [
  {
   "cell_type": "markdown",
   "metadata": {},
   "source": [
    "# Individual Project - Spotify Library Analysis and Music Recommendation\n",
    "### 2019/12/4\n",
    "### Darren Wang (hsiangw2@illinois.edu)\n",
    "This project contains two main part: 1. Working with Spotify API and data wrangling 2. Making music recommendation based on my music library 3. Reflection"
   ]
  },
  {
   "cell_type": "markdown",
   "metadata": {},
   "source": [
    "#### All codes were tested under DataBricks runtime 6.1 (includes Apache Spark 2.4.4, Scala 2.11), the authorization flow under should not requires any login credentials other than pasting two URIs back and forth, if you can't get pass the authorization, please let me know."
   ]
  },
  {
   "cell_type": "markdown",
   "metadata": {},
   "source": [
    "# 1. Working with Spotify API and Data Wrangling"
   ]
  },
  {
   "cell_type": "markdown",
   "metadata": {},
   "source": [
    "### (1) Getting Pass Spotify Authorization in DataBricks"
   ]
  },
  {
   "cell_type": "markdown",
   "metadata": {},
   "source": [
    "1. Install Spotipy(Spotify API for Python) onto current cluster and restart Python <br>\n",
    "2. Check current version of Spark and Python"
   ]
  },
  {
   "cell_type": "code",
   "execution_count": 6,
   "metadata": {},
   "outputs": [
    {
     "data": {
      "text/html": [
       "<style scoped>\n",
       "  .ansiout {\n",
       "    display: block;\n",
       "    unicode-bidi: embed;\n",
       "    white-space: pre-wrap;\n",
       "    word-wrap: break-word;\n",
       "    word-break: break-all;\n",
       "    font-family: \"Source Code Pro\", \"Menlo\", monospace;;\n",
       "    font-size: 13px;\n",
       "    color: #555;\n",
       "    margin-left: 4px;\n",
       "    line-height: 19px;\n",
       "  }\n",
       "</style>\n",
       "<div class=\"ansiout\">Spark Version:  2.4.4\n",
       "Python version:  3.7.3\n",
       "</div>"
      ]
     },
     "metadata": {},
     "output_type": "display_data"
    }
   ],
   "source": [
    "dbutils.library.installPyPI('spotipy')\n",
    "dbutils.library.restartPython()\n",
    "\n",
    "# Check Current Version\n",
    "from platform import python_version\n",
    "print('Spark Version: ', sc.version)\n",
    "print('Python version: ', python_version())"
   ]
  },
  {
   "cell_type": "markdown",
   "metadata": {},
   "source": [
    "How Spotipy authorized an application works as follows: <br>\n",
    "1. Input *username, scope(what data can be retrieved by this application), client_id, client_secret, and redirect_uri*\n",
    "2. The \"original\" spotipy.util.prompt_for_user_token would pop an URL based on input redirect_uri and expects an input based on Python's raw_input function\n",
    "3. User pastes the poped redirect_uri into any web browser and pastes the redirected URL back to Python\n",
    "4. Authorization complete\n",
    "\n",
    "**However**, DataBricks does not support raw_input, which means I have to modified the function <br>\n",
    "In order to input value in DataBricks notebook, Databricks provides **widgets.text** method in its **dbutils** module, which shows an widget to of the notebook and expect an text input.\n",
    "\n",
    "Now my customized authorization flow works as follows: <br>\n",
    "1. Input *username, scope, client_id, client_secret, and redirect_uri* into prompt_for_user_token_modified()\n",
    "2. An URL would pop up and we can get the authorization redirected URI same as above\n",
    "3. Invoke another function called get_token() which grabs the redirect URI from the widget and get access token\n",
    "4. With the token, invoke spotipy.Spotify\n",
    "5. Authorization complete <br>\n",
    "\n",
    "**Authorization lasts for one hour, if needs to re-authorized, have to create a new cluster and re-run the authorization flow**\n",
    "\n",
    "**The chunk below defines the two modified functions and creates the widget**"
   ]
  },
  {
   "cell_type": "code",
   "execution_count": 8,
   "metadata": {},
   "outputs": [
    {
     "data": {
      "text/html": [
       "<style scoped>\n",
       "  .ansiout {\n",
       "    display: block;\n",
       "    unicode-bidi: embed;\n",
       "    white-space: pre-wrap;\n",
       "    word-wrap: break-word;\n",
       "    word-break: break-all;\n",
       "    font-family: \"Source Code Pro\", \"Menlo\", monospace;;\n",
       "    font-size: 13px;\n",
       "    color: #555;\n",
       "    margin-left: 4px;\n",
       "    line-height: 19px;\n",
       "  }\n",
       "</style>\n",
       "<div class=\"ansiout\"></div>"
      ]
     },
     "metadata": {},
     "output_type": "display_data"
    }
   ],
   "source": [
    "from __future__ import print_function\n",
    "import spotipy\n",
    "import spotipy.util as util\n",
    "import os\n",
    "import spotipy.oauth2 as oauth2\n",
    "\n",
    "dbutils.widgets.text(\"Redirect URI\", \"Please paste the redirect URL here\")\n",
    "\n",
    "def prompt_for_user_token_modified(username, scope = None, client_id = None,\n",
    "        client_secret = None, redirect_uri = None, cache_path = None):\n",
    "    ''' prompts the user to login if necessary and returns\n",
    "        the user token suitable for use with the spotipy.Spotify \n",
    "        constructor\n",
    "        Parameters:\n",
    "         - username - the Spotify username\n",
    "         - scope - the desired scope of the request\n",
    "         - client_id - the client id of your app\n",
    "         - client_secret - the client secret of your app\n",
    "         - redirect_uri - the redirect URI of your app\n",
    "         - cache_path - path to location to save tokens\n",
    "    '''\n",
    "\n",
    "    if not client_id:\n",
    "        client_id = os.getenv('SPOTIPY_CLIENT_ID')\n",
    "\n",
    "    if not client_secret:\n",
    "        client_secret = os.getenv('SPOTIPY_CLIENT_SECRET')\n",
    "\n",
    "    if not redirect_uri:\n",
    "        redirect_uri = os.getenv('SPOTIPY_REDIRECT_URI')\n",
    "\n",
    "    if not client_id:\n",
    "        print('''\n",
    "            You need to set your Spotify API credentials. You can do this by\n",
    "            setting environment variables like so:\n",
    "            export SPOTIPY_CLIENT_ID='your-spotify-client-id'\n",
    "            export SPOTIPY_CLIENT_SECRET='your-spotify-client-secret'\n",
    "            export SPOTIPY_REDIRECT_URI='your-app-redirect-url'\n",
    "            Get your credentials at     \n",
    "                https://developer.spotify.com/my-applications\n",
    "        ''')\n",
    "        raise spotipy.SpotifyException(550, -1, 'no credentials set')\n",
    "\n",
    "    cache_path = cache_path or \".cache-\" + username\n",
    "    global sp_oauth\n",
    "    sp_oauth = oauth2.SpotifyOAuth(client_id, client_secret, redirect_uri, \n",
    "        scope=scope, cache_path=cache_path)\n",
    "    # try to get a valid token for this user, from the cache,\n",
    "    # if not in the cache, the create a new (this will send\n",
    "    # the user to a web page where they can authorize this app)\n",
    "\n",
    "    token_info = sp_oauth.get_cached_token()\n",
    "\n",
    "    if not token_info:\n",
    "        print('''\n",
    "            User authentication requires interaction with your\n",
    "            web browser. Once you enter your credentials and\n",
    "            give authorization, you will be redirected to\n",
    "            a url.  Paste that url you were directed to to\n",
    "            complete the authorization.\n",
    "        ''')\n",
    "        auth_url = sp_oauth.get_authorize_url()\n",
    "        try:\n",
    "            import webbrowser\n",
    "            webbrowser.open(auth_url)\n",
    "            print(\"Opened %s in your browser\" % auth_url)\n",
    "        except:\n",
    "            print(\"Please navigate here: %s\" % auth_url)\n",
    "\n",
    "        print()\n",
    "        \n",
    "def get_token():\n",
    "  response = dbutils.widgets.get(\"Redirect URI\")\n",
    "  code = sp_oauth.parse_response_code(response)\n",
    "  token_info = sp_oauth.get_access_token(code)\n",
    "  # Auth'ed API request\n",
    "  if token_info:\n",
    "    return token_info['access_token']\n",
    "  else:\n",
    "    return None"
   ]
  },
  {
   "cell_type": "markdown",
   "metadata": {},
   "source": [
    "Prompt for user token"
   ]
  },
  {
   "cell_type": "code",
   "execution_count": 10,
   "metadata": {},
   "outputs": [
    {
     "data": {
      "text/html": [
       "<style scoped>\n",
       "  .ansiout {\n",
       "    display: block;\n",
       "    unicode-bidi: embed;\n",
       "    white-space: pre-wrap;\n",
       "    word-wrap: break-word;\n",
       "    word-break: break-all;\n",
       "    font-family: \"Source Code Pro\", \"Menlo\", monospace;;\n",
       "    font-size: 13px;\n",
       "    color: #555;\n",
       "    margin-left: 4px;\n",
       "    line-height: 19px;\n",
       "  }\n",
       "</style>\n",
       "<div class=\"ansiout\">\n",
       "            User authentication requires interaction with your\n",
       "            web browser. Once you enter your credentials and\n",
       "            give authorization, you will be redirected to\n",
       "            a url.  Paste that url you were directed to to\n",
       "            complete the authorization.\n",
       "        \n",
       "Opened https://accounts.spotify.com/authorize?client_id=105bd1d9a81a497ca0e285637409dd59&amp;response_type=code&amp;redirect_uri=https%3A%2F%2Fwww.google.com%2F&amp;scope=user-library-read+user-read-currently-playing+user-read-email+user-read-playback-state+user-read-private in your browser\n",
       "\n",
       "</div>"
      ]
     },
     "metadata": {},
     "output_type": "display_data"
    }
   ],
   "source": [
    "username = ''\n",
    "scope = ''\n",
    "prompt_for_user_token_modified(username,\n",
    "                                   scope,\n",
    "                                   client_id = '',\n",
    "                                   client_secret = '',\n",
    "                                   redirect_uri = 'https://www.google.com/')"
   ]
  },
  {
   "cell_type": "markdown",
   "metadata": {},
   "source": [
    "Get token and invoke spotipy.Spotify"
   ]
  },
  {
   "cell_type": "code",
   "execution_count": 12,
   "metadata": {},
   "outputs": [
    {
     "data": {
      "text/html": [
       "<style scoped>\n",
       "  .ansiout {\n",
       "    display: block;\n",
       "    unicode-bidi: embed;\n",
       "    white-space: pre-wrap;\n",
       "    word-wrap: break-word;\n",
       "    word-break: break-all;\n",
       "    font-family: \"Source Code Pro\", \"Menlo\", monospace;;\n",
       "    font-size: 13px;\n",
       "    color: #555;\n",
       "    margin-left: 4px;\n",
       "    line-height: 19px;\n",
       "  }\n",
       "</style>\n",
       "<div class=\"ansiout\"></div>"
      ]
     },
     "metadata": {},
     "output_type": "display_data"
    }
   ],
   "source": [
    "token = get_token()\n",
    "sp = spotipy.Spotify(auth=token)"
   ]
  },
  {
   "cell_type": "markdown",
   "metadata": {},
   "source": [
    "### (2) Working with Spotify API and Data Wrangling\n",
    "\n",
    "Now we have passed the authorization, it's time to get some data from Spotify. <br>\n",
    "First, get information of all saved songs in my personal library, this is done by **current_user_saved_tracks** method of **spotipy** module <br>\n",
    "In each request, the API return 50 songs in maximum, so we have to set up a simple for loop.\n",
    "<br>\n",
    "\n",
    "\n",
    "The data was returned as a list of dictionary. <br>\n",
    "Information includes *song_id*, *artist*, *available country*, *album*, *number of songs in album*, *issued date*, *album cover*, ... etc <br>\n",
    "Currently, my library contains 606 songs."
   ]
  },
  {
   "cell_type": "code",
   "execution_count": 14,
   "metadata": {},
   "outputs": [
    {
     "data": {
      "text/html": [
       "<style scoped>\n",
       "  .ansiout {\n",
       "    display: block;\n",
       "    unicode-bidi: embed;\n",
       "    white-space: pre-wrap;\n",
       "    word-wrap: break-word;\n",
       "    word-break: break-all;\n",
       "    font-family: \"Source Code Pro\", \"Menlo\", monospace;;\n",
       "    font-size: 13px;\n",
       "    color: #555;\n",
       "    margin-left: 4px;\n",
       "    line-height: 19px;\n",
       "  }\n",
       "</style>\n",
       "<div class=\"ansiout\">Total number of my saved songs: 606\n",
       "</div>"
      ]
     },
     "metadata": {},
     "output_type": "display_data"
    }
   ],
   "source": [
    "import math\n",
    "saved_tracks = []\n",
    "tracks_cnt = sp.current_user_saved_tracks()['total']\n",
    "\n",
    "for i in range(math.ceil(tracks_cnt / 50)):\n",
    "    offset = 50 * i\n",
    "    tracks = sp.current_user_saved_tracks(limit = 50, offset = offset)\n",
    "    saved_tracks.extend(tracks['items'])\n",
    "\n",
    "print('Total number of my saved songs: {}'.format(len(saved_tracks)))"
   ]
  },
  {
   "cell_type": "markdown",
   "metadata": {},
   "source": [
    "With *id* in songs information, we can utilize **spotipy**'s **audio_features** method to get audio features for each song. This method request one song at a time so a for loop that loop through all saved tracks was utilized.<br>\n",
    "\n",
    "The method returns 13 audio features:*duration_ms, key, mode, time_signature, acousticness, danceability, energy, instrumentalness, liveness, loudness, speechiness, valence, tempo*, as well as 5 other variables such as *id*, *href*. <br>\n",
    "\n",
    "4 unwanted variables were dropped: *uri, track_href, analysis_url, type*. *artist name, album name, release date* were added to the data for later analysis. <br>\n",
    "\n",
    "Because science notation cause problem when convert to Spark dataframe, *instrumentalness* was converted to string of floating point number here, and would be converted to double type in Spark dataframe later.\n",
    "\n",
    "For more information about each variable, please refer to: https://developer.spotify.com/documentation/web-api/reference/tracks/get-audio-features/"
   ]
  },
  {
   "cell_type": "code",
   "execution_count": 16,
   "metadata": {},
   "outputs": [
    {
     "data": {
      "text/html": [
       "<style scoped>\n",
       "  .ansiout {\n",
       "    display: block;\n",
       "    unicode-bidi: embed;\n",
       "    white-space: pre-wrap;\n",
       "    word-wrap: break-word;\n",
       "    word-break: break-all;\n",
       "    font-family: \"Source Code Pro\", \"Menlo\", monospace;;\n",
       "    font-size: 13px;\n",
       "    color: #555;\n",
       "    margin-left: 4px;\n",
       "    line-height: 19px;\n",
       "  }\n",
       "</style>\n",
       "<div class=\"ansiout\">retrying ...1secs\n",
       "</div>"
      ]
     },
     "metadata": {},
     "output_type": "display_data"
    }
   ],
   "source": [
    "tracks_features = []\n",
    "for i in range(len(saved_tracks)):\n",
    "  # get track id\n",
    "  song_id = saved_tracks[i]['track']['id']\n",
    "  # get track audio features\n",
    "  features = sp.audio_features(song_id)[0]\n",
    "  # modify result\n",
    "  # 1. add artist name\n",
    "  features['name'] = saved_tracks[i]['track']['album']['artists'][0]['name']\n",
    "  # 2. add album title\n",
    "  features['album'] = saved_tracks[i]['track']['album']['name']\n",
    "  # 3. add release_date\n",
    "  features['release_date'] = saved_tracks[i]['track']['album']['release_date']\n",
    "  # 4. add song title\n",
    "  features['title'] = saved_tracks[i]['track']['name']\n",
    "  # convert possible scientific notation to float\n",
    "  features['instrumentalness'] = format(features['instrumentalness'], '.8f')\n",
    "  # delete unwanted content\n",
    "  del features['uri']\n",
    "  del features['track_href']\n",
    "  del features['analysis_url']\n",
    "  del features['type']\n",
    "  # append\n",
    "  tracks_features.append(features)"
   ]
  },
  {
   "cell_type": "markdown",
   "metadata": {},
   "source": [
    "Now, with the desired data, create a Spark dataframe."
   ]
  },
  {
   "cell_type": "code",
   "execution_count": 18,
   "metadata": {},
   "outputs": [
    {
     "data": {
      "text/html": [
       "<style scoped>\n",
       "  .ansiout {\n",
       "    display: block;\n",
       "    unicode-bidi: embed;\n",
       "    white-space: pre-wrap;\n",
       "    word-wrap: break-word;\n",
       "    word-break: break-all;\n",
       "    font-family: \"Source Code Pro\", \"Menlo\", monospace;;\n",
       "    font-size: 13px;\n",
       "    color: #555;\n",
       "    margin-left: 4px;\n",
       "    line-height: 19px;\n",
       "  }\n",
       "</style>\n",
       "<div class=\"ansiout\"></div>"
      ]
     },
     "metadata": {},
     "output_type": "display_data"
    }
   ],
   "source": [
    "from pyspark.sql import Row\n",
    "features_df = spark.createDataFrame(Row(**x) for x in tracks_features)"
   ]
  },
  {
   "cell_type": "markdown",
   "metadata": {},
   "source": [
    "And convert *intrumentalness* back to double type."
   ]
  },
  {
   "cell_type": "code",
   "execution_count": 20,
   "metadata": {},
   "outputs": [
    {
     "data": {
      "text/html": [
       "<style scoped>\n",
       "  .ansiout {\n",
       "    display: block;\n",
       "    unicode-bidi: embed;\n",
       "    white-space: pre-wrap;\n",
       "    word-wrap: break-word;\n",
       "    word-break: break-all;\n",
       "    font-family: \"Source Code Pro\", \"Menlo\", monospace;;\n",
       "    font-size: 13px;\n",
       "    color: #555;\n",
       "    margin-left: 4px;\n",
       "    line-height: 19px;\n",
       "  }\n",
       "</style>\n",
       "<div class=\"ansiout\"></div>"
      ]
     },
     "metadata": {},
     "output_type": "display_data"
    }
   ],
   "source": [
    "# covert instrumentalness back to double type\n",
    "\n",
    "from pyspark.sql.types import DoubleType\n",
    "features_df = features_df.withColumn(\"instrumentalness\", features_df[\"instrumentalness\"].cast(DoubleType()))"
   ]
  },
  {
   "cell_type": "markdown",
   "metadata": {},
   "source": [
    "Schema and each column type is shown as follows:"
   ]
  },
  {
   "cell_type": "code",
   "execution_count": 22,
   "metadata": {},
   "outputs": [
    {
     "data": {
      "text/html": [
       "<style scoped>\n",
       "  .ansiout {\n",
       "    display: block;\n",
       "    unicode-bidi: embed;\n",
       "    white-space: pre-wrap;\n",
       "    word-wrap: break-word;\n",
       "    word-break: break-all;\n",
       "    font-family: \"Source Code Pro\", \"Menlo\", monospace;;\n",
       "    font-size: 13px;\n",
       "    color: #555;\n",
       "    margin-left: 4px;\n",
       "    line-height: 19px;\n",
       "  }\n",
       "</style>\n",
       "<div class=\"ansiout\">Out[38]: [StructField(acousticness,DoubleType,true),\n",
       " StructField(album,StringType,true),\n",
       " StructField(danceability,DoubleType,true),\n",
       " StructField(duration_ms,LongType,true),\n",
       " StructField(energy,DoubleType,true),\n",
       " StructField(id,StringType,true),\n",
       " StructField(instrumentalness,DoubleType,true),\n",
       " StructField(key,LongType,true),\n",
       " StructField(liveness,DoubleType,true),\n",
       " StructField(loudness,DoubleType,true),\n",
       " StructField(mode,LongType,true),\n",
       " StructField(name,StringType,true),\n",
       " StructField(release_date,StringType,true),\n",
       " StructField(speechiness,DoubleType,true),\n",
       " StructField(tempo,DoubleType,true),\n",
       " StructField(time_signature,LongType,true),\n",
       " StructField(title,StringType,true),\n",
       " StructField(valence,DoubleType,true)]</div>"
      ]
     },
     "metadata": {},
     "output_type": "display_data"
    }
   ],
   "source": [
    "# show schema and column type\n",
    "features_df.schema.fields"
   ]
  },
  {
   "cell_type": "markdown",
   "metadata": {},
   "source": [
    "### Take a look at my music library"
   ]
  },
  {
   "cell_type": "code",
   "execution_count": 24,
   "metadata": {},
   "outputs": [
    {
     "data": {
      "text/html": [
       "<style scoped>\n",
       "  .table-result-container {\n",
       "    max-height: 300px;\n",
       "    overflow: auto;\n",
       "  }\n",
       "  table, th, td {\n",
       "    border: 1px solid black;\n",
       "    border-collapse: collapse;\n",
       "  }\n",
       "  th, td {\n",
       "    padding: 5px;\n",
       "  }\n",
       "  th {\n",
       "    text-align: left;\n",
       "  }\n",
       "</style><div class='table-result-container'><table class='table-result'><thead style='background-color: white'><tr><th>acousticness</th><th>album</th><th>danceability</th><th>duration_ms</th><th>energy</th><th>id</th><th>instrumentalness</th><th>key</th><th>liveness</th><th>loudness</th><th>mode</th><th>name</th><th>release_date</th><th>speechiness</th><th>tempo</th><th>time_signature</th><th>valence</th></tr></thead><tbody><tr><td>0.0376</td><td>二十一世紀的破青年</td><td>0.528</td><td>309987</td><td>0.655</td><td>1SooDjb7CRmKCojdxespi7</td><td>0.00267</td><td>1</td><td>0.0977</td><td>-5.675</td><td>1</td><td>無妄合作社</td><td>2019-10-01</td><td>0.0258</td><td>86.581</td><td>4</td><td>0.589</td></tr><tr><td>0.751</td><td>Winter Sweet</td><td>0.799</td><td>329840</td><td>0.518</td><td>300O5aB8IWTCGL2xIfx2xq</td><td>7.99E-4</td><td>7</td><td>0.0959</td><td>-9.048</td><td>0</td><td>Soft Lipa</td><td>2009-12-31</td><td>0.0667</td><td>95.009</td><td>4</td><td>0.475</td></tr><tr><td>0.0683</td><td>收斂水</td><td>0.699</td><td>244320</td><td>0.765</td><td>2JItrvgRjJtv3BYs5QHh6p</td><td>0.0</td><td>4</td><td>0.283</td><td>-8.854</td><td>0</td><td>Soft Lipa</td><td>2009-07-22</td><td>0.038</td><td>96.01</td><td>4</td><td>0.706</td></tr><tr><td>0.298</td><td>收斂水</td><td>0.854</td><td>181600</td><td>0.682</td><td>6xAtGKQApLCPft6DYR6fFK</td><td>2.37E-5</td><td>8</td><td>0.116</td><td>-9.984</td><td>1</td><td>Soft Lipa</td><td>2009-07-22</td><td>0.0333</td><td>102.001</td><td>4</td><td>0.842</td></tr><tr><td>0.255</td><td>你所不知道的杜振熙之內部整修</td><td>0.582</td><td>210000</td><td>0.883</td><td>6i2oWpLh1Bt8F5BVaiyHmr</td><td>0.0214</td><td>10</td><td>0.109</td><td>-7.635</td><td>0</td><td>Soft Lipa</td><td>2013-07-31</td><td>0.0656</td><td>175.925</td><td>4</td><td>0.558</td></tr><tr><td>0.0309</td><td>Awake</td><td>0.549</td><td>277560</td><td>0.663</td><td>4yX50PMifhGzVEo1wv3guc</td><td>0.888</td><td>5</td><td>0.0938</td><td>-7.555</td><td>0</td><td>Tycho</td><td>2014-03-18</td><td>0.0464</td><td>114.494</td><td>4</td><td>0.245</td></tr><tr><td>0.0279</td><td>Those Who Ride With Giants [Deluxe]</td><td>0.585</td><td>358870</td><td>0.319</td><td>1J1m1KU9TUVPu9U9WT70BK</td><td>0.752</td><td>0</td><td>0.212</td><td>-16.684</td><td>1</td><td>Those Who Ride With Giants</td><td>2014-05-30</td><td>0.0287</td><td>129.992</td><td>4</td><td>0.226</td></tr><tr><td>0.786</td><td>魚仔</td><td>0.666</td><td>280955</td><td>0.217</td><td>2sb6AZQLeoD3VgA4zglQB6</td><td>0.0</td><td>1</td><td>0.0766</td><td>-11.042</td><td>0</td><td>Crowd Lu</td><td>2017-05-26</td><td>0.0335</td><td>82.011</td><td>4</td><td>0.395</td></tr><tr><td>0.0435</td><td>Wild Cherry</td><td>0.814</td><td>300000</td><td>0.672</td><td>5uuJruktM9fMdN9Va0DUMl</td><td>0.0</td><td>9</td><td>0.061</td><td>-12.068</td><td>1</td><td>Wild Cherry</td><td>1976</td><td>0.0619</td><td>109.394</td><td>4</td><td>0.933</td></tr><tr><td>0.434</td><td>太陽</td><td>0.602</td><td>316160</td><td>0.481</td><td>7a6y8KUW6hpSkv5GJuH7j0</td><td>2.4E-5</td><td>4</td><td>0.0896</td><td>-8.773</td><td>1</td><td>Cheer Chen</td><td>2009-01-22</td><td>0.0253</td><td>103.885</td><td>4</td><td>0.306</td></tr><tr><td>0.693</td><td>太陽</td><td>0.417</td><td>273573</td><td>0.505</td><td>6de7GeO6hrVh4ASjadqXP8</td><td>0.0</td><td>8</td><td>0.0797</td><td>-6.886</td><td>1</td><td>Cheer Chen</td><td>2009-01-22</td><td>0.0279</td><td>140.138</td><td>4</td><td>0.198</td></tr><tr><td>0.84</td><td>太陽</td><td>0.501</td><td>300187</td><td>0.382</td><td>0tCChyNux8WLRr7UhAw2Ja</td><td>0.0</td><td>7</td><td>0.076</td><td>-7.747</td><td>1</td><td>Cheer Chen</td><td>2009-01-22</td><td>0.032</td><td>137.752</td><td>4</td><td>0.259</td></tr><tr><td>0.00104</td><td>時光機</td><td>0.38</td><td>254733</td><td>0.675</td><td>0wH2KiG9EQJ9S5dr41sE2Q</td><td>9.1E-5</td><td>9</td><td>0.0711</td><td>-2.975</td><td>1</td><td>Mayday</td><td>2003-11-11</td><td>0.0299</td><td>159.822</td><td>4</td><td>0.603</td></tr><tr><td>0.0306</td><td>愛情萬歲</td><td>0.499</td><td>222773</td><td>0.765</td><td>0OHFcsAAtCgTiZTRsFSsQo</td><td>0.0</td><td>7</td><td>0.353</td><td>-3.224</td><td>1</td><td>Mayday</td><td>2000-07-07</td><td>0.0277</td><td>147.896</td><td>4</td><td>0.689</td></tr><tr><td>0.144</td><td>愛情萬歲</td><td>0.394</td><td>375173</td><td>0.753</td><td>3Xw9FlBK3mROAcWbIHJeSc</td><td>0.0</td><td>0</td><td>0.0626</td><td>-1.97</td><td>1</td><td>Mayday</td><td>2000-07-07</td><td>0.031</td><td>152.003</td><td>4</td><td>0.354</td></tr><tr><td>0.0892</td><td>五月天第一張創作專輯</td><td>0.437</td><td>307133</td><td>0.525</td><td>3KONyxbmy3yLWEZBegFNCW</td><td>3.16E-6</td><td>0</td><td>0.139</td><td>-6.342</td><td>1</td><td>Mayday</td><td>1999-07-07</td><td>0.0255</td><td>174.02</td><td>4</td><td>0.321</td></tr><tr><td>0.15</td><td>吾十有五而志於學</td><td>0.596</td><td>347058</td><td>0.561</td><td>5o48kuQnPwhuRAzO2t0bCU</td><td>0.00167</td><td>1</td><td>0.583</td><td>-10.226</td><td>0</td><td>老王樂隊</td><td>2017-09-28</td><td>0.0386</td><td>127.887</td><td>4</td><td>0.453</td></tr><tr><td>0.507</td><td>受寵若驚</td><td>0.565</td><td>291067</td><td>0.914</td><td>0LVYxsOh6OdE7oeNqWEaXy</td><td>0.606</td><td>4</td><td>0.218</td><td>-6.776</td><td>1</td><td>Frande</td><td>2011-10-18</td><td>0.0308</td><td>124.956</td><td>4</td><td>0.566</td></tr><tr><td>0.482</td><td>KOD</td><td>0.829</td><td>200310</td><td>0.527</td><td>6tZ3b7ik1QDXFAZlXib0YZ</td><td>0.0</td><td>6</td><td>0.631</td><td>-6.644</td><td>0</td><td>J. Cole</td><td>2018-04-20</td><td>0.367</td><td>116.078</td><td>4</td><td>0.473</td></tr><tr><td>0.0752</td><td>2014 Forest Hills Drive</td><td>0.504</td><td>239320</td><td>0.705</td><td>6Ius4TC0L3cN74HT7ENE6e</td><td>0.0</td><td>6</td><td>0.128</td><td>-8.205</td><td>0</td><td>J. Cole</td><td>2014-12-09</td><td>0.364</td><td>175.483</td><td>4</td><td>0.584</td></tr><tr><td>0.302</td><td>2014 Forest Hills Drive</td><td>0.696</td><td>292987</td><td>0.521</td><td>62vpWI1CHwFy7tMIcSStl8</td><td>0.0</td><td>10</td><td>0.0565</td><td>-8.465</td><td>0</td><td>J. Cole</td><td>2014-12-09</td><td>0.332</td><td>100.0</td><td>4</td><td>0.458</td></tr><tr><td>0.0302</td><td>Takk...</td><td>0.316</td><td>268707</td><td>0.684</td><td>0yQPpUq5BJyqah5m2Q5Stt</td><td>0.215</td><td>11</td><td>0.219</td><td>-6.447</td><td>1</td><td>Sigur Rós</td><td>2005-09-12</td><td>0.0327</td><td>139.863</td><td>4</td><td>0.175</td></tr><tr><td>0.361</td><td>無病呻吟有情抒情 Wu Bing Singing, Yo Chin Soothing</td><td>0.75</td><td>211304</td><td>0.599</td><td>78ZhoeLttWbXAk4GMokp8W</td><td>0.00219</td><td>4</td><td>0.109</td><td>-8.894</td><td>0</td><td>Leo王</td><td>2018-12-31</td><td>0.273</td><td>92.026</td><td>4</td><td>0.752</td></tr><tr><td>0.0969</td><td>For My Parents</td><td>0.185</td><td>842160</td><td>0.333</td><td>7kQCwykDIBkXTRGjmuwrg4</td><td>0.857</td><td>10</td><td>0.0662</td><td>-9.606</td><td>0</td><td>MONO</td><td>2012-09-04</td><td>0.0347</td><td>134.633</td><td>4</td><td>0.0486</td></tr><tr><td>0.521</td><td>For My Parents</td><td>0.0853</td><td>565947</td><td>0.271</td><td>4Q85lCn3q5tyEzTvAcH0pZ</td><td>0.785</td><td>10</td><td>0.0851</td><td>-12.542</td><td>1</td><td>MONO</td><td>2012-09-04</td><td>0.0391</td><td>84.272</td><td>3</td><td>0.0346</td></tr><tr><td>0.184</td><td>The Last Dawn</td><td>0.15</td><td>444573</td><td>0.496</td><td>1KIvMbK5d2TEnaKOBjebTS</td><td>0.933</td><td>2</td><td>0.13</td><td>-8.184</td><td>1</td><td>MONO</td><td>2014-10-28</td><td>0.0418</td><td>93.72</td><td>4</td><td>0.0328</td></tr><tr><td>0.741</td><td>The Last Dawn</td><td>0.212</td><td>381187</td><td>0.516</td><td>5m1KhG3DyDsJdQbCvkIySW</td><td>0.868</td><td>0</td><td>0.123</td><td>-8.354</td><td>0</td><td>MONO</td><td>2014-10-28</td><td>0.0318</td><td>176.039</td><td>4</td><td>0.135</td></tr><tr><td>0.536</td><td>The Last Dawn</td><td>0.518</td><td>490800</td><td>0.366</td><td>3fZbvMFbWzEM3jVmhG10Hm</td><td>0.87</td><td>11</td><td>0.307</td><td>-7.963</td><td>0</td><td>MONO</td><td>2014-10-28</td><td>0.029</td><td>116.031</td><td>4</td><td>0.128</td></tr><tr><td>0.191</td><td>The Last Dawn</td><td>0.183</td><td>695013</td><td>0.281</td><td>4y80SDmWeXm6jBLcMALVrc</td><td>0.897</td><td>5</td><td>0.324</td><td>-10.796</td><td>1</td><td>MONO</td><td>2014-10-28</td><td>0.0375</td><td>112.01</td><td>4</td><td>0.0333</td></tr><tr><td>0.949</td><td>The Tokyo Concert</td><td>0.326</td><td>292093</td><td>0.101</td><td>5GQAHsTo4DI71QLAXUo3DV</td><td>0.882</td><td>0</td><td>0.0403</td><td>-21.534</td><td>1</td><td>Joe Hisaishi</td><td>2002</td><td>0.0385</td><td>143.289</td><td>4</td><td>0.0891</td></tr><tr><td>0.0272</td><td>Tangible Dream</td><td>0.524</td><td>248668</td><td>0.475</td><td>5Q3TB2QIlIX8G22lrG9i2E</td><td>3.97E-6</td><td>11</td><td>0.1</td><td>-8.78</td><td>0</td><td>Oddisee</td><td>2013-12-17</td><td>0.147</td><td>78.24</td><td>4</td><td>0.0746</td></tr><tr><td>0.422</td><td>The Iceberg</td><td>0.62</td><td>305041</td><td>0.804</td><td>0YwLQLeuUCMPjdrlN1q3lI</td><td>0.00147</td><td>9</td><td>0.51</td><td>-8.301</td><td>0</td><td>Oddisee</td><td>2017-02-24</td><td>0.361</td><td>120.019</td><td>4</td><td>0.229</td></tr><tr><td>0.107</td><td>The Eraser</td><td>0.56</td><td>242787</td><td>0.841</td><td>5fOOQFVHQb1M58iSYebKeW</td><td>0.0144</td><td>1</td><td>0.14</td><td>-8.394</td><td>1</td><td>Thom Yorke</td><td>2006-07-10</td><td>0.0334</td><td>100.007</td><td>4</td><td>0.42</td></tr><tr><td>0.52</td><td>The Eraser</td><td>0.594</td><td>314547</td><td>0.371</td><td>4LhwAjaeL8IOmFta5Yxplt</td><td>0.908</td><td>1</td><td>0.108</td><td>-16.191</td><td>1</td><td>Thom Yorke</td><td>2006-07-10</td><td>0.0403</td><td>142.028</td><td>4</td><td>0.279</td></tr><tr><td>0.473</td><td>Playtime</td><td>0.53</td><td>220690</td><td>0.338</td><td>7D3KO9gj0szuA7rXZL8jjk</td><td>0.876</td><td>4</td><td>0.124</td><td>-10.691</td><td>0</td><td>L'Indécis</td><td>2018-02-28</td><td>0.11</td><td>173.737</td><td>4</td><td>0.111</td></tr><tr><td>0.258</td><td>?</td><td>0.74</td><td>166606</td><td>0.613</td><td>3ee8Jmje8o58CHK66QrVC2</td><td>0.00372</td><td>8</td><td>0.123</td><td>-4.88</td><td>1</td><td>XXXTENTACION</td><td>2018-03-16</td><td>0.145</td><td>75.023</td><td>4</td><td>0.473</td></tr><tr><td>0.287</td><td>收斂水</td><td>0.823</td><td>201960</td><td>0.592</td><td>4hCDUlOq1xicD10ynKUmau</td><td>1.23E-4</td><td>2</td><td>0.0892</td><td>-11.459</td><td>0</td><td>Soft Lipa</td><td>2009-07-22</td><td>0.0408</td><td>97.021</td><td>4</td><td>0.783</td></tr><tr><td>0.204</td><td>DAMN.</td><td>0.748</td><td>208733</td><td>0.705</td><td>1EaKU4dMbesXXd3BrLCtYG</td><td>0.0</td><td>4</td><td>0.246</td><td>-4.547</td><td>0</td><td>Kendrick Lamar</td><td>2017-04-14</td><td>0.485</td><td>189.891</td><td>4</td><td>0.483</td></tr><tr><td>0.00713</td><td>To Pimp A Butterfly</td><td>0.553</td><td>328827</td><td>0.852</td><td>5Mtt6tZSZA9cXTHGSGpyh0</td><td>0.0</td><td>10</td><td>0.463</td><td>-4.08</td><td>0</td><td>Kendrick Lamar</td><td>2015-03-16</td><td>0.305</td><td>176.058</td><td>4</td><td>0.27</td></tr><tr><td>0.526</td><td>Filoxiny</td><td>0.652</td><td>283107</td><td>0.31</td><td>0L2Q17joitlk1BxqKbbUyM</td><td>0.686</td><td>2</td><td>0.115</td><td>-13.865</td><td>0</td><td>Skinshape</td><td>2018-11-23</td><td>0.0324</td><td>131.973</td><td>4</td><td>0.294</td></tr><tr><td>0.00173</td><td>Living Message</td><td>0.726</td><td>211253</td><td>0.932</td><td>75EKP06FTKQt0lzKQrRf1z</td><td>0.936</td><td>4</td><td>0.0676</td><td>-6.117</td><td>0</td><td>INO hidefumi</td><td>2008-06-27</td><td>0.0309</td><td>103.987</td><td>4</td><td>0.901</td></tr><tr><td>0.00767</td><td>Rodeo (Expanded Edition)</td><td>0.713</td><td>262693</td><td>0.526</td><td>1wHZx0LgzFHyeIZkUydNXq</td><td>1.48E-4</td><td>1</td><td>0.124</td><td>-5.046</td><td>1</td><td>Travis Scott</td><td>2015-09-04</td><td>0.032</td><td>131.05</td><td>4</td><td>0.131</td></tr><tr><td>0.0449</td><td>JAZZ目線2</td><td>0.191</td><td>283773</td><td>0.888</td><td>3xZix2MZoZZPp1KywUdr8E</td><td>0.937</td><td>9</td><td>0.0823</td><td>-5.318</td><td>0</td><td>JABBERLOOP</td><td>2018-12-19</td><td>0.0616</td><td>153.989</td><td>4</td><td>0.327</td></tr><tr><td>0.31</td><td>Out Of My Hands (feat. Oddisee)</td><td>0.553</td><td>216453</td><td>0.611</td><td>0bhSj3xSQFNcKvzH6r6tPp</td><td>1.12E-4</td><td>9</td><td>0.0745</td><td>-8.233</td><td>0</td><td>TheColorGrey</td><td>2019-11-08</td><td>0.266</td><td>79.803</td><td>4</td><td>0.631</td></tr><tr><td>0.259</td><td>Revenge</td><td>0.763</td><td>126346</td><td>0.726</td><td>6eYxmK9fdL4hwLnXG2zY3s</td><td>0.0</td><td>1</td><td>0.0976</td><td>-6.405</td><td>1</td><td>XXXTENTACION</td><td>2017-05-16</td><td>0.282</td><td>139.059</td><td>4</td><td>0.349</td></tr><tr><td>0.0179</td><td>Revenge</td><td>0.755</td><td>101851</td><td>0.695</td><td>2ooF4088y5L72c4YTEJQoB</td><td>0.0</td><td>9</td><td>0.107</td><td>-5.963</td><td>1</td><td>XXXTENTACION</td><td>2017-05-16</td><td>0.26</td><td>128.063</td><td>4</td><td>0.493</td></tr><tr><td>0.0246</td><td>We Come from Exploding Stars</td><td>0.548</td><td>402880</td><td>0.553</td><td>5b7Majiii43WmH42Pm9uH8</td><td>0.8</td><td>4</td><td>0.143</td><td>-10.774</td><td>0</td><td>Moonlit Sailor</td><td>2014-02-25</td><td>0.0319</td><td>111.972</td><td>3</td><td>0.039</td></tr><tr><td>3.71E-5</td><td>Colors In Stereo</td><td>0.494</td><td>219493</td><td>0.863</td><td>2ThL97UJtUQwqZHpgtkktm</td><td>0.0104</td><td>11</td><td>0.363</td><td>-6.428</td><td>0</td><td>Moonlit Sailor</td><td>2011-06-08</td><td>0.0336</td><td>126.027</td><td>3</td><td>0.631</td></tr><tr><td>0.283</td><td>The Way Home</td><td>0.492</td><td>348865</td><td>0.397</td><td>3a7nji7d6PSFRhxN6boQFa</td><td>0.893</td><td>9</td><td>0.0977</td><td>-10.239</td><td>0</td><td>Sleep Dealer</td><td>2016-02-16</td><td>0.0291</td><td>150.001</td><td>4</td><td>0.0516</td></tr><tr><td>0.0859</td><td>Oxnard</td><td>0.805</td><td>268400</td><td>0.833</td><td>7c3SbTuufigBWURcICnAWy</td><td>0.0</td><td>1</td><td>0.0578</td><td>-6.73</td><td>0</td><td>Anderson .Paak</td><td>2018-11-16</td><td>0.12</td><td>109.076</td><td>4</td><td>0.703</td></tr><tr><td>0.00162</td><td>Big Love Greatest Hits Edition 30th Anniversary</td><td>0.769</td><td>199773</td><td>0.723</td><td>6fXxAmah5AF9KKmyU6w5eS</td><td>0.285</td><td>5</td><td>0.0891</td><td>-5.659</td><td>0</td><td>Simply Red</td><td>2015-11-13</td><td>0.0279</td><td>105.99</td><td>4</td><td>0.919</td></tr><tr><td>0.00269</td><td>All Hope Is Gone (10th Anniversary)</td><td>0.568</td><td>284120</td><td>0.981</td><td>3RAFcUBrCNaboRXoP3S5t1</td><td>0.00275</td><td>2</td><td>0.0243</td><td>-3.889</td><td>1</td><td>Slipknot</td><td>2008-08-20</td><td>0.0887</td><td>135.146</td><td>4</td><td>0.307</td></tr><tr><td>0.0129</td><td>The Battle Of Los Angeles</td><td>0.599</td><td>206200</td><td>0.957</td><td>1wsRitfRRtWyEapl0q22o8</td><td>7.06E-5</td><td>11</td><td>0.155</td><td>-5.764</td><td>1</td><td>Rage Against The Machine</td><td>1999-11-01</td><td>0.188</td><td>103.68</td><td>4</td><td>0.489</td></tr><tr><td>0.0728</td><td>Rage Against The Machine - XX (20th Anniversary Special Edition)</td><td>0.62</td><td>336440</td><td>0.912</td><td>25CbtOzU8Pn17SAaXFjIR3</td><td>7.15E-5</td><td>1</td><td>0.249</td><td>-4.011</td><td>1</td><td>Rage Against The Machine</td><td>1992</td><td>0.221</td><td>106.236</td><td>4</td><td>0.291</td></tr><tr><td>0.605</td><td>Interstellar (Original Motion Picture Soundtrack)</td><td>0.251</td><td>219093</td><td>0.0575</td><td>6WVRhBxRMW9fn6sRkt2gWn</td><td>0.922</td><td>9</td><td>0.098</td><td>-16.985</td><td>0</td><td>Hans Zimmer</td><td>2014-11-18</td><td>0.0293</td><td>95.947</td><td>4</td><td>0.0371</td></tr><tr><td>0.732</td><td>Galapagos</td><td>0.635</td><td>243973</td><td>0.489</td><td>63HOZZQ8O8AI4fYLu2Ekmc</td><td>0.0637</td><td>6</td><td>0.092</td><td>-10.015</td><td>0</td><td>WEDNESDAY CAMPANELLA</td><td>2018-06-27</td><td>0.0341</td><td>93.017</td><td>4</td><td>0.547</td></tr><tr><td>0.234</td><td>Isis</td><td>0.918</td><td>236000</td><td>0.837</td><td>36TO60sxDduIsO3xH8IcUh</td><td>0.0</td><td>1</td><td>0.227</td><td>-6.792</td><td>1</td><td>Joyner Lucas</td><td>2019-05-23</td><td>0.255</td><td>120.017</td><td>4</td><td>0.855</td></tr><tr><td>0.0725</td><td>Crisis (feat. 21 Savage)</td><td>0.898</td><td>216190</td><td>0.671</td><td>60KSdUUY3dtPOFpvTf0wNm</td><td>4.95E-5</td><td>11</td><td>0.119</td><td>-5.939</td><td>0</td><td>Rich Brian</td><td>2017-11-10</td><td>0.228</td><td>144.989</td><td>4</td><td>0.668</td></tr><tr><td>2.44E-4</td><td>i am > i was</td><td>0.885</td><td>148656</td><td>0.52</td><td>2wOXxtHZgRkkrkEbKLzzqs</td><td>1.16E-6</td><td>1</td><td>0.454</td><td>-8.353</td><td>1</td><td>21 Savage</td><td>2018-12-21</td><td>0.359</td><td>84.022</td><td>4</td><td>0.306</td></tr><tr><td>0.00513</td><td>ASTROWORLD</td><td>0.834</td><td>312820</td><td>0.73</td><td>2xLMifQCjDGFmkHkpNLD9h</td><td>0.0</td><td>8</td><td>0.124</td><td>-3.714</td><td>1</td><td>Travis Scott</td><td>2018-08-03</td><td>0.222</td><td>155.008</td><td>4</td><td>0.446</td></tr><tr><td>0.331</td><td>Without Warning</td><td>0.782</td><td>268933</td><td>0.436</td><td>5u6vkDnOyaf8LsteDAj2ub</td><td>1.3E-5</td><td>2</td><td>0.342</td><td>-7.033</td><td>1</td><td>21 Savage</td><td>2017-10-30</td><td>0.155</td><td>82.994</td><td>4</td><td>0.243</td></tr><tr><td>0.00813</td><td>Immortal</td><td>0.741</td><td>254723</td><td>0.87</td><td>4IO8X9W69dIQe0EC5ALXhq</td><td>0.0</td><td>6</td><td>0.114</td><td>-3.494</td><td>0</td><td>21 Savage</td><td>2019-10-31</td><td>0.503</td><td>184.194</td><td>4</td><td>0.663</td></tr><tr><td>0.0763</td><td>Top Five (Music From And Inspired By The Motion Picture)</td><td>0.757</td><td>219320</td><td>0.882</td><td>2KpCpk6HjXXLb7nnXoXA5O</td><td>0.0</td><td>1</td><td>0.251</td><td>-6.125</td><td>1</td><td>Various Artists</td><td>2014-12-09</td><td>0.248</td><td>140.047</td><td>4</td><td>0.684</td></tr><tr><td>0.273</td><td>Yuck</td><td>0.68</td><td>195373</td><td>0.499</td><td>6TYoMOI58Lj0tDpENDfRvt</td><td>0.0254</td><td>2</td><td>0.113</td><td>-8.967</td><td>1</td><td>Yuck</td><td>2011-02-15</td><td>0.0281</td><td>129.862</td><td>4</td><td>0.614</td></tr><tr><td>0.00598</td><td>Yuck</td><td>0.636</td><td>206933</td><td>0.723</td><td>4peLx24VB85kGLXD2WfaC3</td><td>0.00825</td><td>7</td><td>0.606</td><td>-6.364</td><td>1</td><td>Yuck</td><td>2011-02-15</td><td>0.0315</td><td>117.965</td><td>4</td><td>0.478</td></tr><tr><td>3.14E-5</td><td>Future This</td><td>0.371</td><td>218520</td><td>0.795</td><td>5mly3hWIPCbCl305awiWcm</td><td>8.64E-6</td><td>2</td><td>0.333</td><td>-7.558</td><td>1</td><td>The Big Pink</td><td>2012-01-16</td><td>0.0395</td><td>175.986</td><td>4</td><td>0.501</td></tr><tr><td>0.0114</td><td>Please: Further Listening 1984-1986</td><td>0.648</td><td>245360</td><td>0.947</td><td>7FlwylpJSe3ea6m1IrkizS</td><td>0.0567</td><td>4</td><td>0.105</td><td>-6.617</td><td>0</td><td>Pet Shop Boys</td><td>1986-03-24</td><td>0.0369</td><td>113.255</td><td>4</td><td>0.602</td></tr><tr><td>0.0174</td><td>PopArt: The Hits</td><td>0.535</td><td>304080</td><td>0.951</td><td>33gDIKlrUnY1dTWYsm5BFL</td><td>9.61E-6</td><td>7</td><td>0.345</td><td>-5.859</td><td>1</td><td>Pet Shop Boys</td><td>2003</td><td>0.0373</td><td>120.72</td><td>4</td><td>0.444</td></tr><tr><td>0.0735</td><td>Limits of Desire</td><td>0.576</td><td>226280</td><td>0.877</td><td>7MPSPxCd6aiGZwN0ro0ZSH</td><td>4.09E-4</td><td>9</td><td>0.27</td><td>-4.739</td><td>0</td><td>Small Black</td><td>2013-05-14</td><td>0.0292</td><td>119.965</td><td>4</td><td>0.625</td></tr><tr><td>0.314</td><td>Not to Disappear</td><td>0.284</td><td>266982</td><td>0.617</td><td>15Ax8eHs3aH9MCFcIERDp8</td><td>0.12</td><td>2</td><td>0.185</td><td>-7.95</td><td>1</td><td>Daughter</td><td>2016-01-15</td><td>0.0355</td><td>160.113</td><td>4</td><td>0.287</td></tr><tr><td>0.319</td><td>If You Leave</td><td>0.163</td><td>279307</td><td>0.438</td><td>7DHApempeur91VuOniuSlU</td><td>0.106</td><td>11</td><td>0.11</td><td>-12.318</td><td>0</td><td>Daughter</td><td>2013-01-01</td><td>0.0373</td><td>64.01</td><td>4</td><td>0.183</td></tr><tr><td>0.887</td><td>If You Leave</td><td>0.4</td><td>253013</td><td>0.525</td><td>4AmcmraFjVzFb9SQDNTRyl</td><td>0.00543</td><td>0</td><td>0.117</td><td>-11.294</td><td>1</td><td>Daughter</td><td>2013-01-01</td><td>0.0435</td><td>146.977</td><td>4</td><td>0.408</td></tr><tr><td>0.91</td><td>1983</td><td>0.544</td><td>226184</td><td>0.152</td><td>5TuICc3rZeDaNP7mpRqlFj</td><td>0.256</td><td>4</td><td>0.11</td><td>-17.995</td><td>0</td><td>Sophie Hunger</td><td>2010-03-26</td><td>0.028</td><td>90.863</td><td>4</td><td>0.075</td></tr><tr><td>0.328</td><td>WHEN WE ALL FALL ASLEEP, WHERE DO WE GO?</td><td>0.701</td><td>194088</td><td>0.425</td><td>2Fxmhks0bxGSBdJ92vM42m</td><td>0.13</td><td>7</td><td>0.1</td><td>-10.965</td><td>1</td><td>Billie Eilish</td><td>2019-03-29</td><td>0.375</td><td>135.128</td><td>4</td><td>0.562</td></tr><tr><td>0.499</td><td>無病呻吟有情抒情 Wu Bing Singing, Yo Chin Soothing</td><td>0.68</td><td>106000</td><td>0.809</td><td>2SAb3eTjVz0f5jzkyTuQTh</td><td>0.0</td><td>6</td><td>0.158</td><td>-6.652</td><td>1</td><td>Leo王</td><td>2018-12-31</td><td>0.311</td><td>99.647</td><td>4</td><td>0.674</td></tr><tr><td>0.22</td><td>保持帥哥</td><td>0.783</td><td>185289</td><td>0.65</td><td>1HdQdrd4Q6N4ABjCkmJ0QO</td><td>0.0</td><td>11</td><td>0.106</td><td>-7.635</td><td>0</td><td>TroutFresh</td><td>2018-11-06</td><td>0.21</td><td>107.905</td><td>4</td><td>0.907</td></tr><tr><td>0.569</td><td>Dreams Never End</td><td>0.595</td><td>237000</td><td>0.868</td><td>41jTrODFoxjIL0oWTeusKT</td><td>0.00841</td><td>8</td><td>0.145</td><td>-5.484</td><td>1</td><td>Spangle Call Lilli Line</td><td>2019-01-09</td><td>0.0277</td><td>107.991</td><td>4</td><td>0.49</td></tr><tr><td>0.19</td><td>葉惠美</td><td>0.624</td><td>280387</td><td>0.688</td><td>62E8ZkIPBg7uJg9gkRJ535</td><td>0.0451</td><td>5</td><td>0.0532</td><td>-8.857</td><td>0</td><td>Jay Chou</td><td>2003-07-31</td><td>0.0668</td><td>89.911</td><td>4</td><td>0.626</td></tr><tr><td>0.0589</td><td>Deltron 3030</td><td>0.697</td><td>299093</td><td>0.756</td><td>4a7iNsBx9sIDcqv0AdmFKn</td><td>0.0</td><td>1</td><td>0.383</td><td>-7.971</td><td>0</td><td>Deltron 3030</td><td>2000</td><td>0.0884</td><td>96.015</td><td>4</td><td>0.785</td></tr><tr><td>0.691</td><td>Asian Dreamer</td><td>0.699</td><td>278240</td><td>0.501</td><td>4o9e6Ws1reZQ9rtp6vLNBG</td><td>0.475</td><td>4</td><td>0.326</td><td>-10.412</td><td>0</td><td>CASIOPEA</td><td>1994</td><td>0.037</td><td>96.017</td><td>4</td><td>0.487</td></tr><tr><td>0.0256</td><td>Reason of Black Color</td><td>0.706</td><td>317560</td><td>0.388</td><td>2rRv7cHm7Cqr4E6CXY7iJc</td><td>2.25E-4</td><td>10</td><td>0.0913</td><td>-9.382</td><td>1</td><td>ame_no_parade</td><td>2018-03-14</td><td>0.0365</td><td>129.004</td><td>4</td><td>0.17</td></tr><tr><td>0.303</td><td>霧散去的時候</td><td>0.673</td><td>265763</td><td>0.488</td><td>1euFEevYDehC3P2mTZE0hv</td><td>0.154</td><td>2</td><td>0.205</td><td>-10.64</td><td>1</td><td>deca joins</td><td>2019-10-25</td><td>0.0239</td><td>101.975</td><td>4</td><td>0.425</td></tr><tr><td>0.00398</td><td>M45</td><td>0.556</td><td>532712</td><td>0.622</td><td>7moMKY7mKHsSKSgmE9TdfW</td><td>0.804</td><td>2</td><td>0.0833</td><td>-8.242</td><td>1</td><td>Pleiades</td><td>2014-07-23</td><td>0.0241</td><td>89.972</td><td>4</td><td>0.212</td></tr><tr><td>0.0915</td><td>SINCE2</td><td>0.67</td><td>326920</td><td>0.721</td><td>6O26zrQ5XXDz55P1V4H7hw</td><td>0.165</td><td>0</td><td>0.103</td><td>-7.75</td><td>1</td><td>Spangle Call Lilli Line</td><td>2013-06-12</td><td>0.0251</td><td>115.001</td><td>4</td><td>0.353</td></tr><tr><td>0.0112</td><td>Ventura</td><td>0.676</td><td>219332</td><td>0.56</td><td>4SBVWkRIMJ6WBCYPvr5Bwr</td><td>0.00403</td><td>4</td><td>0.137</td><td>-6.024</td><td>0</td><td>Anderson .Paak</td><td>2019-04-12</td><td>0.0643</td><td>178.555</td><td>4</td><td>0.551</td></tr><tr><td>0.25</td><td>Chasing Summer</td><td>0.793</td><td>216933</td><td>0.49</td><td>4sFzG7iUlyPmuyASCkre9A</td><td>1.0E-4</td><td>8</td><td>0.432</td><td>-10.984</td><td>0</td><td>SiR</td><td>2019-08-30</td><td>0.285</td><td>120.099</td><td>4</td><td>0.468</td></tr><tr><td>0.454</td><td>Diamonds (feat. Jedi P) - Single</td><td>0.767</td><td>213692</td><td>0.705</td><td>5lmgjpVahAJelpX3KHrQh2</td><td>0.0</td><td>0</td><td>0.0983</td><td>-9.042</td><td>1</td><td>Keith Ape</td><td>2016-08-11</td><td>0.234</td><td>130.07</td><td>4</td><td>0.493</td></tr><tr><td>0.0126</td><td>Orca-Tape</td><td>0.684</td><td>181947</td><td>0.721</td><td>2hHCSlAW4YIGc7Lc86VHKH</td><td>0.0</td><td>1</td><td>0.191</td><td>-4.478</td><td>1</td><td>The Cohort</td><td>2013-10-29</td><td>0.0388</td><td>125.993</td><td>4</td><td>0.353</td></tr><tr><td>0.195</td><td>Get That Money</td><td>0.95</td><td>195701</td><td>0.746</td><td>6yD4EwlpEq0PcXPOUBEkLA</td><td>1.02E-4</td><td>0</td><td>0.0669</td><td>-7.49</td><td>0</td><td>Okasian</td><td>2014-12-17</td><td>0.0723</td><td>119.976</td><td>4</td><td>0.531</td></tr><tr><td>0.00713</td><td>All Around Us</td><td>0.518</td><td>477813</td><td>0.558</td><td>5Utl7YBnU6aY93Mg6mQpKT</td><td>0.862</td><td>9</td><td>0.138</td><td>-7.226</td><td>1</td><td>MIAOU</td><td>2008-07-18</td><td>0.0252</td><td>100.0</td><td>4</td><td>0.35</td></tr><tr><td>0.108</td><td>My Head Is An Animal</td><td>0.359</td><td>278373</td><td>0.648</td><td>5g7rJvWYVrloJZwKiShqlS</td><td>0.0135</td><td>3</td><td>0.0555</td><td>-7.06</td><td>1</td><td>Of Monsters and Men</td><td>2012-01-01</td><td>0.035</td><td>111.733</td><td>4</td><td>0.133</td></tr><tr><td>0.39</td><td>Transatlanticism (10th Anniversary Edition)</td><td>0.44</td><td>475093</td><td>0.446</td><td>0DoACS30GwIY6qaFjCMMUz</td><td>0.569</td><td>9</td><td>0.179</td><td>-9.928</td><td>1</td><td>Death Cab for Cutie</td><td>2003</td><td>0.031</td><td>127.372</td><td>4</td><td>0.201</td></tr><tr><td>0.0845</td><td>Songs In The Key Of Life</td><td>0.826</td><td>252373</td><td>0.718</td><td>74MfBIVOVHzQiJqfJ1dgTo</td><td>5.44E-6</td><td>10</td><td>0.0652</td><td>-10.388</td><td>0</td><td>Stevie Wonder</td><td>1976-09-28</td><td>0.0555</td><td>105.857</td><td>4</td><td>0.884</td></tr><tr><td>0.0225</td><td>i</td><td>0.759</td><td>232067</td><td>0.886</td><td>1MbEoScHOKOkpI8rd7cXEU</td><td>8.95E-6</td><td>1</td><td>0.257</td><td>-5.321</td><td>1</td><td>Kendrick Lamar</td><td>2014-09-22</td><td>0.0564</td><td>121.933</td><td>4</td><td>0.883</td></tr><tr><td>0.0585</td><td>Awake</td><td>0.552</td><td>283636</td><td>0.878</td><td>2qC1sUo8xxRRqYsaYEdDuZ</td><td>0.892</td><td>1</td><td>0.0746</td><td>-5.767</td><td>1</td><td>Tycho</td><td>2014-03-18</td><td>0.0353</td><td>176.057</td><td>4</td><td>0.598</td></tr><tr><td>0.0806</td><td>A Different Kind Of Human – Step 2</td><td>0.626</td><td>215401</td><td>0.618</td><td>0iBeCjWB1PuItkjfrE1Ch1</td><td>1.9E-5</td><td>3</td><td>0.204</td><td>-5.906</td><td>0</td><td>AURORA</td><td>2019-06-07</td><td>0.056</td><td>127.996</td><td>4</td><td>0.26</td></tr><tr><td>0.0103</td><td>A Different Kind Of Human (Step II)</td><td>0.277</td><td>266969</td><td>0.39</td><td>20Svvkm0UBt55AMxTI42SE</td><td>0.0888</td><td>5</td><td>0.144</td><td>-9.477</td><td>0</td><td>AURORA</td><td>2019-06-07</td><td>0.0331</td><td>132.76</td><td>4</td><td>0.0866</td></tr><tr><td>0.102</td><td>A Different Kind Of Human (Step II)</td><td>0.569</td><td>217853</td><td>0.738</td><td>2T7nFureN39Vp8rgAHAchr</td><td>0.0117</td><td>2</td><td>0.0996</td><td>-5.739</td><td>1</td><td>AURORA</td><td>2019-06-07</td><td>0.0374</td><td>94.967</td><td>4</td><td>0.242</td></tr><tr><td>0.245</td><td>All My Demons Greeting Me as a Friend (Deluxe)</td><td>0.353</td><td>194760</td><td>0.529</td><td>20qtjUDcb8HH8ouF51BirQ</td><td>8.29E-5</td><td>5</td><td>0.221</td><td>-6.715</td><td>1</td><td>AURORA</td><td>2014</td><td>0.089</td><td>164.093</td><td>4</td><td>0.423</td></tr><tr><td>0.00387</td><td>Deep Blue</td><td>0.273</td><td>309520</td><td>0.602</td><td>3jpP2BqNA5eh8mtmcaTWet</td><td>1.95E-6</td><td>3</td><td>0.126</td><td>-6.967</td><td>1</td><td>Quarterback</td><td>2001-09</td><td>0.034</td><td>166.019</td><td>4</td><td>0.142</td></tr><tr><td>6.7E-4</td><td>Master of Puppets (Remastered Deluxe Box Set)</td><td>0.539</td><td>515387</td><td>0.828</td><td>54bm2e3tk8cliUz3VSdCPZ</td><td>0.421</td><td>4</td><td>0.154</td><td>-9.108</td><td>0</td><td>Metallica</td><td>1986-03-03</td><td>0.035</td><td>105.25</td><td>4</td><td>0.562</td></tr><tr><td>3.28E-5</td><td>Hardwired…To Self-Destruct (Deluxe)</td><td>0.169</td><td>350644</td><td>0.978</td><td>6P6qJr6lXMMqAjIFFHZh9r</td><td>0.00395</td><td>4</td><td>0.0567</td><td>-3.37</td><td>0</td><td>Metallica</td><td>2016-11-18</td><td>0.0657</td><td>179.035</td><td>4</td><td>0.38</td></tr><tr><td>0.015</td><td>Dissolution</td><td>0.319</td><td>665584</td><td>0.674</td><td>46OvkslxQuYHA9ixIHiS5A</td><td>0.158</td><td>0</td><td>0.191</td><td>-12.588</td><td>0</td><td>The Pineapple Thief</td><td>2018-08-31</td><td>0.0325</td><td>116.968</td><td>4</td><td>0.198</td></tr><tr><td>0.0269</td><td>Your Wilderness</td><td>0.313</td><td>310210</td><td>0.531</td><td>0mZIRxmun8Lg6Ec9NpPAmm</td><td>0.565</td><td>1</td><td>0.0539</td><td>-11.61</td><td>0</td><td>The Pineapple Thief</td><td>2016-08-12</td><td>0.027</td><td>101.018</td><td>4</td><td>0.232</td></tr><tr><td>0.201</td><td>The Raven That Refused to Sing (and Other Stories)</td><td>0.288</td><td>477104</td><td>0.228</td><td>69WzNkdbqaJEK6XanOkB4P</td><td>0.338</td><td>5</td><td>0.0621</td><td>-13.07</td><td>1</td><td>Steven Wilson</td><td>2013-02-25</td><td>0.0332</td><td>137.046</td><td>4</td><td>0.0653</td></tr><tr><td>0.102</td><td>To The Bone</td><td>0.497</td><td>286225</td><td>0.213</td><td>7CcaktZZsdb8AWPdhDM38f</td><td>0.112</td><td>6</td><td>0.21</td><td>-13.199</td><td>0</td><td>Steven Wilson</td><td>2017-08-18</td><td>0.0317</td><td>135.03</td><td>4</td><td>0.0412</td></tr><tr><td>0.0419</td><td>The Raven That Refused to Sing (and Other Stories)</td><td>0.447</td><td>457250</td><td>0.343</td><td>4kZbYkUuDHyphD71bPMYL1</td><td>0.329</td><td>2</td><td>0.102</td><td>-11.625</td><td>1</td><td>Steven Wilson</td><td>2013-02-25</td><td>0.0311</td><td>123.904</td><td>4</td><td>0.0777</td></tr><tr><td>0.183</td><td>Now, Then & Forever</td><td>0.693</td><td>216520</td><td>0.911</td><td>1mqlc0vEP9mU1kZgTi6LIQ</td><td>1.07E-4</td><td>9</td><td>0.3</td><td>-3.691</td><td>1</td><td>Earth, Wind & Fire</td><td>2013-09-10</td><td>0.0305</td><td>125.895</td><td>4</td><td>0.982</td></tr><tr><td>0.0472</td><td>Jazz (Deluxe Remastered Version)</td><td>0.563</td><td>209413</td><td>0.865</td><td>7hQJA50XrCWABAu5v6QZ4i</td><td>1.91E-4</td><td>5</td><td>0.77</td><td>-5.277</td><td>1</td><td>Queen</td><td>1978-11-10</td><td>0.16</td><td>156.271</td><td>4</td><td>0.601</td></tr><tr><td>0.536</td><td>The Beach Boys Love Songs</td><td>0.429</td><td>145107</td><td>0.543</td><td>0cx32rX0uZvcJUP92Wkj2y</td><td>2.54E-5</td><td>5</td><td>0.125</td><td>-9.139</td><td>1</td><td>The Beach Boys</td><td>2006-01-01</td><td>0.0347</td><td>122.619</td><td>4</td><td>0.693</td></tr><tr><td>0.386</td><td>1 (Remastered)</td><td>0.49</td><td>145747</td><td>0.715</td><td>4DRBaZ760gyk7LWnaJFqsJ</td><td>0.0</td><td>7</td><td>0.311</td><td>-5.549</td><td>1</td><td>The Beatles</td><td>2000-11-13</td><td>0.0476</td><td>130.726</td><td>4</td><td>0.866</td></tr><tr><td>0.432</td><td>Honky Chateau</td><td>0.601</td><td>281613</td><td>0.532</td><td>3gdewACMIVMEWVbyb8O9sY</td><td>6.25E-6</td><td>10</td><td>0.0925</td><td>-9.119</td><td>1</td><td>Elton John</td><td>1972-05-19</td><td>0.0286</td><td>136.571</td><td>4</td><td>0.341</td></tr><tr><td>0.0163</td><td>Use Your Illusion I</td><td>0.294</td><td>536067</td><td>0.641</td><td>3YRCqOhFifThpSRFJ1VWFM</td><td>0.22</td><td>11</td><td>0.112</td><td>-9.316</td><td>1</td><td>Guns N' Roses</td><td>1991-01-01</td><td>0.0291</td><td>79.759</td><td>4</td><td>0.226</td></tr><tr><td>0.079</td><td>Combat Rock (Remastered)</td><td>0.742</td><td>188987</td><td>0.833</td><td>39shmbIHICJ2Wxnk1fPSdz</td><td>0.0</td><td>2</td><td>0.384</td><td>-6.463</td><td>1</td><td>The Clash</td><td>1982</td><td>0.115</td><td>113.375</td><td>4</td><td>0.816</td></tr><tr><td>0.0505</td><td>Metallica</td><td>0.558</td><td>388733</td><td>0.364</td><td>10igKaIKsSB6ZnWxPxPvKO</td><td>5.02E-6</td><td>4</td><td>0.0753</td><td>-11.258</td><td>0</td><td>Metallica</td><td>1991-08-12</td><td>0.0265</td><td>142.171</td><td>3</td><td>0.17</td></tr><tr><td>0.00388</td><td>Let's Dance (1999 Remaster)</td><td>0.619</td><td>457133</td><td>0.703</td><td>0F0MA0ns8oXwGw66B2BSXm</td><td>0.205</td><td>10</td><td>0.163</td><td>-9.414</td><td>0</td><td>David Bowie</td><td>1983-04-14</td><td>0.0525</td><td>115.043</td><td>4</td><td>0.709</td></tr><tr><td>0.0236</td><td>The Best Of Motorhead: All The Aces/ The Muggers Tapes</td><td>0.337</td><td>167053</td><td>0.993</td><td>3RkS5epxKd1SFlDdLuKJMJ</td><td>3.54E-4</td><td>3</td><td>0.114</td><td>-4.116</td><td>0</td><td>Motörhead</td><td>2001</td><td>0.226</td><td>140.572</td><td>4</td><td>0.195</td></tr><tr><td>0.00255</td><td>Electric Ladyland</td><td>0.438</td><td>240800</td><td>0.805</td><td>2aoo2jlRnM3A0NyLQqMN2f</td><td>5.69E-5</td><td>8</td><td>0.0842</td><td>-6.237</td><td>1</td><td>Jimi Hendrix</td><td>1968-10-25</td><td>0.0624</td><td>113.253</td><td>4</td><td>0.564</td></tr><tr><td>0.00826</td><td>The Divine Feminine</td><td>0.836</td><td>305350</td><td>0.67</td><td>5iUQMwxUPdJBFeGkePtM66</td><td>3.55E-4</td><td>5</td><td>0.0837</td><td>-6.907</td><td>0</td><td>Mac Miller</td><td>2016-09-16</td><td>0.23</td><td>107.018</td><td>4</td><td>0.556</td></tr><tr><td>0.47</td><td>GO:OD AM</td><td>0.843</td><td>208080</td><td>0.435</td><td>6GnhWMhgJb7uyiiPEiEkDA</td><td>0.0</td><td>8</td><td>0.147</td><td>-8.442</td><td>1</td><td>Mac Miller</td><td>2015-09-18</td><td>0.178</td><td>120.058</td><td>4</td><td>0.19</td></tr><tr><td>0.367</td><td>Swimming</td><td>0.52</td><td>345133</td><td>0.538</td><td>5bJ1DrEM4hNCafcDd1oxHx</td><td>0.00187</td><td>1</td><td>0.119</td><td>-8.109</td><td>1</td><td>Mac Miller</td><td>2018-08-03</td><td>0.206</td><td>141.894</td><td>4</td><td>0.177</td></tr><tr><td>0.14</td><td>The Iceberg</td><td>0.903</td><td>224000</td><td>0.623</td><td>1rxbz8vhGvydIbOWkh60gw</td><td>0.0</td><td>6</td><td>0.0742</td><td>-6.692</td><td>0</td><td>Oddisee</td><td>2017-02-24</td><td>0.125</td><td>120.055</td><td>4</td><td>0.121</td></tr><tr><td>0.429</td><td>健康歌曲</td><td>0.764</td><td>263877</td><td>0.607</td><td>73caUhnfovQRXYzuGhWOm1</td><td>2.8E-6</td><td>8</td><td>0.438</td><td>-8.673</td><td>0</td><td>Yeemao</td><td>2017-10-06</td><td>0.358</td><td>89.993</td><td>4</td><td>0.705</td></tr><tr><td>1.67E-5</td><td>Resolution</td><td>0.429</td><td>234307</td><td>0.998</td><td>0asHedzNrLSCVDq0SW5gwy</td><td>0.00632</td><td>1</td><td>0.437</td><td>-2.863</td><td>1</td><td>Lamb of God</td><td>2012</td><td>0.178</td><td>137.98</td><td>4</td><td>0.0694</td></tr><tr><td>4.3E-5</td><td>Wrath</td><td>0.418</td><td>324667</td><td>0.968</td><td>7lVrIjVb0ctSCo00X7cDOk</td><td>0.278</td><td>7</td><td>0.37</td><td>-3.12</td><td>1</td><td>Lamb of God</td><td>2009-02-24</td><td>0.195</td><td>112.409</td><td>3</td><td>0.0701</td></tr><tr><td>3.39E-5</td><td>Sacrament</td><td>0.286</td><td>311507</td><td>0.982</td><td>6vjvewW34Y3UiGQtJokGlY</td><td>0.00675</td><td>0</td><td>0.309</td><td>-3.828</td><td>0</td><td>Lamb of God</td><td>2006-08-19</td><td>0.131</td><td>110.629</td><td>4</td><td>0.118</td></tr><tr><td>5.63E-5</td><td>Sacrament</td><td>0.512</td><td>220880</td><td>0.996</td><td>04EtBLFIxbcVt9NdYgcrpF</td><td>1.67E-4</td><td>2</td><td>0.347</td><td>-2.1</td><td>1</td><td>Lamb of God</td><td>2006-08-19</td><td>0.114</td><td>130.931</td><td>4</td><td>0.0601</td></tr><tr><td>2.16E-4</td><td>Ashes Of The Wake</td><td>0.359</td><td>230227</td><td>0.959</td><td>0lCwaZYSRy6q0jLmnYiQxi</td><td>0.00343</td><td>1</td><td>0.435</td><td>-3.685</td><td>1</td><td>Lamb of God</td><td>2004-08-30</td><td>0.104</td><td>103.038</td><td>3</td><td>0.158</td></tr><tr><td>0.0324</td><td>The Magic Whip</td><td>0.803</td><td>299133</td><td>0.722</td><td>61JDaStnXY3vbaEjliB5WA</td><td>0.00264</td><td>2</td><td>0.0763</td><td>-6.421</td><td>1</td><td>Blur</td><td>2015-04-24</td><td>0.0377</td><td>139.981</td><td>4</td><td>0.857</td></tr><tr><td>0.527</td><td>99.9%</td><td>0.651</td><td>155960</td><td>0.493</td><td>3JfjHs53c0T33lAN6czdqe</td><td>0.725</td><td>0</td><td>0.123</td><td>-6.386</td><td>0</td><td>KAYTRANADA</td><td>2016-05-06</td><td>0.0453</td><td>80.034</td><td>4</td><td>0.394</td></tr><tr><td>3.53E-4</td><td>Resolution (Exclusive Edition)</td><td>0.272</td><td>395640</td><td>0.955</td><td>7v5yAaXL6mqdZdl87jmO8T</td><td>0.00173</td><td>6</td><td>0.089</td><td>-4.523</td><td>0</td><td>Lamb of God</td><td>2012-01-24</td><td>0.111</td><td>118.329</td><td>4</td><td>0.118</td></tr><tr><td>0.0336</td><td>Exhibit C</td><td>0.49</td><td>331440</td><td>0.818</td><td>23uJbBKyqs1dibvfECdjSH</td><td>0.0</td><td>5</td><td>0.378</td><td>-11.976</td><td>0</td><td>Jay Electronica</td><td>2009-12-22</td><td>0.251</td><td>81.942</td><td>4</td><td>0.334</td></tr><tr><td>0.00219</td><td>ANIMA</td><td>0.558</td><td>237040</td><td>0.813</td><td>7ypjELqhyUT3BBCws8kzKN</td><td>0.124</td><td>0</td><td>0.533</td><td>-8.919</td><td>1</td><td>Thom Yorke</td><td>2019-06-27</td><td>0.045</td><td>124.03</td><td>4</td><td>0.28</td></tr><tr><td>0.834</td><td>Hear You</td><td>0.674</td><td>281549</td><td>0.276</td><td>4ERni7bSpmqnePVcqtJfop</td><td>0.916</td><td>7</td><td>0.0926</td><td>-12.659</td><td>1</td><td>toe</td><td>2015-07-24</td><td>0.0802</td><td>164.026</td><td>4</td><td>0.416</td></tr><tr><td>2.39E-5</td><td>Definitely Maybe (Remastered) [Deluxe Edition]</td><td>0.104</td><td>276662</td><td>0.794</td><td>2SwLswBtbxloI4uMcfkfLf</td><td>1.46E-5</td><td>9</td><td>0.355</td><td>-4.353</td><td>0</td><td>Oasis</td><td>1994-08-29</td><td>0.0426</td><td>83.972</td><td>4</td><td>0.179</td></tr><tr><td>0.00868</td><td>Curtain Call</td><td>0.692</td><td>326467</td><td>0.744</td><td>5Z01UMMf7V1o0MzF86s6WJ</td><td>4.23E-4</td><td>2</td><td>0.359</td><td>-4.565</td><td>1</td><td>Eminem</td><td>2005-12-06</td><td>0.257</td><td>171.374</td><td>4</td><td>0.0612</td></tr><tr><td>0.0145</td><td>III</td><td>0.347</td><td>280012</td><td>0.734</td><td>6UjntD5S4z0uc0hsDTEtFw</td><td>0.893</td><td>4</td><td>0.11</td><td>-7.357</td><td>0</td><td>BADBADNOTGOOD</td><td>2014-05-06</td><td>0.0569</td><td>184.06</td><td>4</td><td>0.0917</td></tr><tr><td>0.0331</td><td>On Little Known Frequencies</td><td>0.545</td><td>335693</td><td>0.693</td><td>2PKwMRpEXSSRvuI6baAhMw</td><td>0.867</td><td>7</td><td>0.0937</td><td>-8.275</td><td>1</td><td>From Monument To Masses</td><td>2009</td><td>0.0294</td><td>111.969</td><td>4</td><td>0.209</td></tr><tr><td>0.0348</td><td>Until We Meet the Sky</td><td>0.264</td><td>343733</td><td>0.335</td><td>0atOMgnZQ0bkSzDacwkKwB</td><td>0.819</td><td>7</td><td>0.17</td><td>-15.879</td><td>0</td><td>Solar Fields</td><td>2011-12-20</td><td>0.0361</td><td>89.195</td><td>4</td><td>0.0347</td></tr><tr><td>0.216</td><td>Beaucoup Fish</td><td>0.64</td><td>417693</td><td>0.575</td><td>56A2b7HaPMzTsIOicdnet1</td><td>0.802</td><td>5</td><td>0.127</td><td>-11.002</td><td>0</td><td>Underworld</td><td>1999</td><td>0.0386</td><td>140.016</td><td>4</td><td>0.849</td></tr><tr><td>0.0342</td><td>The Book About My Idle Plot On A Vague Anxiety</td><td>0.539</td><td>203507</td><td>0.702</td><td>5P9kSXsPkzbMP2D5UnjAfZ</td><td>0.803</td><td>10</td><td>0.185</td><td>-9.198</td><td>1</td><td>toe</td><td>2012-06-20</td><td>0.0283</td><td>121.95</td><td>4</td><td>0.461</td></tr><tr><td>0.267</td><td>LOVE COOK</td><td>0.375</td><td>307833</td><td>0.576</td><td>3zfyzbHuqcT2AAffAyLm02</td><td>3.38E-5</td><td>2</td><td>0.101</td><td>-5.741</td><td>0</td><td>Ai Otsuka</td><td>2005-12-14</td><td>0.0364</td><td>197.899</td><td>4</td><td>0.503</td></tr><tr><td>0.503</td><td>言ノ葉</td><td>0.626</td><td>293040</td><td>0.655</td><td>0U32q8CZRRo7xCzyiaZw5f</td><td>0.0</td><td>9</td><td>0.13</td><td>-6.69</td><td>1</td><td>Motohiro Hata</td><td>2013-05-29</td><td>0.0263</td><td>92.003</td><td>4</td><td>0.542</td></tr><tr><td>0.729</td><td>What A Wonderful World</td><td>0.271</td><td>139227</td><td>0.165</td><td>29U7stRjqHU6rMiS8BfaI9</td><td>1.6E-6</td><td>5</td><td>0.118</td><td>-20.652</td><td>1</td><td>Louis Armstrong</td><td>1968-01-01</td><td>0.0351</td><td>77.082</td><td>4</td><td>0.203</td></tr><tr><td>0.0371</td><td>The Marshall Mathers LP</td><td>0.78</td><td>404107</td><td>0.768</td><td>3UmaczJpikHgJFyBTAJVoz</td><td>2.34E-6</td><td>6</td><td>0.518</td><td>-4.325</td><td>0</td><td>Eminem</td><td>2000-05-23</td><td>0.238</td><td>80.063</td><td>4</td><td>0.507</td></tr><tr><td>0.0627</td><td>Kamikaze</td><td>0.876</td><td>244679</td><td>0.786</td><td>60SdxE8apGAxMiRrpbmLY0</td><td>0.0</td><td>10</td><td>0.127</td><td>-4.884</td><td>0</td><td>Eminem</td><td>2018-08-31</td><td>0.306</td><td>153.068</td><td>4</td><td>0.575</td></tr><tr><td>0.209</td><td>Encore (Deluxe Version)</td><td>0.637</td><td>250760</td><td>0.678</td><td>561jH07mF1jHuk7KlaeF0s</td><td>0.0</td><td>0</td><td>0.156</td><td>-3.798</td><td>1</td><td>Eminem</td><td>2004-11-12</td><td>0.266</td><td>84.039</td><td>4</td><td>0.254</td></tr><tr><td>0.113</td><td>Because the Internet</td><td>0.472</td><td>234215</td><td>0.448</td><td>2ZltjIqztEpZtafc8w0I9t</td><td>0.0</td><td>6</td><td>0.0914</td><td>-7.272</td><td>0</td><td>Childish Gambino</td><td>2013-12-10</td><td>0.326</td><td>166.077</td><td>4</td><td>0.636</td></tr><tr><td>0.117</td><td>This Is America</td><td>0.854</td><td>225773</td><td>0.463</td><td>0b9oOr2ZgvyQu88wzixux9</td><td>0.0</td><td>5</td><td>0.354</td><td>-6.159</td><td>1</td><td>Childish Gambino</td><td>2018-05-06</td><td>0.137</td><td>120.024</td><td>4</td><td>0.549</td></tr><tr><td>0.167</td><td>\"Awaken, My Love!\"</td><td>0.743</td><td>326933</td><td>0.347</td><td>0wXuerDYiBnERgIpbb3JBR</td><td>0.00951</td><td>1</td><td>0.103</td><td>-11.174</td><td>1</td><td>Childish Gambino</td><td>2016-12-02</td><td>0.121</td><td>160.143</td><td>4</td><td>0.572</td></tr><tr><td>0.0298</td><td>Point</td><td>0.812</td><td>308387</td><td>0.818</td><td>6ggO9aFrV9RHWT0wyXX3f9</td><td>0.707</td><td>2</td><td>0.603</td><td>-6.814</td><td>1</td><td>Cornelius</td><td>2002-01-01</td><td>0.0512</td><td>119.972</td><td>4</td><td>0.965</td></tr><tr><td>0.321</td><td>Unplugged (Deluxe Edition)</td><td>0.558</td><td>289027</td><td>0.524</td><td>3BEZCNZSmVv30vsMNSOCri</td><td>9.52E-4</td><td>2</td><td>0.94</td><td>-11.626</td><td>0</td><td>Eric Clapton</td><td>1992-08-25</td><td>0.0459</td><td>93.654</td><td>4</td><td>0.636</td></tr><tr><td>0.679</td><td>Ultimate Santana</td><td>0.497</td><td>195867</td><td>0.552</td><td>4nmne9J3YCEdhvjTzwiAgu</td><td>0.0314</td><td>9</td><td>0.089</td><td>-7.102</td><td>0</td><td>Santana</td><td>2007-09-25</td><td>0.0307</td><td>124.359</td><td>4</td><td>0.633</td></tr><tr><td>0.385</td><td>Guitar in the Space Age</td><td>0.395</td><td>426173</td><td>0.691</td><td>5PBP5VRLIf2XfLedZr1suU</td><td>0.903</td><td>9</td><td>0.132</td><td>-11.898</td><td>0</td><td>Bill Frisell</td><td>2014-10-03</td><td>0.0392</td><td>128.879</td><td>4</td><td>0.0968</td></tr><tr><td>0.443</td><td>Morning Phase</td><td>0.55</td><td>319787</td><td>0.368</td><td>3arVrdpOPMgLZOztBr2jM6</td><td>0.0814</td><td>4</td><td>0.126</td><td>-9.899</td><td>1</td><td>Beck</td><td>2014-01-01</td><td>0.0253</td><td>113.58</td><td>4</td><td>0.247</td></tr><tr><td>0.257</td><td>Toto IV</td><td>0.671</td><td>295893</td><td>0.373</td><td>2374M0fQpWi3dLnB54qaLX</td><td>7.95E-5</td><td>9</td><td>0.0481</td><td>-18.064</td><td>1</td><td>TOTO</td><td>1982-04-08</td><td>0.0323</td><td>92.717</td><td>4</td><td>0.732</td></tr><tr><td>0.415</td><td>To Pimp A Butterfly</td><td>0.624</td><td>261747</td><td>0.729</td><td>4tQcyj5488alHT1ZgFduzn</td><td>0.0</td><td>1</td><td>0.135</td><td>-4.747</td><td>1</td><td>Kendrick Lamar</td><td>2015-03-16</td><td>0.198</td><td>87.948</td><td>4</td><td>0.334</td></tr><tr><td>0.0774</td><td>2014 Forest Hills Drive</td><td>0.631</td><td>219173</td><td>0.7</td><td>30Chv2SmIry70YwtmtaKnj</td><td>1.19E-5</td><td>9</td><td>0.106</td><td>-8.565</td><td>0</td><td>J. Cole</td><td>2014-12-09</td><td>0.212</td><td>159.973</td><td>4</td><td>0.329</td></tr><tr><td>6.25E-4</td><td>Bù-Tik</td><td>0.468</td><td>252493</td><td>0.996</td><td>5osyylIRDheJVKO3xKbpNv</td><td>9.31E-6</td><td>11</td><td>0.225</td><td>-2.854</td><td>0</td><td>CHTHONIC</td><td>2013-01-01</td><td>0.246</td><td>150.008</td><td>4</td><td>0.0883</td></tr><tr><td>0.655</td><td>超級金曲精選</td><td>0.382</td><td>195933</td><td>0.44</td><td>358JbaA6nuwi1FCTUM12Hy</td><td>0.0</td><td>8</td><td>0.109</td><td>-8.734</td><td>1</td><td>Karen Mok</td><td>2011-08-22</td><td>0.0378</td><td>109.61</td><td>4</td><td>0.111</td></tr><tr><td>0.758</td><td>如果沒有你</td><td>0.507</td><td>287013</td><td>0.281</td><td>5u6hY0h8gUWfPQSdNuKgQb</td><td>0.0</td><td>11</td><td>0.211</td><td>-11.657</td><td>1</td><td>Karen Mok</td><td>2006-04-03</td><td>0.0307</td><td>125.893</td><td>4</td><td>0.264</td></tr><tr><td>0.554</td><td>含情莫莫.莫文蔚全精選集</td><td>0.718</td><td>242817</td><td>0.52</td><td>3aYrODYvFONIvLXMc9VwDv</td><td>9.36E-6</td><td>10</td><td>0.174</td><td>-9.431</td><td>1</td><td>Karen Mok</td><td>2002-03-14</td><td>0.0375</td><td>133.972</td><td>4</td><td>0.262</td></tr><tr><td>0.474</td><td>滾石香港黃金十年-李宗盛精選</td><td>0.51</td><td>256325</td><td>0.521</td><td>0KbPM4avkXu7RHal3cxiwk</td><td>0.0</td><td>2</td><td>0.098</td><td>-10.233</td><td>1</td><td>Jonathan Lee</td><td>2003-01-15</td><td>0.0328</td><td>119.971</td><td>4</td><td>0.182</td></tr><tr><td>0.123</td><td>good kid, m.A.A.d city (Deluxe)</td><td>0.716</td><td>313787</td><td>0.485</td><td>5ujh1I7NZH5agbwf7Hp8Hc</td><td>2.69E-5</td><td>1</td><td>0.604</td><td>-7.745</td><td>1</td><td>Kendrick Lamar</td><td>2012</td><td>0.404</td><td>74.132</td><td>4</td><td>0.26</td></tr><tr><td>0.0703</td><td>good kid, m.A.A.d city (Deluxe)</td><td>0.716</td><td>386907</td><td>0.531</td><td>0AOvNRgl0SMfOibWA5bP8o</td><td>0.0</td><td>7</td><td>0.224</td><td>-7.355</td><td>1</td><td>Kendrick Lamar</td><td>2012</td><td>0.122</td><td>71.994</td><td>4</td><td>0.344</td></tr><tr><td>0.0152</td><td>good kid, m.A.A.d city (Deluxe)</td><td>0.587</td><td>310720</td><td>0.698</td><td>712uvW1Vezq8WpQi38v2L9</td><td>0.0</td><td>1</td><td>0.442</td><td>-8.948</td><td>1</td><td>Kendrick Lamar</td><td>2012</td><td>0.0943</td><td>133.954</td><td>4</td><td>0.0985</td></tr><tr><td>0.11</td><td>To Pimp A Butterfly</td><td>0.752</td><td>300973</td><td>0.489</td><td>7uWVT3UkCAZyANvv0bdyQn</td><td>3.57E-6</td><td>1</td><td>0.202</td><td>-5.233</td><td>1</td><td>Kendrick Lamar</td><td>2015-03-16</td><td>0.137</td><td>108.005</td><td>4</td><td>0.373</td></tr><tr><td>2.89E-5</td><td>Takasago Army</td><td>0.274</td><td>261547</td><td>0.96</td><td>1yxuyQ66uaQbodCHLuaR8y</td><td>0.167</td><td>4</td><td>0.107</td><td>-3.327</td><td>0</td><td>CHTHONIC</td><td>2011-01-01</td><td>0.107</td><td>119.978</td><td>4</td><td>0.166</td></tr><tr><td>2.06E-4</td><td>Takasago Army</td><td>0.481</td><td>233720</td><td>0.97</td><td>0tXMh8dDYJfUF3B91PkTzE</td><td>0.03</td><td>0</td><td>0.105</td><td>-3.806</td><td>1</td><td>CHTHONIC</td><td>2011-01-01</td><td>0.0968</td><td>100.027</td><td>4</td><td>0.0653</td></tr><tr><td>1.38E-4</td><td>Takasago Army</td><td>0.448</td><td>253933</td><td>0.97</td><td>5NoRCvnqhNij6XIwlcr4P8</td><td>0.00184</td><td>10</td><td>0.0819</td><td>-3.495</td><td>0</td><td>CHTHONIC</td><td>2011-01-01</td><td>0.112</td><td>82.44</td><td>4</td><td>0.257</td></tr><tr><td>0.941</td><td>Joe Hisaishi Meets Kitano Films</td><td>0.309</td><td>337813</td><td>0.195</td><td>7vg4s7Nc18w2oyqp2C9riL</td><td>0.263</td><td>6</td><td>0.132</td><td>-17.329</td><td>0</td><td>Joe Hisaishi</td><td>2001-10-01</td><td>0.0412</td><td>151.621</td><td>4</td><td>0.0984</td></tr><tr><td>0.936</td><td>Joe Hisaishi Meets Kitano Films</td><td>0.354</td><td>383093</td><td>0.209</td><td>0XczFa7Cn7oBmJw1bBA6aU</td><td>0.944</td><td>9</td><td>0.107</td><td>-16.224</td><td>1</td><td>Joe Hisaishi</td><td>2001-10-01</td><td>0.0353</td><td>82.836</td><td>4</td><td>0.141</td></tr><tr><td>0.781</td><td>Section.80</td><td>0.607</td><td>173158</td><td>0.869</td><td>6cfVDaIdvDtYH91RqC6Wox</td><td>0.0</td><td>5</td><td>0.137</td><td>-5.271</td><td>1</td><td>Kendrick Lamar</td><td>2011-07-02</td><td>0.345</td><td>155.983</td><td>4</td><td>0.577</td></tr><tr><td>0.926</td><td>The Tokyo Concert</td><td>0.314</td><td>228253</td><td>0.0273</td><td>5EWcBYfePistjwchTjLjzo</td><td>0.8</td><td>4</td><td>0.126</td><td>-27.306</td><td>0</td><td>Joe Hisaishi</td><td>2002</td><td>0.0354</td><td>77.708</td><td>4</td><td>0.0399</td></tr><tr><td>0.541</td><td>Section.80</td><td>0.535</td><td>235921</td><td>0.696</td><td>3L2YOO6dDiB91M1AbQ0CCR</td><td>0.00521</td><td>5</td><td>0.63</td><td>-7.181</td><td>0</td><td>Kendrick Lamar</td><td>2011-07-02</td><td>0.0901</td><td>91.002</td><td>4</td><td>0.213</td></tr><tr><td>0.726</td><td>Section.80</td><td>0.383</td><td>304668</td><td>0.731</td><td>2QVYTN3Z0IGLVF7YEQN5EJ</td><td>0.0</td><td>1</td><td>0.504</td><td>-5.996</td><td>1</td><td>Kendrick Lamar</td><td>2011-07-02</td><td>0.201</td><td>176.781</td><td>4</td><td>0.306</td></tr><tr><td>9.41E-4</td><td>Invaders Must Die</td><td>0.545</td><td>216027</td><td>0.953</td><td>144adL7pGHEWRwute2wxzZ</td><td>0.117</td><td>7</td><td>0.281</td><td>-5.172</td><td>1</td><td>The Prodigy</td><td>2009-02-23</td><td>0.0441</td><td>140.002</td><td>4</td><td>0.558</td></tr><tr><td>0.00147</td><td>Experience</td><td>0.639</td><td>298227</td><td>0.872</td><td>3CL3PBAaY6l0ZuQ3EDw4cl</td><td>0.315</td><td>9</td><td>0.106</td><td>-10.968</td><td>1</td><td>The Prodigy</td><td>1992-09-21</td><td>0.0555</td><td>147.096</td><td>4</td><td>0.608</td></tr><tr><td>0.0091</td><td>The Fat of the Land - Expanded Edition</td><td>0.679</td><td>334800</td><td>0.822</td><td>5oPUBUzrAnwvlmMzl1VW7Y</td><td>0.871</td><td>9</td><td>0.0388</td><td>-6.117</td><td>1</td><td>The Prodigy</td><td>1997</td><td>0.0498</td><td>130.036</td><td>4</td><td>0.32</td></tr><tr><td>4.12E-4</td><td>Bù-Tik</td><td>0.49</td><td>278400</td><td>0.994</td><td>6MePjXqZHZ75Wh760v0A5L</td><td>4.15E-5</td><td>11</td><td>0.14</td><td>-2.868</td><td>0</td><td>CHTHONIC</td><td>2013-01-01</td><td>0.118</td><td>95.041</td><td>4</td><td>0.169</td></tr><tr><td>5.67E-4</td><td>Bù-Tik</td><td>0.457</td><td>323013</td><td>0.996</td><td>1ZB1rI6gMQziO7Sg9bYwFM</td><td>1.5E-4</td><td>11</td><td>0.364</td><td>-3.063</td><td>0</td><td>CHTHONIC</td><td>2013-01-01</td><td>0.0855</td><td>95.018</td><td>4</td><td>0.201</td></tr><tr><td>3.89E-5</td><td>Takasago Army</td><td>0.338</td><td>318813</td><td>0.968</td><td>5pjINIfDNHxUX3Fs62vXrc</td><td>0.0282</td><td>7</td><td>0.279</td><td>-2.61</td><td>1</td><td>CHTHONIC</td><td>2011-01-01</td><td>0.119</td><td>179.983</td><td>4</td><td>0.0832</td></tr><tr><td>2.76E-5</td><td>Seediq Bale</td><td>0.436</td><td>246093</td><td>0.95</td><td>5QYLxJAstOkbgWEdBH86LG</td><td>0.866</td><td>0</td><td>0.0674</td><td>-3.832</td><td>0</td><td>CHTHONIC</td><td>2006</td><td>0.0515</td><td>95.028</td><td>4</td><td>0.33</td></tr><tr><td>0.33</td><td>Section.80</td><td>0.609</td><td>215509</td><td>0.799</td><td>2Fw5S2gaOSZzdN5dFoC2dj</td><td>0.0</td><td>9</td><td>0.108</td><td>-6.883</td><td>1</td><td>Kendrick Lamar</td><td>2011-07-02</td><td>0.24</td><td>157.74</td><td>4</td><td>0.582</td></tr><tr><td>6.65E-5</td><td>We Were Exploding Anyway</td><td>0.433</td><td>637413</td><td>0.87</td><td>0oRsKI4cidNnYarPW8wO12</td><td>0.954</td><td>9</td><td>0.106</td><td>-10.174</td><td>1</td><td>65daysofstatic</td><td>2010-04-26</td><td>0.0551</td><td>134.0</td><td>4</td><td>0.0918</td></tr><tr><td>0.0325</td><td>Book of Ryan (Bonus Track Edition)</td><td>0.636</td><td>190039</td><td>0.804</td><td>7FaiQ23IHbxW2wZGtsmBc8</td><td>0.0</td><td>1</td><td>0.0939</td><td>-5.019</td><td>1</td><td>Royce Da 5'9\"</td><td>2018-05-04</td><td>0.193</td><td>90.876</td><td>4</td><td>0.342</td></tr><tr><td>0.115</td><td>KOD</td><td>0.719</td><td>216727</td><td>0.497</td><td>2UciqgwVDwro0fev3MFbxJ</td><td>0.0</td><td>8</td><td>0.0898</td><td>-7.661</td><td>1</td><td>J. Cole</td><td>2018-04-20</td><td>0.681</td><td>81.651</td><td>4</td><td>0.345</td></tr><tr><td>0.185</td><td>fam fam</td><td>0.473</td><td>193588</td><td>0.81</td><td>13SnsSRVv9pDPZmWQ6jPmS</td><td>0.0163</td><td>8</td><td>0.134</td><td>-4.639</td><td>1</td><td>never young beach</td><td>2016-06-08</td><td>0.0324</td><td>98.012</td><td>4</td><td>0.809</td></tr><tr><td>0.0741</td><td>YASHINOKI HOUSE</td><td>0.393</td><td>214720</td><td>0.582</td><td>6WSqMiLMpRgfmUx7ceUeLE</td><td>0.138</td><td>5</td><td>0.297</td><td>-9.64</td><td>0</td><td>never young beach</td><td>2015-05-13</td><td>0.056</td><td>89.058</td><td>4</td><td>0.475</td></tr><tr><td>0.128</td><td>YASHINOKI HOUSE</td><td>0.624</td><td>252467</td><td>0.85</td><td>7LUWoJeF00KOeu3jc7nb5E</td><td>0.467</td><td>5</td><td>0.242</td><td>-6.029</td><td>1</td><td>never young beach</td><td>2015-05-13</td><td>0.0352</td><td>118.029</td><td>4</td><td>0.941</td></tr><tr><td>0.0288</td><td>THE KIDS</td><td>0.681</td><td>297333</td><td>0.938</td><td>0albLGvYx6ftOUJ7KF0i5I</td><td>2.64E-4</td><td>5</td><td>0.0634</td><td>-4.246</td><td>1</td><td>Suchmos</td><td>2017-01-25</td><td>0.0557</td><td>122.991</td><td>4</td><td>0.6</td></tr><tr><td>0.00232</td><td>Shoulders & Giants</td><td>0.539</td><td>244200</td><td>0.685</td><td>4Ol7eI6V2PTN2FdVe84iEt</td><td>0.909</td><td>6</td><td>0.274</td><td>-7.128</td><td>1</td><td>Collapse Under The Empire</td><td>2011-10-21</td><td>0.0322</td><td>120.001</td><td>4</td><td>0.191</td></tr><tr><td>0.329</td><td>Dive</td><td>0.659</td><td>316919</td><td>0.716</td><td>6koWevx9MqN6efQ6qreIbm</td><td>0.909</td><td>9</td><td>0.127</td><td>-7.816</td><td>1</td><td>Tycho</td><td>2011-10-04</td><td>0.0317</td><td>139.952</td><td>4</td><td>0.382</td></tr><tr><td>0.00448</td><td>Passage</td><td>0.165</td><td>286039</td><td>0.645</td><td>6MY3eDN57rgjnZvD3zM5vp</td><td>0.861</td><td>5</td><td>0.0953</td><td>-12.527</td><td>0</td><td>H A : Z E</td><td>2018-09-20</td><td>0.0504</td><td>99.943</td><td>4</td><td>0.0578</td></tr><tr><td>0.00712</td><td>HIStory - PAST, PRESENT AND FUTURE - BOOK I</td><td>0.802</td><td>247133</td><td>0.869</td><td>3FvQH46A4B37eNHjooIXcu</td><td>0.241</td><td>8</td><td>0.0585</td><td>-5.03</td><td>1</td><td>Michael Jackson</td><td>1995-06-16</td><td>0.0457</td><td>114.139</td><td>4</td><td>0.339</td></tr><tr><td>0.247</td><td>Bad 25th Anniversary</td><td>0.853</td><td>257760</td><td>0.981</td><td>2bCQHF9gdG5BNDVuEIEnNk</td><td>0.468</td><td>8</td><td>0.306</td><td>-3.947</td><td>1</td><td>Michael Jackson</td><td>1987-08-31</td><td>0.0751</td><td>118.193</td><td>4</td><td>0.595</td></tr><tr><td>0.0236</td><td>Thriller 25 Super Deluxe Edition</td><td>0.92</td><td>293827</td><td>0.654</td><td>5ChkMS8OtdzJeqyybCc9R5</td><td>0.0158</td><td>11</td><td>0.0359</td><td>-3.051</td><td>0</td><td>Michael Jackson</td><td>1982-11-30</td><td>0.0401</td><td>117.046</td><td>4</td><td>0.847</td></tr><tr><td>0.121</td><td>Make These Things Alright</td><td>0.466</td><td>468667</td><td>0.701</td><td>3zmlYVsYnkAFDZZCQWZklG</td><td>0.573</td><td>10</td><td>0.105</td><td>-7.868</td><td>1</td><td>MIAOU</td><td>2005-08-10</td><td>0.0307</td><td>175.224</td><td>4</td><td>0.184</td></tr><tr><td>0.978</td><td>Hymn to the Immortal Wind (Anniversary Edition)</td><td>0.252</td><td>234307</td><td>0.19</td><td>5d5T6lzxELcv2LNibrwhCR</td><td>0.896</td><td>4</td><td>0.0497</td><td>-15.414</td><td>0</td><td>MONO</td><td>2009-03-24</td><td>0.0345</td><td>116.133</td><td>4</td><td>0.181</td></tr><tr><td>0.854</td><td>For My Parents</td><td>0.394</td><td>490093</td><td>0.48</td><td>3GkYagH9CwQ3ONYcbPjEBy</td><td>0.869</td><td>5</td><td>0.125</td><td>-8.313</td><td>1</td><td>MONO</td><td>2012-09-04</td><td>0.0273</td><td>60.983</td><td>4</td><td>0.0911</td></tr><tr><td>0.447</td><td>For My Parents</td><td>0.18</td><td>723680</td><td>0.337</td><td>4RHtn7K8Rw8LBC49tdIMTj</td><td>0.806</td><td>11</td><td>0.0877</td><td>-10.782</td><td>0</td><td>MONO</td><td>2012-09-04</td><td>0.0406</td><td>101.685</td><td>4</td><td>0.0391</td></tr><tr><td>0.829</td><td>Spiritual State</td><td>0.59</td><td>391893</td><td>0.396</td><td>0jkaVZIYepDPnB140eR1Uc</td><td>0.0207</td><td>0</td><td>0.28</td><td>-12.62</td><td>1</td><td>Nujabes</td><td>2011-12-03</td><td>0.0411</td><td>99.971</td><td>3</td><td>0.518</td></tr><tr><td>0.727</td><td>Modal Soul</td><td>0.866</td><td>336867</td><td>0.691</td><td>4xlpJ99yL9xYQtzG6c3hwk</td><td>0.503</td><td>5</td><td>0.0737</td><td>-4.371</td><td>0</td><td>Nujabes</td><td>2005-11-11</td><td>0.0478</td><td>94.997</td><td>4</td><td>0.87</td></tr><tr><td>0.655</td><td>Modal Soul</td><td>0.565</td><td>175360</td><td>0.749</td><td>2ej1A2Ze6P2EOW7KfIosZR</td><td>0.432</td><td>10</td><td>0.106</td><td>-6.629</td><td>0</td><td>Nujabes</td><td>2005-11-11</td><td>0.0769</td><td>180.598</td><td>4</td><td>0.881</td></tr><tr><td>0.521</td><td>The Dark Side of the Moon</td><td>0.358</td><td>413947</td><td>0.48</td><td>3TO7bbrUKrOSPGRTB5MeCz</td><td>0.00428</td><td>9</td><td>0.178</td><td>-11.79</td><td>1</td><td>Pink Floyd</td><td>1973-03-01</td><td>0.0849</td><td>120.317</td><td>4</td><td>0.356</td></tr><tr><td>0.0241</td><td>The Dark Side of the Moon</td><td>0.469</td><td>382834</td><td>0.537</td><td>0vFOzaXqZHahrZp6enQwQb</td><td>0.00201</td><td>9</td><td>0.269</td><td>-10.421</td><td>1</td><td>Pink Floyd</td><td>1973-03-01</td><td>0.152</td><td>124.193</td><td>1</td><td>0.783</td></tr><tr><td>0.735</td><td>Wish You Were Here</td><td>0.481</td><td>334744</td><td>0.262</td><td>6mFkJmJqdDVQ1REhVfGgd1</td><td>0.0114</td><td>7</td><td>0.832</td><td>-15.73</td><td>1</td><td>Pink Floyd</td><td>1975-09-12</td><td>0.0414</td><td>122.883</td><td>4</td><td>0.375</td></tr><tr><td>0.0781</td><td>The Wall</td><td>0.694</td><td>238747</td><td>0.394</td><td>4gMgiXfqyzZLMhsksGmbQV</td><td>6.77E-4</td><td>0</td><td>0.247</td><td>-15.881</td><td>1</td><td>Pink Floyd</td><td>1979-11-30</td><td>0.0428</td><td>104.126</td><td>4</td><td>0.719</td></tr><tr><td>0.679</td><td>緩飆公路</td><td>0.268</td><td>335644</td><td>0.403</td><td>548JE2wXkuZVCWN1LJ0Tjn</td><td>0.697</td><td>7</td><td>0.106</td><td>-7.533</td><td>1</td><td>U.TA屋塔</td><td>2015-11-23</td><td>0.0288</td><td>99.991</td><td>4</td><td>0.0518</td></tr><tr><td>0.00478</td><td>The Crocodile Society of Aphasia</td><td>0.261</td><td>318507</td><td>0.41</td><td>1kFfPJ9narOMIRsWtLnqNG</td><td>0.635</td><td>8</td><td>0.111</td><td>-8.684</td><td>1</td><td>Aphasia</td><td>2008-09-19</td><td>0.0318</td><td>97.937</td><td>3</td><td>0.11</td></tr><tr><td>0.0121</td><td>The Crocodile Society of Aphasia</td><td>0.44</td><td>373867</td><td>0.387</td><td>5WckSxRPduEmRe9o09QyIw</td><td>0.781</td><td>6</td><td>0.104</td><td>-9.521</td><td>1</td><td>Aphasia</td><td>2008-09-19</td><td>0.0341</td><td>150.046</td><td>4</td><td>0.219</td></tr><tr><td>0.0494</td><td>霧 Mist</td><td>0.592</td><td>299348</td><td>0.591</td><td>21wnMET16QQBJTIqVZiEX3</td><td>0.527</td><td>9</td><td>0.111</td><td>-9.623</td><td>1</td><td>U.TA屋塔</td><td>2018-09-27</td><td>0.0271</td><td>135.936</td><td>4</td><td>0.309</td></tr><tr><td>0.94</td><td>緩飆公路</td><td>0.183</td><td>199489</td><td>0.36</td><td>20xbCnueVntggFxCG5q5pM</td><td>0.81</td><td>7</td><td>0.0863</td><td>-10.744</td><td>1</td><td>U.TA屋塔</td><td>2015-11-23</td><td>0.0292</td><td>80.056</td><td>4</td><td>0.164</td></tr><tr><td>0.253</td><td>鏡中鏡</td><td>0.626</td><td>194253</td><td>0.984</td><td>2SgcUFt0YfU0HyjejS1l4m</td><td>0.977</td><td>4</td><td>0.233</td><td>-6.429</td><td>0</td><td>skip skip ben ben</td><td>2015-12-25</td><td>0.0287</td><td>98.461</td><td>4</td><td>0.932</td></tr><tr><td>1.76E-4</td><td>鏡中鏡</td><td>0.419</td><td>264347</td><td>0.828</td><td>5Ao44eDAPlPaYTrVkPUx7g</td><td>0.863</td><td>9</td><td>0.0701</td><td>-6.486</td><td>1</td><td>skip skip ben ben</td><td>2015-12-25</td><td>0.0345</td><td>139.871</td><td>4</td><td>0.626</td></tr><tr><td>0.186</td><td>鏡中鏡</td><td>0.53</td><td>267133</td><td>0.856</td><td>0vzRZqW6jCrZyUQ0P4C5JI</td><td>0.943</td><td>9</td><td>0.109</td><td>-7.314</td><td>1</td><td>skip skip ben ben</td><td>2015-12-25</td><td>0.0358</td><td>121.32</td><td>4</td><td>0.64</td></tr><tr><td>0.00912</td><td>鏡中鏡</td><td>0.325</td><td>349320</td><td>0.509</td><td>0ge6V3zOpN3dE7KBSYzriY</td><td>0.324</td><td>9</td><td>0.106</td><td>-7.108</td><td>1</td><td>skip skip ben ben</td><td>2015-12-25</td><td>0.0316</td><td>138.967</td><td>4</td><td>0.23</td></tr><tr><td>0.917</td><td>鏡中鏡</td><td>0.217</td><td>287453</td><td>0.683</td><td>2X5mGTJZ7xT24EWNimywxf</td><td>0.966</td><td>4</td><td>0.305</td><td>-10.443</td><td>1</td><td>skip skip ben ben</td><td>2015-12-25</td><td>0.038</td><td>154.67</td><td>4</td><td>0.25</td></tr><tr><td>0.0871</td><td>耳機裡的新浪潮</td><td>0.681</td><td>338973</td><td>0.729</td><td>2nlJaWvL8g2FDV3opYrYAg</td><td>5.65E-5</td><td>9</td><td>0.099</td><td>-6.367</td><td>1</td><td>1976</td><td>1976</td><td>0.0291</td><td>132.969</td><td>4</td><td>0.373</td></tr><tr><td>0.617</td><td>耳機裡的新浪潮</td><td>0.681</td><td>280773</td><td>0.573</td><td>1swcsAvbp8OUpGKmu1UDTX</td><td>7.02E-6</td><td>0</td><td>0.132</td><td>-8.019</td><td>1</td><td>1976</td><td>1976</td><td>0.0266</td><td>111.99</td><td>4</td><td>0.47</td></tr><tr><td>0.0031</td><td>1976這個星球</td><td>0.555</td><td>357402</td><td>0.656</td><td>66PwaR9NriPRuC6vWZWl7w</td><td>8.32E-4</td><td>9</td><td>0.183</td><td>-5.877</td><td>1</td><td>1976</td><td>2008-10-17</td><td>0.0256</td><td>93.998</td><td>4</td><td>0.415</td></tr><tr><td>4.91E-4</td><td>1976這個星球</td><td>0.532</td><td>248128</td><td>0.888</td><td>1a4JCrZSISAm0hvfXYoEAE</td><td>0.00111</td><td>9</td><td>0.053</td><td>-5.57</td><td>1</td><td>1976</td><td>2008-10-17</td><td>0.0448</td><td>198.09</td><td>4</td><td>0.86</td></tr><tr><td>0.133</td><td>前王子</td><td>0.609</td><td>301400</td><td>0.843</td><td>5vFm8OhpsCsTPvA6KLKCNr</td><td>0.0623</td><td>11</td><td>0.0825</td><td>-8.348</td><td>1</td><td>1976</td><td>2014-12-31</td><td>0.0542</td><td>152.0</td><td>4</td><td>0.599</td></tr><tr><td>0.0095</td><td>前王子</td><td>0.583</td><td>257933</td><td>0.808</td><td>0sKfdyNKwyldE7DMDyfLxR</td><td>0.0198</td><td>9</td><td>0.131</td><td>-6.942</td><td>1</td><td>1976</td><td>2014-12-31</td><td>0.0356</td><td>147.977</td><td>4</td><td>0.426</td></tr><tr><td>0.453</td><td>Write About Love</td><td>0.555</td><td>273973</td><td>0.395</td><td>0YFRBmUC8y5OOl4LHH8JFy</td><td>1.0E-6</td><td>3</td><td>0.158</td><td>-10.507</td><td>1</td><td>Belle & Sebastian</td><td>2010-10-12</td><td>0.0342</td><td>146.661</td><td>4</td><td>0.278</td></tr><tr><td>0.00183</td><td>You Forgot It In People</td><td>0.327</td><td>382240</td><td>0.585</td><td>3Cl35xMXJUEhpPaYBeNUQR</td><td>0.281</td><td>0</td><td>0.0588</td><td>-6.957</td><td>1</td><td>Broken Social Scene</td><td>2003-03-11</td><td>0.0287</td><td>77.537</td><td>4</td><td>0.153</td></tr><tr><td>0.419</td><td>Bee Hives</td><td>0.38</td><td>454933</td><td>0.424</td><td>5IH0ic5hh8AQ0UDo6rLLtE</td><td>0.629</td><td>0</td><td>0.104</td><td>-11.047</td><td>1</td><td>Broken Social Scene</td><td>2004-03-24</td><td>0.0389</td><td>123.917</td><td>4</td><td>0.0544</td></tr><tr><td>0.0249</td><td>Broken Social Scene</td><td>0.625</td><td>175533</td><td>0.806</td><td>0QmqJw3OSMpZ3sfQLs38zc</td><td>0.367</td><td>0</td><td>0.135</td><td>-8.694</td><td>1</td><td>Broken Social Scene</td><td>2005-10-11</td><td>0.0294</td><td>130.001</td><td>4</td><td>0.972</td></tr><tr><td>1.87E-4</td><td>Forgiveness Rock Record</td><td>0.605</td><td>229947</td><td>0.781</td><td>66QkRuGKpNWIrnnE3E5scY</td><td>0.00236</td><td>4</td><td>0.693</td><td>-7.585</td><td>0</td><td>Broken Social Scene</td><td>2010-05-04</td><td>0.0457</td><td>139.61</td><td>4</td><td>0.689</td></tr><tr><td>0.0893</td><td>Forgiveness Rock Record</td><td>0.709</td><td>309307</td><td>0.384</td><td>0ey9VL7lFerteaCVvahKYV</td><td>0.848</td><td>5</td><td>0.0961</td><td>-12.427</td><td>1</td><td>Broken Social Scene</td><td>2010-05-04</td><td>0.0301</td><td>87.961</td><td>4</td><td>0.691</td></tr><tr><td>6.57E-5</td><td>Forgiveness Rock Record</td><td>0.493</td><td>223653</td><td>0.87</td><td>27KI0nkiNMAhuDIGRlb3iu</td><td>0.913</td><td>7</td><td>0.38</td><td>-7.592</td><td>1</td><td>Broken Social Scene</td><td>2010-05-04</td><td>0.0428</td><td>134.132</td><td>4</td><td>0.561</td></tr><tr><td>0.0287</td><td>Forgiveness Rock Record</td><td>0.573</td><td>407760</td><td>0.411</td><td>6Ko9Gi0CD77okK0hlW9SoL</td><td>0.0817</td><td>0</td><td>0.265</td><td>-11.281</td><td>1</td><td>Broken Social Scene</td><td>2010-05-04</td><td>0.0335</td><td>117.925</td><td>4</td><td>0.167</td></tr><tr><td>0.706</td><td>赵小雷</td><td>0.648</td><td>312933</td><td>0.512</td><td>2XxnjLGOBUHCE9dnAoZSBk</td><td>0.0</td><td>5</td><td>0.102</td><td>-7.824</td><td>1</td><td>Zhao Lei</td><td>2011-08-07</td><td>0.0274</td><td>123.096</td><td>4</td><td>0.315</td></tr><tr><td>0.0166</td><td>Imsomniac doze</td><td>0.426</td><td>364453</td><td>0.276</td><td>52REYef8RbEmyV0BzL2XFm</td><td>0.774</td><td>7</td><td>0.106</td><td>-9.326</td><td>1</td><td>envy</td><td>2006-08-29</td><td>0.034</td><td>66.003</td><td>4</td><td>0.0396</td></tr><tr><td>2.26E-4</td><td>Imsomniac doze</td><td>0.273</td><td>428093</td><td>0.38</td><td>3bT2twYiL3ZqhHBj0fBHTX</td><td>0.559</td><td>5</td><td>0.135</td><td>-7.611</td><td>1</td><td>envy</td><td>2006-08-29</td><td>0.0372</td><td>123.062</td><td>3</td><td>0.0518</td></tr><tr><td>6.42E-4</td><td>facelife</td><td>0.54</td><td>201800</td><td>0.94</td><td>0GKMsGWQqlxDo4F2joyuqz</td><td>0.0359</td><td>9</td><td>0.337</td><td>-2.652</td><td>0</td><td>punkhoo</td><td>2016-04-01</td><td>0.125</td><td>97.47</td><td>4</td><td>0.655</td></tr><tr><td>0.0267</td><td>比獸還帥</td><td>0.548</td><td>285667</td><td>0.588</td><td>7FHl661vm7oGsOuItCS0zR</td><td>0.257</td><td>2</td><td>0.116</td><td>-5.442</td><td>1</td><td>八十八顆芭樂籽</td><td>2012-06-01</td><td>0.0282</td><td>127.994</td><td>4</td><td>0.0855</td></tr><tr><td>0.043</td><td>比獸還帥</td><td>0.53</td><td>323973</td><td>0.777</td><td>4DWuL8XINkGxiXz65zERv5</td><td>0.00156</td><td>0</td><td>0.115</td><td>-5.929</td><td>1</td><td>八十八顆芭樂籽</td><td>2012-06-01</td><td>0.031</td><td>129.959</td><td>4</td><td>0.273</td></tr><tr><td>0.406</td><td>李宗盛 「既然青春留不住-還是做個大叔好」演唱會巡迴影音紀錄 LIVE</td><td>0.423</td><td>455925</td><td>0.511</td><td>3f72wmAvu7gXd6cjDadiYM</td><td>0.00301</td><td>10</td><td>0.181</td><td>-9.98</td><td>1</td><td>Jonathan Lee</td><td>2016-11-18</td><td>0.0337</td><td>141.625</td><td>3</td><td>0.14</td></tr><tr><td>0.678</td><td>李宗盛 「既然青春留不住-還是做個大叔好」演唱會巡迴影音紀錄 LIVE</td><td>0.638</td><td>252938</td><td>0.474</td><td>2Dl6BWyLyqfoHPR9YKo7Vk</td><td>0.0012</td><td>7</td><td>0.185</td><td>-10.411</td><td>0</td><td>Jonathan Lee</td><td>2016-11-18</td><td>0.0448</td><td>87.983</td><td>4</td><td>0.306</td></tr><tr><td>0.0543</td><td>醜奴兒</td><td>0.564</td><td>251053</td><td>0.676</td><td>34dK493M256BU2UFA9XJ06</td><td>0.0524</td><td>11</td><td>0.106</td><td>-10.49</td><td>0</td><td>No Party For Cao Dong</td><td>2016-02-19</td><td>0.0647</td><td>160.039</td><td>4</td><td>0.286</td></tr><tr><td>0.847</td><td>The Revenant (Original Motion Picture Soundtrack)</td><td>0.0691</td><td>161850</td><td>0.114</td><td>1kkyoN3zRGRgQ7DjC5qXAl</td><td>0.749</td><td>4</td><td>0.0992</td><td>-26.274</td><td>0</td><td>Ryuichi Sakamoto</td><td>2015-12-25</td><td>0.0717</td><td>78.538</td><td>4</td><td>0.0394</td></tr><tr><td>0.103</td><td>夜間航路</td><td>0.647</td><td>243333</td><td>0.574</td><td>1NMYxZgo5IQgFgOcZdwZ9E</td><td>0.87</td><td>9</td><td>0.0884</td><td>-7.686</td><td>0</td><td>fox capture plan</td><td>2019-05-22</td><td>0.0322</td><td>91.128</td><td>4</td><td>0.76</td></tr><tr><td>0.429</td><td>Modal Soul</td><td>0.842</td><td>257893</td><td>0.464</td><td>6eGMwVVABqVTe9bWRIm498</td><td>0.789</td><td>2</td><td>0.0978</td><td>-12.628</td><td>1</td><td>Nujabes</td><td>2005-11-11</td><td>0.0418</td><td>93.966</td><td>4</td><td>0.771</td></tr><tr><td>0.952</td><td>1996</td><td>0.479</td><td>286667</td><td>0.174</td><td>17oLsEzzlGFlrBKViCzmGc</td><td>0.841</td><td>10</td><td>0.115</td><td>-18.021</td><td>0</td><td>Ryuichi Sakamoto</td><td>1996</td><td>0.0371</td><td>103.577</td><td>4</td><td>0.296</td></tr><tr><td>0.757</td><td>安和桥北</td><td>0.331</td><td>252800</td><td>0.245</td><td>0yy2V7si69R9AJwwiOOW5K</td><td>8.48E-6</td><td>7</td><td>0.173</td><td>-10.695</td><td>1</td><td>Dongye Song</td><td>2013-08-30</td><td>0.0315</td><td>184.355</td><td>3</td><td>0.257</td></tr><tr><td>0.779</td><td>安和桥北</td><td>0.597</td><td>310213</td><td>0.229</td><td>2M6vMxGBuWv3IeRhNsEYIm</td><td>8.45E-6</td><td>4</td><td>0.111</td><td>-13.48</td><td>1</td><td>Dongye Song</td><td>2013-08-30</td><td>0.031</td><td>114.081</td><td>4</td><td>0.303</td></tr><tr><td>0.845</td><td>安和桥北</td><td>0.523</td><td>253067</td><td>0.218</td><td>7dIEZMOFeo4XgXY2Su3I7I</td><td>0.00367</td><td>4</td><td>0.108</td><td>-12.796</td><td>0</td><td>Dongye Song</td><td>2013-08-30</td><td>0.0299</td><td>131.987</td><td>4</td><td>0.26</td></tr><tr><td>8.96E-4</td><td>娛樂世界</td><td>0.527</td><td>223067</td><td>0.957</td><td>2Q60r7hwybxk39KBrVmUsF</td><td>0.00632</td><td>9</td><td>0.0842</td><td>-5.168</td><td>1</td><td>林強</td><td>1994-03-18</td><td>0.0313</td><td>115.244</td><td>4</td><td>0.504</td></tr><tr><td>0.0168</td><td>娛樂世界</td><td>0.571</td><td>292000</td><td>0.74</td><td>4M6O1LWJdCUG1xPM6Me6qv</td><td>9.13E-5</td><td>9</td><td>0.0495</td><td>-6.063</td><td>1</td><td>林強</td><td>1994-03-18</td><td>0.0283</td><td>93.118</td><td>4</td><td>0.657</td></tr><tr><td>0.0579</td><td>60km/h</td><td>0.52</td><td>463613</td><td>0.54</td><td>4NfMwbwXBYAgTAEyBnfokZ</td><td>0.752</td><td>11</td><td>0.304</td><td>-10.345</td><td>0</td><td>晨曦光廊</td><td>2013-12-11</td><td>0.0289</td><td>135.031</td><td>4</td><td>0.0932</td></tr><tr><td>0.00157</td><td>Seeds</td><td>0.562</td><td>398827</td><td>0.599</td><td>7bpSTscilgO1qw6wzwvlhM</td><td>0.855</td><td>6</td><td>0.112</td><td>-7.211</td><td>1</td><td>AIRY</td><td>2018-10-29</td><td>0.0283</td><td>113.935</td><td>4</td><td>0.383</td></tr><tr><td>0.00873</td><td>Artefactos - 遺物</td><td>0.547</td><td>239613</td><td>0.762</td><td>5YZFkMgTe0jMIqg0qEebSn</td><td>0.116</td><td>1</td><td>0.108</td><td>-9.235</td><td>0</td><td>Duda Deportiva</td><td>2017-04-11</td><td>0.0405</td><td>69.961</td><td>4</td><td>0.532</td></tr><tr><td>0.002</td><td>Artefactos - 遺物</td><td>0.379</td><td>287373</td><td>0.646</td><td>7rUSCTWoEm0jPUOhXGP1GL</td><td>0.126</td><td>9</td><td>0.145</td><td>-8.372</td><td>1</td><td>Duda Deportiva</td><td>2017-04-11</td><td>0.0364</td><td>169.97</td><td>4</td><td>0.275</td></tr><tr><td>0.0695</td><td>窮的人類</td><td>0.547</td><td>266500</td><td>0.721</td><td>0G3qex5mMIajq6ZjMlKcRo</td><td>7.04E-6</td><td>2</td><td>0.0871</td><td>-4.209</td><td>1</td><td>老貓偵探社</td><td>2014-10-16</td><td>0.0307</td><td>119.99</td><td>4</td><td>0.232</td></tr><tr><td>0.00976</td><td>沒路</td><td>0.447</td><td>247880</td><td>0.874</td><td>6tKl0wBmHNIScSmKRlSlHC</td><td>7.14E-4</td><td>2</td><td>0.0975</td><td>-1.977</td><td>1</td><td>非人物種</td><td>2012</td><td>0.0582</td><td>151.82</td><td>4</td><td>0.517</td></tr><tr><td>0.541</td><td>月光</td><td>0.658</td><td>285293</td><td>0.774</td><td>3dBd4ZCkpr1NPOaTXSZY3W</td><td>2.96E-5</td><td>6</td><td>0.242</td><td>-6.157</td><td>1</td><td>Soft Lipa</td><td>2010-10-08</td><td>0.0509</td><td>94.925</td><td>4</td><td>0.654</td></tr><tr><td>0.198</td><td>ALL-AMERIKKKAN BADA$$</td><td>0.722</td><td>278112</td><td>0.654</td><td>5csdNgCD64XzhsyoRlhzsa</td><td>5.73E-6</td><td>11</td><td>0.0891</td><td>-5.419</td><td>0</td><td>Joey Bada$$</td><td>2017-04-07</td><td>0.173</td><td>81.984</td><td>4</td><td>0.418</td></tr><tr><td>3.33E-5</td><td>Langsom Dans</td><td>0.374</td><td>242809</td><td>0.684</td><td>1BvINpYvLExqU1tcQvpEIB</td><td>1.08E-4</td><td>7</td><td>0.244</td><td>-7.107</td><td>0</td><td>Gliss</td><td>2013-01-22</td><td>0.0334</td><td>77.993</td><td>4</td><td>0.207</td></tr><tr><td>0.303</td><td>Happenstance</td><td>0.624</td><td>252320</td><td>0.414</td><td>6tWdejsBkUFKHSMtjwm1hc</td><td>1.11E-4</td><td>3</td><td>0.0726</td><td>-7.943</td><td>1</td><td>Rachael Yamagata</td><td>2004-06-08</td><td>0.0314</td><td>119.949</td><td>3</td><td>0.4</td></tr><tr><td>0.542</td><td>Happenstance</td><td>0.565</td><td>240387</td><td>0.333</td><td>6aNQfIf6yAaNjdR3ASPzob</td><td>0.0111</td><td>0</td><td>0.142</td><td>-9.788</td><td>1</td><td>Rachael Yamagata</td><td>2004-06-08</td><td>0.0293</td><td>107.961</td><td>4</td><td>0.417</td></tr><tr><td>0.557</td><td>X&Y</td><td>0.314</td><td>274176</td><td>0.563</td><td>2rxp56vVQp1zzumJ0eHLmw</td><td>0.00811</td><td>6</td><td>0.366</td><td>-6.81</td><td>0</td><td>Coldplay</td><td>2005-06-07</td><td>0.033</td><td>76.796</td><td>4</td><td>0.0869</td></tr><tr><td>0.163</td><td>X&Y</td><td>0.209</td><td>295533</td><td>0.418</td><td>7LVHVU3tWfcxj5aiPFEW4Q</td><td>0.00195</td><td>3</td><td>0.113</td><td>-8.74</td><td>1</td><td>Coldplay</td><td>2005-06-07</td><td>0.0338</td><td>138.265</td><td>4</td><td>0.123</td></tr><tr><td>0.727</td><td>A Rush of Blood to the Head</td><td>0.56</td><td>309600</td><td>0.442</td><td>75JFxkI2RXiU7L9VXzMkle</td><td>1.71E-5</td><td>5</td><td>0.11</td><td>-7.224</td><td>1</td><td>Coldplay</td><td>2002-08-08</td><td>0.0243</td><td>146.448</td><td>4</td><td>0.212</td></tr><tr><td>0.00239</td><td>Parachutes</td><td>0.429</td><td>266773</td><td>0.661</td><td>3AJwUDP919kvQ9QcozQPxg</td><td>1.3E-4</td><td>11</td><td>0.234</td><td>-7.227</td><td>1</td><td>Coldplay</td><td>2000-07-10</td><td>0.0281</td><td>173.365</td><td>4</td><td>0.285</td></tr><tr><td>0.588</td><td>Harmless Melodies</td><td>0.576</td><td>280074</td><td>0.535</td><td>7l5j3FapCyr6HxUgoAynM2</td><td>0.0106</td><td>9</td><td>0.31</td><td>-8.392</td><td>1</td><td>Yellow Days</td><td>2016-11-18</td><td>0.041</td><td>139.939</td><td>4</td><td>0.196</td></tr><tr><td>0.182</td><td>Harmless Melodies</td><td>0.577</td><td>318147</td><td>0.604</td><td>1ahzHj4rfljE8w4ZwpEjOM</td><td>0.00211</td><td>3</td><td>0.205</td><td>-7.84</td><td>0</td><td>Yellow Days</td><td>2016-11-18</td><td>0.0332</td><td>99.997</td><td>4</td><td>0.351</td></tr><tr><td>0.858</td><td>Tha Carter IV (Deluxe)</td><td>0.331</td><td>228093</td><td>0.622</td><td>6MreoQf8oixWI2xRcw3Fv1</td><td>0.0</td><td>5</td><td>0.104</td><td>-7.291</td><td>0</td><td>Lil Wayne</td><td>2011-01-01</td><td>0.092</td><td>64.468</td><td>3</td><td>0.388</td></tr><tr><td>0.0534</td><td>Kanye West Presents Good Music Cruel Summer</td><td>0.66</td><td>293613</td><td>0.539</td><td>65rRB2mspD309xE6YimZTl</td><td>0.0</td><td>9</td><td>0.222</td><td>-5.947</td><td>0</td><td>Various Artists</td><td>2012-01-01</td><td>0.324</td><td>109.318</td><td>5</td><td>0.307</td></tr><tr><td>0.00359</td><td>Scorpion</td><td>0.758</td><td>223240</td><td>0.49</td><td>4ksuI04WMvUnJbHQjgs3L5</td><td>6.61E-6</td><td>11</td><td>0.292</td><td>-9.877</td><td>1</td><td>Drake</td><td>2018-06-29</td><td>0.139</td><td>140.116</td><td>4</td><td>0.335</td></tr><tr><td>0.402</td><td>1992-1998</td><td>0.673</td><td>260012</td><td>0.667</td><td>5p9RqOp2OyvB435c2wChs1</td><td>0.226</td><td>0</td><td>0.129</td><td>-8.623</td><td>1</td><td>Bedhead</td><td>2014-11-11</td><td>0.0323</td><td>108.881</td><td>4</td><td>0.741</td></tr><tr><td>0.538</td><td>Plastic Ono Band</td><td>0.684</td><td>112040</td><td>0.21</td><td>4bN43jYf41eIjJZ3UXQpuA</td><td>0.031</td><td>1</td><td>0.143</td><td>-18.204</td><td>0</td><td>John Lennon</td><td>1970-12-11</td><td>0.0841</td><td>83.383</td><td>4</td><td>0.681</td></tr><tr><td>0.0628</td><td>Summerteeth</td><td>0.376</td><td>282880</td><td>0.537</td><td>1LhMScqQCHh1u1CZA3PJTu</td><td>1.49E-4</td><td>7</td><td>0.107</td><td>-6.203</td><td>1</td><td>Wilco</td><td>1999-03-08</td><td>0.0272</td><td>73.604</td><td>4</td><td>0.349</td></tr><tr><td>0.00617</td><td>Yuck (Deluxe Edition)</td><td>0.639</td><td>206933</td><td>0.716</td><td>1vFk4pE0SGvoQapNYUNaq5</td><td>0.00729</td><td>7</td><td>0.547</td><td>-6.322</td><td>1</td><td>Yuck</td><td>2011-01-01</td><td>0.0312</td><td>117.967</td><td>4</td><td>0.425</td></tr><tr><td>0.0311</td><td>Southern Skies</td><td>0.607</td><td>305738</td><td>0.309</td><td>0OcP0ZD8f5paG9taHQNspu</td><td>0.575</td><td>0</td><td>0.117</td><td>-14.491</td><td>1</td><td>Yuck</td><td>2014-04-14</td><td>0.0503</td><td>97.997</td><td>4</td><td>0.0981</td></tr><tr><td>0.0121</td><td>The Stone Roses</td><td>0.492</td><td>292800</td><td>0.862</td><td>758wEKVqfYopJIHYWdLVd4</td><td>0.213</td><td>4</td><td>0.228</td><td>-9.158</td><td>0</td><td>The Stone Roses</td><td>1989-05-02</td><td>0.0273</td><td>112.598</td><td>4</td><td>0.591</td></tr><tr><td>1.56E-5</td><td>Definitely Maybe (Remastered)</td><td>0.289</td><td>289147</td><td>0.76</td><td>2wKeVnM8OBoGjGm8Qvqhi5</td><td>0.0378</td><td>2</td><td>0.16</td><td>-2.31</td><td>1</td><td>Oasis</td><td>1994-08-29</td><td>0.0461</td><td>114.794</td><td>4</td><td>0.465</td></tr><tr><td>0.0708</td><td>(What's The Story) Morning Glory? [Remastered]</td><td>0.327</td><td>289560</td><td>0.938</td><td>0UvCh63URrLFcPkKt99hHd</td><td>3.79E-6</td><td>0</td><td>0.148</td><td>-3.237</td><td>1</td><td>Oasis</td><td>1995-10-02</td><td>0.0645</td><td>162.937</td><td>4</td><td>0.326</td></tr><tr><td>4.52E-4</td><td>(What's The Story) Morning Glory? [Remastered]</td><td>0.378</td><td>258773</td><td>0.896</td><td>5qqabIl2vWzo9ApSC317sa</td><td>0.0</td><td>2</td><td>0.194</td><td>-4.066</td><td>1</td><td>Oasis</td><td>1995-10-02</td><td>0.0407</td><td>174.302</td><td>4</td><td>0.469</td></tr><tr><td>0.077</td><td>Heathen Chemistry</td><td>0.38</td><td>303133</td><td>0.573</td><td>5YciOakY5dB5dULkiLdCaf</td><td>2.38E-6</td><td>2</td><td>0.0776</td><td>-5.334</td><td>1</td><td>Oasis</td><td>2002</td><td>0.03</td><td>74.988</td><td>4</td><td>0.0901</td></tr><tr><td>0.0142</td><td>Be Here Now</td><td>0.214</td><td>356600</td><td>0.828</td><td>2gANywSFYF58YFMPdDSAjC</td><td>1.61E-6</td><td>7</td><td>0.161</td><td>-2.66</td><td>1</td><td>Oasis</td><td>1997-08-21</td><td>0.0383</td><td>169.876</td><td>4</td><td>0.388</td></tr><tr><td>0.167</td><td>Stone Roses</td><td>0.296</td><td>254493</td><td>0.847</td><td>0H3JhryXvM39aQ7kZElj0R</td><td>0.0887</td><td>7</td><td>0.311</td><td>-11.349</td><td>1</td><td>The Stone Roses</td><td>1989-05-02</td><td>0.041</td><td>131.625</td><td>4</td><td>0.591</td></tr><tr><td>0.0335</td><td>Urban Hymns (Remastered 2016)</td><td>0.356</td><td>357267</td><td>0.917</td><td>57iDDD9N9tTWe75x6qhStw</td><td>0.0</td><td>9</td><td>0.406</td><td>-6.006</td><td>1</td><td>The Verve</td><td>1997-09-29</td><td>0.0479</td><td>171.176</td><td>4</td><td>0.518</td></tr><tr><td>0.229</td><td>OK Computer</td><td>0.293</td><td>267187</td><td>0.276</td><td>4Na0siMtWOW9pJoWJ1Ponv</td><td>0.119</td><td>7</td><td>0.167</td><td>-11.353</td><td>1</td><td>Radiohead</td><td>1997-05-28</td><td>0.0351</td><td>121.603</td><td>4</td><td>0.196</td></tr><tr><td>0.0377</td><td>OK Computer</td><td>0.252</td><td>387213</td><td>0.849</td><td>2nTsKOXIVGDf2iPeVQO2Gm</td><td>0.00592</td><td>5</td><td>0.0545</td><td>-6.501</td><td>1</td><td>Radiohead</td><td>1997-05-28</td><td>0.0581</td><td>163.704</td><td>4</td><td>0.194</td></tr><tr><td>0.92</td><td>In Rainbows (Disk 2)</td><td>0.558</td><td>266478</td><td>0.307</td><td>7Ceo3Rpq33Vc5WcOb3tUbT</td><td>7.44E-4</td><td>0</td><td>0.112</td><td>-8.236</td><td>1</td><td>Radiohead</td><td>2007-12-03</td><td>0.0296</td><td>75.807</td><td>4</td><td>0.304</td></tr><tr><td>0.62</td><td>The King Of Limbs</td><td>0.518</td><td>313671</td><td>0.959</td><td>6tLALP9mi7VbNC7s16iBRK</td><td>0.884</td><td>0</td><td>0.0831</td><td>-7.596</td><td>0</td><td>Radiohead</td><td>2011-02-18</td><td>0.157</td><td>149.722</td><td>4</td><td>0.341</td></tr><tr><td>0.0895</td><td>The King Of Limbs</td><td>0.721</td><td>300219</td><td>0.676</td><td>1amSa5xo79zINsgrpNlNge</td><td>0.336</td><td>2</td><td>0.0826</td><td>-8.78</td><td>0</td><td>Radiohead</td><td>2011-02-18</td><td>0.0321</td><td>127.997</td><td>4</td><td>0.621</td></tr><tr><td>0.353</td><td>A Moon Shaped Pool</td><td>0.426</td><td>367349</td><td>0.661</td><td>4CzTgOmc3Sdm4EgKQWzjQl</td><td>0.94</td><td>0</td><td>0.619</td><td>-9.877</td><td>1</td><td>Radiohead</td><td>2016-05-08</td><td>0.0503</td><td>151.191</td><td>3</td><td>0.178</td></tr><tr><td>0.0131</td><td>OK Computer OKNOTOK 1997 2017</td><td>0.274</td><td>269093</td><td>0.472</td><td>552BIJ9kKwwqiGf4YojYbL</td><td>0.069</td><td>9</td><td>0.0802</td><td>-7.614</td><td>0</td><td>Radiohead</td><td>2017-06-23</td><td>0.0263</td><td>148.996</td><td>4</td><td>0.14</td></tr><tr><td>0.0397</td><td>OK Computer OKNOTOK 1997 2017</td><td>0.389</td><td>261427</td><td>0.577</td><td>24yaR0CyO2oRISmeL2AvVj</td><td>5.23E-5</td><td>7</td><td>0.107</td><td>-7.578</td><td>1</td><td>Radiohead</td><td>2017-06-23</td><td>0.0276</td><td>74.551</td><td>4</td><td>0.367</td></tr><tr><td>0.277</td><td>Street Spirit (Fade Out)</td><td>0.535</td><td>281000</td><td>0.479</td><td>2sy0icOIskeP2lCqgZiTyE</td><td>0.0285</td><td>5</td><td>0.139</td><td>-14.112</td><td>0</td><td>Radiohead</td><td>1996-01-22</td><td>0.0311</td><td>88.841</td><td>4</td><td>0.504</td></tr><tr><td>0.0433</td><td>Spotify Sessions</td><td>0.333</td><td>299392</td><td>0.701</td><td>35vcR9ZeRNnHNm5V6F3i4M</td><td>2.92E-6</td><td>4</td><td>0.949</td><td>-7.664</td><td>0</td><td>HÆLOS</td><td>2016-02-22</td><td>0.0432</td><td>166.68</td><td>5</td><td>0.153</td></tr><tr><td>0.0615</td><td>Spotify Sessions</td><td>0.674</td><td>291616</td><td>0.696</td><td>2sORs9RIjPcLiAfaQwCZG9</td><td>1.83E-4</td><td>3</td><td>0.972</td><td>-8.939</td><td>0</td><td>HÆLOS</td><td>2016-02-22</td><td>0.0267</td><td>99.999</td><td>4</td><td>0.369</td></tr><tr><td>0.0276</td><td>Spotify Sessions</td><td>0.456</td><td>322549</td><td>0.647</td><td>74an1gfeKY5Pzj00hZ88Bi</td><td>0.0261</td><td>5</td><td>0.674</td><td>-8.374</td><td>0</td><td>HÆLOS</td><td>2016-02-22</td><td>0.0313</td><td>119.921</td><td>4</td><td>0.039</td></tr><tr><td>0.194</td><td>Spotify Sessions</td><td>0.501</td><td>305867</td><td>0.646</td><td>2obYbmMw6RerakxX3W7qQv</td><td>0.0214</td><td>11</td><td>0.73</td><td>-7.165</td><td>0</td><td>HÆLOS</td><td>2016-02-22</td><td>0.0306</td><td>90.972</td><td>4</td><td>0.145</td></tr><tr><td>0.00894</td><td>Spotify Sessions</td><td>0.544</td><td>283032</td><td>0.703</td><td>0pEKuJbfvt3OZNK6ui3h7F</td><td>0.00386</td><td>6</td><td>0.71</td><td>-8.508</td><td>0</td><td>HÆLOS</td><td>2016-02-22</td><td>0.0304</td><td>95.001</td><td>4</td><td>0.0773</td></tr><tr><td>0.0031</td><td>Spotify Sessions</td><td>0.538</td><td>247632</td><td>0.849</td><td>04Jzqm6rWPkYlk1B5VqBXN</td><td>1.21E-4</td><td>9</td><td>0.707</td><td>-7.4</td><td>0</td><td>HÆLOS</td><td>2016-02-22</td><td>0.0362</td><td>106.993</td><td>4</td><td>0.0505</td></tr><tr><td>0.076</td><td>Full Circle</td><td>0.591</td><td>275665</td><td>0.755</td><td>5OwRSppDTdwPHC12qYlfQN</td><td>0.0307</td><td>6</td><td>0.114</td><td>-6.234</td><td>0</td><td>HÆLOS</td><td>2016-03-18</td><td>0.035</td><td>94.992</td><td>4</td><td>0.318</td></tr><tr><td>0.00968</td><td>Full Circle</td><td>0.587</td><td>220745</td><td>0.855</td><td>6AdZaTVNVPUjKvxC7dnPNI</td><td>0.00385</td><td>9</td><td>0.0971</td><td>-7.919</td><td>0</td><td>HÆLOS</td><td>2016-03-18</td><td>0.0359</td><td>107.009</td><td>4</td><td>0.0642</td></tr><tr><td>0.0609</td><td>Full Circle</td><td>0.483</td><td>303781</td><td>0.715</td><td>5pe0Ju7NrDDsYQhPwVundF</td><td>0.0132</td><td>7</td><td>0.135</td><td>-7.234</td><td>1</td><td>HÆLOS</td><td>2016-03-18</td><td>0.0456</td><td>90.997</td><td>4</td><td>0.135</td></tr><tr><td>0.0462</td><td>Full Circle</td><td>0.656</td><td>278145</td><td>0.522</td><td>16gvjuZGmibA3348jWdjKV</td><td>9.07E-5</td><td>3</td><td>0.0886</td><td>-9.897</td><td>0</td><td>HÆLOS</td><td>2016-03-18</td><td>0.0484</td><td>99.998</td><td>4</td><td>0.428</td></tr><tr><td>0.0253</td><td>Wolfgang Amadeus Phoenix</td><td>0.645</td><td>167853</td><td>0.63</td><td>5bYQM8TrQ6ur1SuEieE3pK</td><td>4.33E-4</td><td>11</td><td>0.125</td><td>-7.066</td><td>1</td><td>Phoenix</td><td>2009</td><td>0.0354</td><td>150.919</td><td>4</td><td>0.96</td></tr><tr><td>0.812</td><td>xx</td><td>0.763</td><td>201947</td><td>0.484</td><td>6rxEjkoar48SssZePbtb2x</td><td>0.393</td><td>11</td><td>0.0841</td><td>-12.368</td><td>0</td><td>The xx</td><td>2009-08-16</td><td>0.0311</td><td>122.913</td><td>4</td><td>0.416</td></tr><tr><td>0.459</td><td>xx</td><td>0.617</td><td>127920</td><td>0.778</td><td>0bXpmJyHHYPk6QBFj25bYF</td><td>0.925</td><td>9</td><td>0.128</td><td>-8.871</td><td>0</td><td>The xx</td><td>2009-08-16</td><td>0.027</td><td>100.363</td><td>4</td><td>0.152</td></tr><tr><td>4.23E-4</td><td>Franz Ferdinand</td><td>0.278</td><td>237027</td><td>0.676</td><td>6ooluO7DiEhI1zmK94nRCM</td><td>8.99E-4</td><td>9</td><td>0.136</td><td>-8.821</td><td>1</td><td>Franz Ferdinand</td><td>2004</td><td>0.0371</td><td>104.545</td><td>4</td><td>0.494</td></tr><tr><td>0.00164</td><td>Hot Fuss</td><td>0.552</td><td>301747</td><td>0.71</td><td>0OpSYP9Oly3SqmeIgiRnzT</td><td>5.07E-6</td><td>6</td><td>0.116</td><td>-6.925</td><td>1</td><td>The Killers</td><td>2004-06-15</td><td>0.0425</td><td>118.276</td><td>4</td><td>0.206</td></tr><tr><td>0.00113</td><td>Hot Fuss</td><td>0.352</td><td>222107</td><td>0.928</td><td>7d8GetOsjbxYnlo6Y9e5Kw</td><td>0.0</td><td>1</td><td>0.0987</td><td>-3.71</td><td>1</td><td>The Killers</td><td>2004-06-07</td><td>0.0758</td><td>148.026</td><td>4</td><td>0.239</td></tr><tr><td>0.0243</td><td>The Last Dawn</td><td>0.462</td><td>384093</td><td>0.576</td><td>6znnpzPx09UEiNFN88FnJ0</td><td>0.947</td><td>2</td><td>0.0856</td><td>-7.752</td><td>0</td><td>MONO</td><td>2014-10-28</td><td>0.028</td><td>108.002</td><td>3</td><td>0.0393</td></tr><tr><td>0.00183</td><td>Rays of Darkness</td><td>0.298</td><td>798467</td><td>0.433</td><td>78SWAWoIndhbgOgugmltPT</td><td>0.862</td><td>7</td><td>0.0887</td><td>-8.178</td><td>0</td><td>MONO</td><td>2014-10-28</td><td>0.0418</td><td>120.052</td><td>4</td><td>0.039</td></tr><tr><td>0.0031</td><td>海口味</td><td>0.503</td><td>221694</td><td>0.785</td><td>1IzKzQlyeS4vwHOsNVZSNV</td><td>0.188</td><td>9</td><td>0.0765</td><td>-6.284</td><td>0</td><td>Sorry Youth</td><td>2012-05-01</td><td>0.0575</td><td>147.962</td><td>4</td><td>0.682</td></tr><tr><td>0.0401</td><td>醜奴兒</td><td>0.708</td><td>149507</td><td>0.734</td><td>7DbVKoQHjJfqw0j8Aia0Bj</td><td>3.27E-4</td><td>11</td><td>0.124</td><td>-8.619</td><td>0</td><td>No Party For Cao Dong</td><td>2016-02-19</td><td>0.0951</td><td>114.952</td><td>4</td><td>0.425</td></tr><tr><td>0.0694</td><td>醜奴兒</td><td>0.523</td><td>236080</td><td>0.543</td><td>48oUsw9LrmRT7paajfxU77</td><td>0.00234</td><td>2</td><td>0.0516</td><td>-9.544</td><td>1</td><td>No Party For Cao Dong</td><td>2016-02-19</td><td>0.0385</td><td>175.944</td><td>4</td><td>0.489</td></tr><tr><td>0.0881</td><td>醜奴兒</td><td>0.452</td><td>160160</td><td>0.659</td><td>7FckV3hFjBpBmMOh30jIzF</td><td>0.0183</td><td>11</td><td>0.0907</td><td>-9.614</td><td>0</td><td>No Party For Cao Dong</td><td>2016-02-19</td><td>0.0682</td><td>77.62</td><td>4</td><td>0.355</td></tr><tr><td>0.873</td><td>Mr. Beast</td><td>0.465</td><td>260600</td><td>0.449</td><td>0cDjlYNENwEuagaG3MoTeP</td><td>0.959</td><td>10</td><td>0.0873</td><td>-9.55</td><td>0</td><td>Mogwai</td><td>2006-03-06</td><td>0.0357</td><td>120.009</td><td>4</td><td>0.16</td></tr><tr><td>0.0593</td><td>Happy Songs For Happy People</td><td>0.172</td><td>327173</td><td>0.249</td><td>1cFH6bxEc9M10kTADnTRjQ</td><td>0.857</td><td>2</td><td>0.189</td><td>-13.596</td><td>1</td><td>Mogwai</td><td>2003-05-21</td><td>0.0311</td><td>99.308</td><td>4</td><td>0.0526</td></tr><tr><td>0.395</td><td>Rock Action</td><td>0.489</td><td>417227</td><td>0.56</td><td>1ZBkR2W1rHhoKJIWbcfaaD</td><td>0.339</td><td>2</td><td>0.15</td><td>-8.801</td><td>1</td><td>Mogwai</td><td>2001-04-30</td><td>0.0293</td><td>124.264</td><td>3</td><td>0.0727</td></tr><tr><td>0.0705</td><td>Live 1998</td><td>0.363</td><td>351813</td><td>0.602</td><td>16kfQNCznsVrtjOfgBXsxB</td><td>0.632</td><td>4</td><td>0.139</td><td>-10.715</td><td>1</td><td>Bedhead</td><td>2015-04-28</td><td>0.0303</td><td>93.282</td><td>4</td><td>0.197</td></tr><tr><td>0.411</td><td>1992-1998</td><td>0.618</td><td>207880</td><td>0.287</td><td>0cnoQyMcZXsYEtOF4qm8WG</td><td>5.35E-5</td><td>1</td><td>0.143</td><td>-12.991</td><td>1</td><td>Bedhead</td><td>2014-11-11</td><td>0.0324</td><td>92.347</td><td>3</td><td>0.73</td></tr><tr><td>0.0325</td><td>Mellow Gold</td><td>0.614</td><td>235000</td><td>0.617</td><td>5NTZM8YYeKM2YsGSffVIge</td><td>1.16E-4</td><td>6</td><td>0.289</td><td>-10.417</td><td>0</td><td>Beck</td><td>1994-03-01</td><td>0.12</td><td>170.84</td><td>4</td><td>0.788</td></tr><tr><td>0.00128</td><td>Music Sounds Better With You</td><td>0.729</td><td>260907</td><td>0.662</td><td>1mv4lh1rW1K6xhxhJmEezy</td><td>0.208</td><td>5</td><td>0.305</td><td>-7.191</td><td>0</td><td>Stardust</td><td>1998-07-20</td><td>0.337</td><td>124.149</td><td>4</td><td>0.359</td></tr><tr><td>0.275</td><td>The Iceberg</td><td>0.815</td><td>226268</td><td>0.765</td><td>1zw5c8a4nI0xdPOPqgeBJQ</td><td>0.0</td><td>7</td><td>0.323</td><td>-6.543</td><td>1</td><td>Oddisee</td><td>2017-02-24</td><td>0.195</td><td>120.008</td><td>4</td><td>0.445</td></tr><tr><td>0.026</td><td>待ちくたびれて朝がくる</td><td>0.438</td><td>218787</td><td>0.925</td><td>6icI5EaiAM4mDmNd8a7AdI</td><td>2.4E-6</td><td>5</td><td>0.307</td><td>-3.246</td><td>1</td><td>Creep Hyp</td><td>2011-07-06</td><td>0.0678</td><td>97.041</td><td>4</td><td>0.446</td></tr><tr><td>0.00888</td><td>世界観</td><td>0.559</td><td>217227</td><td>0.884</td><td>2BxBTeME6J6YZwwvvplqMI</td><td>0.0</td><td>6</td><td>0.226</td><td>-2.308</td><td>1</td><td>Creep Hyp</td><td>2016-09-07</td><td>0.0595</td><td>120.979</td><td>4</td><td>0.731</td></tr><tr><td>0.124</td><td>Arriving Somewhere</td><td>0.243</td><td>438947</td><td>0.673</td><td>6qxYdsNzbFv5Pp6ohkWFA6</td><td>0.0361</td><td>2</td><td>0.846</td><td>-10.736</td><td>1</td><td>Porcupine Tree</td><td>2006-01-06</td><td>0.0476</td><td>95.821</td><td>4</td><td>0.292</td></tr><tr><td>0.0365</td><td>Arriving Somewhere</td><td>0.506</td><td>305613</td><td>0.875</td><td>4GE4vFlhzudIEXAPYbBkAP</td><td>0.24</td><td>2</td><td>0.792</td><td>-7.146</td><td>0</td><td>Porcupine Tree</td><td>2006-01-06</td><td>0.0357</td><td>95.017</td><td>4</td><td>0.568</td></tr><tr><td>0.431</td><td>Arriving Somewhere</td><td>0.439</td><td>246227</td><td>0.681</td><td>7lJz9cmP7OIzBJeTa0unCQ</td><td>0.13</td><td>9</td><td>0.701</td><td>-7.824</td><td>1</td><td>Porcupine Tree</td><td>2006-01-06</td><td>0.0302</td><td>172.02</td><td>4</td><td>0.321</td></tr><tr><td>0.527</td><td>Anesthetize</td><td>0.186</td><td>328400</td><td>0.159</td><td>4CUCKAg4VLCkEuVQxJWJC3</td><td>0.304</td><td>7</td><td>0.111</td><td>-13.125</td><td>1</td><td>Porcupine Tree</td><td>2010</td><td>0.0367</td><td>102.129</td><td>4</td><td>0.0862</td></tr><tr><td>0.0426</td><td>Anesthetize</td><td>0.301</td><td>537747</td><td>0.449</td><td>29inWZeEAUluIrwN5Z2SMt</td><td>0.334</td><td>2</td><td>0.746</td><td>-12.152</td><td>1</td><td>Porcupine Tree</td><td>2010</td><td>0.0366</td><td>124.01</td><td>1</td><td>0.0409</td></tr><tr><td>6.68E-4</td><td>Anesthetize</td><td>0.454</td><td>454880</td><td>0.832</td><td>5JS752i84FtILtqjYxJ9qK</td><td>0.257</td><td>2</td><td>0.954</td><td>-9.479</td><td>1</td><td>Porcupine Tree</td><td>2010</td><td>0.033</td><td>81.001</td><td>3</td><td>0.44</td></tr><tr><td>0.00692</td><td>Octane Twisted</td><td>0.627</td><td>371587</td><td>0.741</td><td>5ADUsLeFYwZ608ltpldJdZ</td><td>0.483</td><td>11</td><td>0.712</td><td>-13.327</td><td>1</td><td>Porcupine Tree</td><td>2012-11-19</td><td>0.0456</td><td>109.987</td><td>4</td><td>0.53</td></tr><tr><td>0.203</td><td>Deadwing</td><td>0.354</td><td>258587</td><td>0.581</td><td>1EL8X3XUO27bksrv9cLvXE</td><td>0.655</td><td>9</td><td>0.177</td><td>-6.074</td><td>1</td><td>Porcupine Tree</td><td>2005-03-28</td><td>0.0302</td><td>171.961</td><td>4</td><td>0.337</td></tr><tr><td>0.0423</td><td>In Absentia</td><td>0.456</td><td>358600</td><td>0.776</td><td>1HfVdg6TNKHtpsMPc07HTO</td><td>0.00975</td><td>9</td><td>0.148</td><td>-6.999</td><td>0</td><td>Porcupine Tree</td><td>2002-09-24</td><td>0.0348</td><td>174.261</td><td>4</td><td>0.223</td></tr><tr><td>0.0352</td><td>Later That Night</td><td>0.659</td><td>294693</td><td>0.759</td><td>5NYMKEcaapPQdxu1jFdveW</td><td>0.00164</td><td>8</td><td>0.0972</td><td>-5.787</td><td>1</td><td>Gordon</td><td>2018-12-15</td><td>0.0487</td><td>91.618</td><td>4</td><td>0.219</td></tr><tr><td>0.014</td><td>Later That Night</td><td>0.717</td><td>331562</td><td>0.667</td><td>2E6ZE0QN88EqnR75llokWF</td><td>0.0</td><td>4</td><td>0.227</td><td>-7.022</td><td>0</td><td>Gordon</td><td>2018-12-15</td><td>0.212</td><td>179.932</td><td>4</td><td>0.324</td></tr><tr><td>0.0823</td><td>Later That Night</td><td>0.847</td><td>399577</td><td>0.523</td><td>0KuCCBwNEX4SR7k4lGseVf</td><td>0.0034</td><td>7</td><td>0.111</td><td>-9.526</td><td>1</td><td>Gordon</td><td>2018-12-15</td><td>0.138</td><td>125.397</td><td>4</td><td>0.623</td></tr><tr><td>0.0349</td><td>Perpetual Burn</td><td>0.198</td><td>339573</td><td>0.687</td><td>0AaRMLPJQYTSzSBDOjoaDL</td><td>0.893</td><td>11</td><td>0.154</td><td>-13.29</td><td>0</td><td>Jason Becker</td><td>1988-08-08</td><td>0.0467</td><td>113.241</td><td>4</td><td>0.299</td></tr><tr><td>0.0162</td><td>My Beautiful Dark Twisted Fantasy</td><td>0.543</td><td>292093</td><td>0.915</td><td>2gZUPNdnz5Y45eiGxpHGSc</td><td>0.0</td><td>0</td><td>0.744</td><td>-4.746</td><td>0</td><td>Kanye West</td><td>2010-01-01</td><td>0.113</td><td>153.998</td><td>4</td><td>0.577</td></tr><tr><td>0.738</td><td>Kei Nishikori meets Nujabes</td><td>0.867</td><td>337880</td><td>0.666</td><td>4KO46yxeMZAi48tQMrPnHN</td><td>0.432</td><td>5</td><td>0.0644</td><td>-4.783</td><td>0</td><td>Various Artists</td><td>2016-02-26</td><td>0.0484</td><td>94.992</td><td>4</td><td>0.863</td></tr><tr><td>0.678</td><td>Free Soul Nujabes First Collection</td><td>0.544</td><td>172267</td><td>0.755</td><td>5f4GxONfMbpqRBVVt9ekh9</td><td>0.366</td><td>10</td><td>0.127</td><td>-6.63</td><td>0</td><td>Various Artists</td><td>2014-12-17</td><td>0.0916</td><td>180.865</td><td>4</td><td>0.854</td></tr><tr><td>0.879</td><td>Help! (Remastered)</td><td>0.332</td><td>125667</td><td>0.179</td><td>3BQHpFgAp4l80e1XslIjNI</td><td>0.0</td><td>5</td><td>0.0886</td><td>-11.83</td><td>1</td><td>The Beatles</td><td>1965-08-06</td><td>0.0326</td><td>96.529</td><td>4</td><td>0.315</td></tr><tr><td>0.0112</td><td>1 (Remastered)</td><td>0.386</td><td>425653</td><td>0.607</td><td>0aym2LBJBk9DAYuHHutrIl</td><td>1.38E-5</td><td>10</td><td>0.088</td><td>-7.7</td><td>1</td><td>The Beatles</td><td>2000-11-13</td><td>0.0261</td><td>147.207</td><td>4</td><td>0.532</td></tr><tr><td>0.631</td><td>Let It Be (Remastered)</td><td>0.443</td><td>243027</td><td>0.403</td><td>7iN1s7xHE4ifF5povM6A48</td><td>0.0</td><td>0</td><td>0.111</td><td>-8.339</td><td>1</td><td>The Beatles</td><td>1970-05-08</td><td>0.0322</td><td>143.462</td><td>4</td><td>0.41</td></tr><tr><td>0.0395</td><td>i am > i was</td><td>0.837</td><td>288624</td><td>0.636</td><td>2t8yVaLvJ0RenpXUIAC52d</td><td>0.00125</td><td>1</td><td>0.342</td><td>-7.643</td><td>1</td><td>21 Savage</td><td>2018-12-21</td><td>0.086</td><td>145.972</td><td>4</td><td>0.274</td></tr><tr><td>0.411</td><td>Amen</td><td>0.787</td><td>210862</td><td>0.586</td><td>7MXcmkmyxEYAJf04cbqKoI</td><td>3.11E-4</td><td>10</td><td>0.118</td><td>-9.64</td><td>1</td><td>Rich Brian</td><td>2018-02-02</td><td>0.0695</td><td>140.036</td><td>4</td><td>0.581</td></tr><tr><td>0.0904</td><td>誤入奇途</td><td>0.822</td><td>220440</td><td>0.51</td><td>2TGwWUhfdmTeCOE5V7lIsC</td><td>0.055</td><td>11</td><td>0.118</td><td>-9.453</td><td>1</td><td>TroutFresh</td><td>2017-12-29</td><td>0.125</td><td>91.965</td><td>4</td><td>0.46</td></tr><tr><td>0.0115</td><td>Amen</td><td>0.809</td><td>132038</td><td>0.581</td><td>6vEX5CtjtBgz4LM3EWturf</td><td>5.13E-4</td><td>10</td><td>0.345</td><td>-8.294</td><td>0</td><td>Rich Brian</td><td>2018-02-02</td><td>0.195</td><td>149.949</td><td>4</td><td>0.369</td></tr><tr><td>0.0279</td><td>Exhibit C</td><td>0.508</td><td>331440</td><td>0.811</td><td>0HPwj6JRx73yQoQpDrI3St</td><td>0.0</td><td>5</td><td>0.388</td><td>-11.966</td><td>0</td><td>Jay Electronica</td><td>2009-12-22</td><td>0.19</td><td>82.01</td><td>4</td><td>0.382</td></tr><tr><td>0.0151</td><td>Issa Album</td><td>0.884</td><td>220307</td><td>0.346</td><td>2fQrGHiQOvpL9UgPvtYy6G</td><td>7.04E-6</td><td>8</td><td>0.0871</td><td>-8.228</td><td>0</td><td>21 Savage</td><td>2017-09-23</td><td>0.351</td><td>75.016</td><td>4</td><td>0.376</td></tr><tr><td>0.397</td><td>ALL-AMERIKKKAN BADA$$</td><td>0.775</td><td>244198</td><td>0.707</td><td>7L9g4cPfohScjJ8mGwLQWr</td><td>0.0</td><td>10</td><td>0.874</td><td>-5.339</td><td>0</td><td>Joey Bada$$</td><td>2017-04-07</td><td>0.152</td><td>104.979</td><td>4</td><td>0.78</td></tr><tr><td>0.0331</td><td>Nothing Was The Same (Deluxe)</td><td>0.794</td><td>174120</td><td>0.523</td><td>3dgQqOiQ9fCKVhNOedd2lf</td><td>0.0</td><td>8</td><td>0.156</td><td>-7.829</td><td>1</td><td>Drake</td><td>2013-01-01</td><td>0.161</td><td>86.307</td><td>4</td><td>0.56</td></tr><tr><td>0.249</td><td>Sessions</td><td>0.678</td><td>378358</td><td>0.82</td><td>3DIUlKXSQjEKykGlidrzK0</td><td>0.148</td><td>7</td><td>0.204</td><td>-6.981</td><td>1</td><td>YOUR SONG IS GOOD</td><td>2019-03-06</td><td>0.0249</td><td>104.992</td><td>4</td><td>0.959</td></tr><tr><td>0.441</td><td>Mienai Ito ~Never Be The Lonely One~</td><td>0.64</td><td>369099</td><td>0.562</td><td>5xYviSgntubbAKfV0IcxBK</td><td>1.42E-5</td><td>10</td><td>0.107</td><td>-6.504</td><td>0</td><td>Mizuki Ohira</td><td>2017-10-25</td><td>0.0385</td><td>92.078</td><td>4</td><td>0.495</td></tr><tr><td>5.23E-4</td><td>Man of Nature</td><td>0.524</td><td>251813</td><td>0.694</td><td>2Bu8llV5inngo4PHHIGp7r</td><td>0.775</td><td>9</td><td>0.113</td><td>-7.28</td><td>1</td><td>Insecteens</td><td>2011-08-26</td><td>0.0349</td><td>127.031</td><td>4</td><td>0.127</td></tr><tr><td>0.111</td><td>Man of Nature</td><td>0.253</td><td>457907</td><td>0.79</td><td>5JBHFqO398LrFky984JwJ9</td><td>0.0447</td><td>4</td><td>0.211</td><td>-5.028</td><td>1</td><td>Insecteens</td><td>2011-08-26</td><td>0.0558</td><td>192.03</td><td>4</td><td>0.104</td></tr><tr><td>7.32E-6</td><td>Man of Nature</td><td>0.53</td><td>302080</td><td>0.905</td><td>0I1YPyPluP7qMcKT5f3eXj</td><td>0.781</td><td>9</td><td>0.082</td><td>-5.746</td><td>0</td><td>Insecteens</td><td>2011-08-26</td><td>0.0319</td><td>125.974</td><td>4</td><td>0.509</td></tr><tr><td>3.53E-4</td><td>Man of Nature</td><td>0.372</td><td>279120</td><td>0.949</td><td>54WP7BCyTdKixj0j4PQFqC</td><td>0.828</td><td>7</td><td>0.243</td><td>-4.798</td><td>1</td><td>Insecteens</td><td>2011-08-26</td><td>0.0454</td><td>152.057</td><td>4</td><td>0.685</td></tr><tr><td>0.465</td><td>Cumulonimbus</td><td>0.498</td><td>337867</td><td>0.602</td><td>1S2kISg3xdRM3z6zKrj8W7</td><td>0.0455</td><td>10</td><td>0.124</td><td>-6.84</td><td>1</td><td>Orangegrass</td><td>2010-05-18</td><td>0.0331</td><td>106.052</td><td>4</td><td>0.0785</td></tr><tr><td>0.361</td><td>Cumulonimbus</td><td>0.668</td><td>237547</td><td>0.548</td><td>55GG5fa7xgkdAOEFQP2Me6</td><td>0.00529</td><td>6</td><td>0.178</td><td>-6.492</td><td>0</td><td>Orangegrass</td><td>2010-05-18</td><td>0.0262</td><td>118.119</td><td>4</td><td>0.222</td></tr><tr><td>0.589</td><td>Cumulonimbus</td><td>0.388</td><td>463493</td><td>0.48</td><td>6UCbtk9YuvSFmro5UHyAYk</td><td>0.0546</td><td>2</td><td>0.125</td><td>-8.468</td><td>1</td><td>Orangegrass</td><td>2010-05-18</td><td>0.0299</td><td>93.057</td><td>4</td><td>0.186</td></tr><tr><td>0.0135</td><td>Parade - Music from the Motion Picture Under the Cherry Moon</td><td>0.898</td><td>226240</td><td>0.271</td><td>62LJFaYihsdVrrkgUOJC05</td><td>0.00138</td><td>7</td><td>0.0461</td><td>-12.238</td><td>1</td><td>Prince</td><td>1986-03-31</td><td>0.091</td><td>111.485</td><td>4</td><td>0.742</td></tr><tr><td>0.0353</td><td>Purple Rain</td><td>0.367</td><td>520787</td><td>0.452</td><td>54X78diSLoUDI3joC2bjMz</td><td>0.00228</td><td>10</td><td>0.689</td><td>-10.422</td><td>1</td><td>Prince</td><td>1984-06-25</td><td>0.0307</td><td>113.066</td><td>4</td><td>0.189</td></tr><tr><td>7.48E-4</td><td>...And so We Destroyed Everything</td><td>0.417</td><td>200400</td><td>0.555</td><td>5ZSCcvLbuDYep5sV53kMMo</td><td>0.854</td><td>0</td><td>0.23</td><td>-11.618</td><td>1</td><td>sleepmakeswaves</td><td>2013-09-02</td><td>0.0316</td><td>140.045</td><td>4</td><td>0.14</td></tr><tr><td>4.94E-4</td><td>Children</td><td>0.268</td><td>274500</td><td>0.929</td><td>6lgUuPNqAPnihWXs66mRVP</td><td>0.558</td><td>4</td><td>0.549</td><td>-7.005</td><td>0</td><td>sleepmakeswaves</td><td>2019-03-29</td><td>0.0516</td><td>140.832</td><td>4</td><td>0.184</td></tr><tr><td>0.906</td><td>sleepmakeswaves</td><td>0.514</td><td>290453</td><td>0.277</td><td>0hZSni3035ItjVGyfYGiQX</td><td>0.911</td><td>4</td><td>0.072</td><td>-18.285</td><td>1</td><td>sleepmakeswaves</td><td>2012-09-11</td><td>0.0299</td><td>88.043</td><td>3</td><td>0.0781</td></tr><tr><td>1.47E-4</td><td>The Razors Edge</td><td>0.501</td><td>292880</td><td>0.889</td><td>57bgtoPSgt236HzfBOd8kj</td><td>0.0114</td><td>4</td><td>0.217</td><td>-5.175</td><td>1</td><td>AC/DC</td><td>1990-09-24</td><td>0.0364</td><td>133.519</td><td>4</td><td>0.257</td></tr><tr><td>0.0638</td><td>秋:故事</td><td>0.451</td><td>326900</td><td>0.452</td><td>1VsS3qBghl8AwyKT8GAlj6</td><td>4.8E-6</td><td>6</td><td>0.0665</td><td>-7.102</td><td>0</td><td>Sodagreen</td><td>2013-01-01</td><td>0.0272</td><td>75.958</td><td>4</td><td>0.315</td></tr><tr><td>0.281</td><td>城市</td><td>0.579</td><td>294160</td><td>0.356</td><td>69bdhBcI3aTFA8KhooWBI3</td><td>1.22E-5</td><td>3</td><td>0.183</td><td>-11.312</td><td>1</td><td>Deserts Chang</td><td>2009-05-19</td><td>0.026</td><td>140.02</td><td>4</td><td>0.24</td></tr><tr><td>0.37</td><td>南[下]專線</td><td>0.518</td><td>278616</td><td>0.467</td><td>7g15dRpgfhFcWA6EBd0p1a</td><td>5.84E-6</td><td>10</td><td>0.125</td><td>-6.261</td><td>1</td><td>縱貫線</td><td>2010</td><td>0.0417</td><td>140.059</td><td>3</td><td>0.149</td></tr><tr><td>0.732</td><td>認了吧</td><td>0.484</td><td>257627</td><td>0.479</td><td>2CFYSmLqdflbfOHSlZJlwl</td><td>0.0</td><td>5</td><td>0.491</td><td>-8.012</td><td>1</td><td>Eason Chan</td><td>2007-01-01</td><td>0.0297</td><td>103.855</td><td>4</td><td>0.358</td></tr><tr><td>0.872</td><td>Goodbye & Hello</td><td>0.6</td><td>237693</td><td>0.492</td><td>1P43VyM78qYm10rlcQ9R5d</td><td>0.0</td><td>7</td><td>0.0988</td><td>-8.64</td><td>1</td><td>Tanya Chua</td><td>2007-10-19</td><td>0.0289</td><td>129.965</td><td>4</td><td>0.548</td></tr><tr><td>0.827</td><td>陌生人</td><td>0.584</td><td>242693</td><td>0.436</td><td>6vJ97QouNlvgs74MMhxdvw</td><td>4.38E-5</td><td>5</td><td>0.0848</td><td>-9.564</td><td>1</td><td>Tanya Chua</td><td>2003-06-05</td><td>0.0365</td><td>122.066</td><td>4</td><td>0.316</td></tr><tr><td>0.674</td><td>雙棲動物</td><td>0.346</td><td>275800</td><td>0.45</td><td>4YVbLto1w4dEKXjuZxlGRQ</td><td>0.0</td><td>10</td><td>0.11</td><td>-6.568</td><td>1</td><td>Tanya Chua</td><td>2005-01-05</td><td>0.0315</td><td>134.66</td><td>4</td><td>0.217</td></tr><tr><td>0.854</td><td>Goodbye & Hello</td><td>0.57</td><td>265107</td><td>0.283</td><td>5DXt0rgXsJPkU6sBCh4L4J</td><td>0.0</td><td>7</td><td>0.101</td><td>-10.073</td><td>1</td><td>Tanya Chua</td><td>2007-10-19</td><td>0.0326</td><td>78.01</td><td>4</td><td>0.409</td></tr><tr><td>0.277</td><td>吉姆餐厅</td><td>0.721</td><td>354640</td><td>0.676</td><td>2FawkD63DiVUPiyUwuxzwB</td><td>4.81E-4</td><td>5</td><td>0.104</td><td>-9.138</td><td>0</td><td>Zhao Lei</td><td>2014-10-19</td><td>0.0269</td><td>120.023</td><td>4</td><td>0.777</td></tr><tr><td>0.486</td><td>滾石香港黃金十年-李宗盛精選</td><td>0.636</td><td>272140</td><td>0.332</td><td>1WobrA7eZjxqDTUWAB2xqT</td><td>0.0</td><td>2</td><td>0.101</td><td>-11.506</td><td>1</td><td>Jonathan Lee</td><td>2003-01-15</td><td>0.0352</td><td>119.909</td><td>4</td><td>0.16</td></tr><tr><td>0.322</td><td>葉惠美</td><td>0.434</td><td>342000</td><td>0.582</td><td>4EC5xqJ3cU2tK6aFbqVIji</td><td>0.313</td><td>2</td><td>0.357</td><td>-7.385</td><td>0</td><td>Jay Chou</td><td>2003-07-29</td><td>0.0397</td><td>175.026</td><td>4</td><td>0.361</td></tr><tr><td>0.203</td><td>葉惠美</td><td>0.64</td><td>280387</td><td>0.691</td><td>4skiSCbikmgLiv0zAvjelZ</td><td>0.108</td><td>5</td><td>0.047</td><td>-8.868</td><td>0</td><td>Jay Chou</td><td>2003-07-29</td><td>0.0593</td><td>89.951</td><td>4</td><td>0.611</td></tr><tr><td>0.0623</td><td>good kid, m.A.A.d city (Deluxe)</td><td>0.451</td><td>214120</td><td>0.831</td><td>0PKJxo97zXT8oAwl2zFnPh</td><td>0.0</td><td>5</td><td>0.185</td><td>-8.641</td><td>0</td><td>Kendrick Lamar</td><td>2012-10-22</td><td>0.307</td><td>176.162</td><td>4</td><td>0.41</td></tr><tr><td>0.00565</td><td>寓言式的深黑色風景 (Dark Scene in the Allegorical Way / 寓言式的深黑色风景)</td><td>0.526</td><td>322093</td><td>0.813</td><td>7xY2qJy4OwcSDrFuBCYwwO</td><td>0.55</td><td>2</td><td>0.0946</td><td>-7.471</td><td>1</td><td>The Murky Crows</td><td>2013-04-03</td><td>0.0301</td><td>131.98</td><td>4</td><td>0.33</td></tr><tr><td>0.639</td><td>浴室</td><td>0.669</td><td>280530</td><td>0.429</td><td>02wxdinf7m4K6SK5KYP8Dw</td><td>0.00516</td><td>4</td><td>0.121</td><td>-7.691</td><td>0</td><td>deca joins</td><td>2017-06-07</td><td>0.0339</td><td>132.119</td><td>4</td><td>0.371</td></tr><tr><td>6.36E-5</td><td>乎恁的歌</td><td>0.386</td><td>292000</td><td>0.899</td><td>4H3rO1dk7mTkcYdbtEK9QU</td><td>0.37</td><td>4</td><td>0.351</td><td>-3.801</td><td>1</td><td>必順鄉村</td><td>2014-10-27</td><td>0.0471</td><td>125.087</td><td>4</td><td>0.46</td></tr><tr><td>0.411</td><td>Glow Like Dat</td><td>0.787</td><td>210862</td><td>0.586</td><td>4Tulf6yVo59f2ofSi3YUqW</td><td>3.11E-4</td><td>10</td><td>0.118</td><td>-9.64</td><td>1</td><td>Rich Brian</td><td>2017-08-15</td><td>0.0695</td><td>140.036</td><td>4</td><td>0.581</td></tr><tr><td>0.0115</td><td>Chaos</td><td>0.809</td><td>132038</td><td>0.581</td><td>2CvcVMkyBhXHD9d0QIpw4X</td><td>5.13E-4</td><td>10</td><td>0.345</td><td>-8.294</td><td>0</td><td>Rich Brian</td><td>2017-10-05</td><td>0.195</td><td>149.949</td><td>4</td><td>0.369</td></tr><tr><td>0.613</td><td>History</td><td>0.554</td><td>207308</td><td>0.589</td><td>13MNGcfTSeCS5kPHbQefAP</td><td>2.57E-4</td><td>3</td><td>0.0982</td><td>-8.163</td><td>0</td><td>88rising</td><td>2018-07-18</td><td>0.231</td><td>74.982</td><td>4</td><td>0.414</td></tr><tr><td>0.564</td><td>JINJI KIKKO</td><td>0.649</td><td>284880</td><td>0.584</td><td>0DAYLnjuJldYlawTUhZkXq</td><td>0.772</td><td>5</td><td>0.34</td><td>-9.101</td><td>0</td><td>落日飛車 Sunset Rollercoaster</td><td>2016-03-01</td><td>0.0297</td><td>91.0</td><td>4</td><td>0.675</td></tr><tr><td>0.534</td><td>EXPO EXPO</td><td>0.702</td><td>351642</td><td>0.896</td><td>477CB93mH986mrIheQD0RR</td><td>2.38E-4</td><td>8</td><td>0.118</td><td>-3.414</td><td>1</td><td>m-flo</td><td>2001-03-28</td><td>0.0525</td><td>130.156</td><td>4</td><td>0.917</td></tr><tr><td>0.641</td><td>JINJI KIKKO</td><td>0.504</td><td>377800</td><td>0.606</td><td>6lgFrbyYUcUBdPyTiRN0RH</td><td>0.943</td><td>0</td><td>0.115</td><td>-8.786</td><td>1</td><td>落日飛車 Sunset Rollercoaster</td><td>2016-03-01</td><td>0.0238</td><td>171.994</td><td>4</td><td>0.571</td></tr><tr><td>0.629</td><td>CASSA NOVA</td><td>0.55</td><td>218307</td><td>0.388</td><td>7LlX5sfjxx7tHpCMrU8YgD</td><td>0.383</td><td>2</td><td>0.403</td><td>-11.695</td><td>1</td><td>落日飛車 Sunset Rollercoaster</td><td>2018-03-14</td><td>0.0267</td><td>80.008</td><td>4</td><td>0.219</td></tr><tr><td>0.301</td><td>CASSA NOVA</td><td>0.556</td><td>296147</td><td>0.513</td><td>520Qb1kN3DxdjRy9N86ZLi</td><td>0.447</td><td>4</td><td>0.0708</td><td>-10.022</td><td>0</td><td>落日飛車 Sunset Rollercoaster</td><td>2018-03-14</td><td>0.036</td><td>123.997</td><td>4</td><td>0.318</td></tr><tr><td>0.523</td><td>CASSA NOVA</td><td>0.754</td><td>281053</td><td>0.612</td><td>7rv0VdglOFr2sJyZydB2ih</td><td>0.531</td><td>5</td><td>0.188</td><td>-10.882</td><td>0</td><td>落日飛車 Sunset Rollercoaster</td><td>2018-03-14</td><td>0.0434</td><td>97.005</td><td>4</td><td>0.78</td></tr><tr><td>0.611</td><td>CASSA NOVA</td><td>0.515</td><td>159960</td><td>0.484</td><td>1g9VgWUEQpUkvdjHM1Jqn5</td><td>0.836</td><td>0</td><td>0.37</td><td>-11.539</td><td>0</td><td>落日飛車 Sunset Rollercoaster</td><td>2018-03-14</td><td>0.0281</td><td>148.061</td><td>4</td><td>0.707</td></tr><tr><td>0.914</td><td>CASSA NOVA</td><td>0.696</td><td>122747</td><td>0.125</td><td>1WaUpVurh3gW0WDjlXSlLB</td><td>0.443</td><td>8</td><td>0.174</td><td>-20.486</td><td>1</td><td>落日飛車 Sunset Rollercoaster</td><td>2018-03-14</td><td>0.0592</td><td>148.081</td><td>4</td><td>0.355</td></tr><tr><td>0.74</td><td>CASSA NOVA</td><td>0.836</td><td>248640</td><td>0.663</td><td>2qzbfPewuImC5O27K0lxdZ</td><td>0.16</td><td>4</td><td>0.0823</td><td>-10.206</td><td>0</td><td>落日飛車 Sunset Rollercoaster</td><td>2018-03-14</td><td>0.0421</td><td>102.017</td><td>4</td><td>0.921</td></tr><tr><td>0.822</td><td>CASSA NOVA</td><td>0.711</td><td>258600</td><td>0.524</td><td>1MSpHuDjLZVAOd0R0Z99TA</td><td>0.703</td><td>7</td><td>0.123</td><td>-10.45</td><td>0</td><td>落日飛車 Sunset Rollercoaster</td><td>2018-03-14</td><td>0.0273</td><td>141.993</td><td>4</td><td>0.641</td></tr><tr><td>0.736</td><td>CASSA NOVA</td><td>0.696</td><td>201173</td><td>0.376</td><td>0lqkkgY2La4JwVheEjs7Wz</td><td>0.389</td><td>0</td><td>0.273</td><td>-10.881</td><td>1</td><td>落日飛車 Sunset Rollercoaster</td><td>2018-03-14</td><td>0.0294</td><td>126.935</td><td>4</td><td>0.404</td></tr><tr><td>0.589</td><td>BOSSA NOVA</td><td>0.434</td><td>277707</td><td>0.503</td><td>2tveOkRxjYXg0guRkVd4PK</td><td>0.133</td><td>4</td><td>0.435</td><td>-9.064</td><td>1</td><td>落日飛車 Sunset Rollercoaster</td><td>2011-09-22</td><td>0.034</td><td>145.814</td><td>4</td><td>0.561</td></tr><tr><td>0.14</td><td>BOSSA NOVA</td><td>0.691</td><td>185107</td><td>0.449</td><td>04KHkXXjDEl5ykU9bdpqON</td><td>0.0263</td><td>9</td><td>0.08</td><td>-11.022</td><td>1</td><td>落日飛車 Sunset Rollercoaster</td><td>2011-09-22</td><td>0.0673</td><td>77.542</td><td>4</td><td>0.544</td></tr><tr><td>0.0204</td><td>BOSSA NOVA</td><td>0.331</td><td>284453</td><td>0.818</td><td>5OHEJUqLpUm5wJGEDhMA0t</td><td>0.518</td><td>9</td><td>0.354</td><td>-7.949</td><td>1</td><td>落日飛車 Sunset Rollercoaster</td><td>2011-09-22</td><td>0.0459</td><td>123.799</td><td>4</td><td>0.437</td></tr><tr><td>0.816</td><td>BOSSA NOVA</td><td>0.764</td><td>120693</td><td>0.186</td><td>0UDhjfa51XnpXxNyALLbko</td><td>0.0223</td><td>4</td><td>0.113</td><td>-14.824</td><td>1</td><td>落日飛車 Sunset Rollercoaster</td><td>2011-09-22</td><td>0.0799</td><td>143.94</td><td>4</td><td>0.626</td></tr><tr><td>0.83</td><td>BOSSA NOVA</td><td>0.598</td><td>226240</td><td>0.589</td><td>6NYLix5eKh0PXaSj3npU3y</td><td>0.189</td><td>9</td><td>0.15</td><td>-9.205</td><td>1</td><td>落日飛車 Sunset Rollercoaster</td><td>2011-09-22</td><td>0.0249</td><td>105.493</td><td>4</td><td>0.59</td></tr><tr><td>1.1E-4</td><td>BOSSA NOVA</td><td>0.478</td><td>122387</td><td>0.919</td><td>3nFQNX543UtCWngf0TydkE</td><td>0.22</td><td>4</td><td>0.7</td><td>-6.394</td><td>1</td><td>落日飛車 Sunset Rollercoaster</td><td>2011-09-22</td><td>0.0588</td><td>111.062</td><td>4</td><td>0.768</td></tr><tr><td>0.0315</td><td>BOSSA NOVA</td><td>0.589</td><td>99787</td><td>0.815</td><td>3xo72tK1RNBlYmkC9M7o9o</td><td>0.021</td><td>2</td><td>0.252</td><td>-8.609</td><td>1</td><td>落日飛車 Sunset Rollercoaster</td><td>2011-09-22</td><td>0.0564</td><td>99.063</td><td>4</td><td>0.598</td></tr><tr><td>0.0262</td><td>BOSSA NOVA</td><td>0.646</td><td>184520</td><td>0.801</td><td>2fFEcGOiHS3UW0af7i9zeK</td><td>0.00172</td><td>7</td><td>0.0793</td><td>-7.038</td><td>1</td><td>落日飛車 Sunset Rollercoaster</td><td>2011-09-22</td><td>0.0379</td><td>105.076</td><td>4</td><td>0.274</td></tr><tr><td>0.0403</td><td>BOSSA NOVA</td><td>0.46</td><td>185253</td><td>0.713</td><td>5PmZN1mkJubeg7kTNYeWDZ</td><td>0.896</td><td>2</td><td>0.207</td><td>-7.836</td><td>1</td><td>落日飛車 Sunset Rollercoaster</td><td>2011-09-22</td><td>0.0322</td><td>114.499</td><td>4</td><td>0.882</td></tr><tr><td>8.58E-4</td><td>BOSSA NOVA</td><td>0.396</td><td>260213</td><td>0.951</td><td>6WcpzoeIcbZVgunP7ZqPmu</td><td>0.0306</td><td>4</td><td>0.1</td><td>-6.765</td><td>1</td><td>落日飛車 Sunset Rollercoaster</td><td>2011-09-22</td><td>0.0316</td><td>103.334</td><td>4</td><td>0.829</td></tr><tr><td>0.344</td><td>BOSSA NOVA</td><td>0.53</td><td>180547</td><td>0.612</td><td>1NHZfGzz1bgy03FDQZq0aw</td><td>0.172</td><td>9</td><td>0.138</td><td>-9.751</td><td>1</td><td>落日飛車 Sunset Rollercoaster</td><td>2011-09-22</td><td>0.0368</td><td>100.859</td><td>4</td><td>0.648</td></tr><tr><td>0.199</td><td>是不是少了什麼</td><td>0.481</td><td>256320</td><td>0.702</td><td>2Q72hEX71MLusE8bzp7Vhr</td><td>0.897</td><td>4</td><td>0.105</td><td>-7.219</td><td>0</td><td>甜梅號</td><td>2001-08-25</td><td>0.0254</td><td>82.015</td><td>4</td><td>0.453</td></tr><tr><td>0.0712</td><td>是不是少了什麼</td><td>0.503</td><td>336160</td><td>0.376</td><td>1MzOxssjwdXY8nP9CmOR9A</td><td>0.935</td><td>9</td><td>0.112</td><td>-8.509</td><td>1</td><td>甜梅號</td><td>2001-08-25</td><td>0.0317</td><td>82.012</td><td>4</td><td>0.0945</td></tr><tr><td>0.229</td><td>謝謝你提醒我</td><td>0.456</td><td>1221773</td><td>0.669</td><td>5KlxpO9wmffVXkvH25Nqpo</td><td>0.802</td><td>4</td><td>0.125</td><td>-5.977</td><td>1</td><td>甜梅號</td><td>2007-11-30</td><td>0.0265</td><td>179.934</td><td>3</td><td>0.157</td></tr><tr><td>0.027</td><td>謝謝你提醒我</td><td>0.528</td><td>796013</td><td>0.747</td><td>4DPTuIPsrxPtGmzDzSnFCR</td><td>0.751</td><td>4</td><td>0.12</td><td>-5.33</td><td>0</td><td>甜梅號</td><td>2007-11-30</td><td>0.0281</td><td>100.027</td><td>4</td><td>0.158</td></tr><tr><td>0.0174</td><td>謝謝你提醒我</td><td>0.422</td><td>586720</td><td>0.689</td><td>2BZFq2WQaQvuvobh3QPVaE</td><td>0.808</td><td>2</td><td>0.092</td><td>-6.659</td><td>1</td><td>甜梅號</td><td>2007-11-30</td><td>0.0281</td><td>171.905</td><td>4</td><td>0.183</td></tr><tr><td>0.0396</td><td>謝謝你提醒我</td><td>0.458</td><td>627680</td><td>0.764</td><td>7Gwz36e8Z4EfdHbWr7a1Vf</td><td>0.797</td><td>4</td><td>0.115</td><td>-5.958</td><td>1</td><td>甜梅號</td><td>2007-11-30</td><td>0.029</td><td>169.797</td><td>3</td><td>0.0721</td></tr><tr><td>0.117</td><td>腦海群島</td><td>0.402</td><td>434680</td><td>0.603</td><td>4DPTAI1OnhfatRgSA3gXW4</td><td>0.955</td><td>4</td><td>0.0882</td><td>-9.776</td><td>1</td><td>甜梅號</td><td>2010-02-13</td><td>0.0283</td><td>185.94</td><td>4</td><td>0.209</td></tr><tr><td>0.0111</td><td>腦海群島</td><td>0.408</td><td>383907</td><td>0.529</td><td>1ONxozT53GtAFupcc1LR5H</td><td>0.776</td><td>4</td><td>0.138</td><td>-10.632</td><td>0</td><td>甜梅號</td><td>2010-02-13</td><td>0.0279</td><td>175.97</td><td>4</td><td>0.354</td></tr><tr><td>0.0211</td><td>腦海群島</td><td>0.462</td><td>496680</td><td>0.359</td><td>13D6uc8zZnoa0JrUhhbjnS</td><td>0.895</td><td>4</td><td>0.101</td><td>-11.657</td><td>1</td><td>甜梅號</td><td>2010-02-13</td><td>0.0273</td><td>95.972</td><td>4</td><td>0.0482</td></tr><tr><td>0.0177</td><td>腦海群島</td><td>0.34</td><td>474213</td><td>0.385</td><td>5AJUCa2KOFTwWtIg0m6JIz</td><td>0.865</td><td>4</td><td>0.187</td><td>-10.528</td><td>1</td><td>甜梅號</td><td>2010-02-13</td><td>0.0305</td><td>172.088</td><td>4</td><td>0.0522</td></tr><tr><td>0.018</td><td>腦海群島</td><td>0.516</td><td>469800</td><td>0.665</td><td>18coVDMrucGJ7Ua7Qtb9HG</td><td>0.883</td><td>4</td><td>0.106</td><td>-10.258</td><td>0</td><td>甜梅號</td><td>2010-02-13</td><td>0.0282</td><td>142.007</td><td>3</td><td>0.11</td></tr><tr><td>0.708</td><td>To Pimp A Butterfly</td><td>0.541</td><td>336013</td><td>0.809</td><td>3ODXRUPL44f04cCacwiCLC</td><td>0.0</td><td>8</td><td>0.72</td><td>-4.286</td><td>1</td><td>Kendrick Lamar</td><td>2015-03-16</td><td>0.324</td><td>120.094</td><td>4</td><td>0.753</td></tr><tr><td>0.00589</td><td>To Pimp A Butterfly</td><td>0.884</td><td>234693</td><td>0.657</td><td>0N3W5peJUQtI4eyR6GJT5O</td><td>0.0</td><td>6</td><td>0.154</td><td>-4.569</td><td>0</td><td>Kendrick Lamar</td><td>2015-03-16</td><td>0.0977</td><td>107.059</td><td>4</td><td>0.489</td></tr><tr><td>0.0703</td><td>good kid, m.A.A.d city (Deluxe)</td><td>0.716</td><td>386907</td><td>0.531</td><td>0UtnpKaReKUg2GquaSxCyD</td><td>0.0</td><td>7</td><td>0.224</td><td>-7.355</td><td>1</td><td>Kendrick Lamar</td><td>2012-10-22</td><td>0.122</td><td>71.994</td><td>4</td><td>0.344</td></tr><tr><td>3.7E-4</td><td>海口味</td><td>0.465</td><td>208144</td><td>0.891</td><td>7JiPWzSmzuMSAWhjWhSLts</td><td>0.496</td><td>6</td><td>0.144</td><td>-6.601</td><td>0</td><td>Sorry Youth</td><td>2012-05-01</td><td>0.033</td><td>137.973</td><td>4</td><td>0.562</td></tr><tr><td>0.0766</td><td>海口味</td><td>0.42</td><td>236485</td><td>0.909</td><td>4YCBNj9vAsg1NrW9P7AXo6</td><td>0.00219</td><td>11</td><td>0.351</td><td>-5.897</td><td>0</td><td>Sorry Youth</td><td>2012-05-01</td><td>0.0583</td><td>130.637</td><td>4</td><td>0.341</td></tr><tr><td>0.00433</td><td>兄弟沒夢不應該</td><td>0.264</td><td>607107</td><td>0.76</td><td>7mPoULTRuSLjmbgHWVFHhR</td><td>0.112</td><td>5</td><td>0.101</td><td>-5.198</td><td>1</td><td>Sorry Youth</td><td>2017-12-01</td><td>0.0388</td><td>145.51</td><td>4</td><td>0.252</td></tr><tr><td>0.181</td><td>Second Helping</td><td>0.596</td><td>283800</td><td>0.605</td><td>7e89621JPkKaeDSTQ3avtg</td><td>3.31E-4</td><td>7</td><td>0.0863</td><td>-12.145</td><td>1</td><td>Lynyrd Skynyrd</td><td>1974-04-15</td><td>0.0255</td><td>97.798</td><td>4</td><td>0.886</td></tr><tr><td>0.58</td><td>Led Zeppelin IV (Deluxe Edition)</td><td>0.338</td><td>482830</td><td>0.34</td><td>5CQ30WqJwcep0pYcV4AMNc</td><td>0.0032</td><td>9</td><td>0.116</td><td>-12.049</td><td>0</td><td>Led Zeppelin</td><td>1971-11-08</td><td>0.0339</td><td>82.433</td><td>4</td><td>0.197</td></tr><tr><td>4.53E-4</td><td>(What's The Story) Morning Glory? (Deluxe Edition) [Remastered]</td><td>0.372</td><td>258733</td><td>0.865</td><td>5wj4E6IsrVtn8IBJQOd0Cl</td><td>0.0</td><td>2</td><td>0.234</td><td>-4.918</td><td>1</td><td>Oasis</td><td>1995-10-02</td><td>0.0381</td><td>174.53</td><td>4</td><td>0.478</td></tr><tr><td>0.402</td><td>War (Deluxe Edition Remastered)</td><td>0.543</td><td>279440</td><td>0.944</td><td>4nuUssdgKFy2QyYHHNkZQW</td><td>5.64E-4</td><td>6</td><td>0.0373</td><td>-7.495</td><td>1</td><td>U2</td><td>1983-02-28</td><td>0.0543</td><td>101.174</td><td>4</td><td>0.735</td></tr><tr><td>0.0145</td><td>Hotel California (Live at The Los Angeles Forum, 10/20-22/76)</td><td>0.427</td><td>409520</td><td>0.665</td><td>4cCQ0wBIc9YHhvOWvWNj7S</td><td>0.00242</td><td>2</td><td>0.699</td><td>-8.515</td><td>1</td><td>Eagles</td><td>1976</td><td>0.0405</td><td>142.702</td><td>4</td><td>0.442</td></tr><tr><td>0.153</td><td>High Voltage</td><td>0.754</td><td>214667</td><td>0.759</td><td>7LRMbd3LEoV5wZJvXT1Lwb</td><td>1.14E-4</td><td>9</td><td>0.101</td><td>-5.218</td><td>1</td><td>AC/DC</td><td>1976-05-14</td><td>0.302</td><td>126.367</td><td>4</td><td>0.435</td></tr><tr><td>0.524</td><td>Greatest Hits II</td><td>0.663</td><td>236520</td><td>0.712</td><td>2aSFLiDPreOVP6KHiWk4lF</td><td>0.0</td><td>2</td><td>0.0804</td><td>-7.268</td><td>1</td><td>Queen</td><td>1991-10-28</td><td>0.0479</td><td>113.439</td><td>4</td><td>0.527</td></tr><tr><td>0.011</td><td>Back In Black</td><td>0.31</td><td>255493</td><td>0.7</td><td>08mG3Y1vljYA6bvDt4Wqkj</td><td>0.00965</td><td>9</td><td>0.0828</td><td>-5.678</td><td>1</td><td>AC/DC</td><td>1980-07-25</td><td>0.047</td><td>188.386</td><td>4</td><td>0.763</td></tr><tr><td>0.271</td><td>A Night At The Opera (2011 Remaster)</td><td>0.414</td><td>354320</td><td>0.404</td><td>1AhDOtG9vPSOmsWgNW0BEY</td><td>0.0</td><td>0</td><td>0.3</td><td>-9.928</td><td>0</td><td>Queen</td><td>1975-11-21</td><td>0.0499</td><td>71.105</td><td>4</td><td>0.224</td></tr><tr><td>1.6E-4</td><td>Nevermind (Remastered)</td><td>0.5</td><td>218920</td><td>0.824</td><td>4P5KoWXOxwuobLmHXLMobV</td><td>0.00161</td><td>4</td><td>0.0916</td><td>-5.846</td><td>0</td><td>Nirvana</td><td>1991-09-26</td><td>0.0388</td><td>120.125</td><td>4</td><td>0.539</td></tr><tr><td>0.577</td><td>Layla And Other Assorted Love Songs (40th Anniversary / 2010 Remastered)</td><td>0.404</td><td>423840</td><td>0.903</td><td>3k9i7UzeSUYWIfUZFeFDUd</td><td>0.297</td><td>1</td><td>0.287</td><td>-3.88</td><td>1</td><td>Derek & The Dominos</td><td>1970-11-01</td><td>0.0668</td><td>115.672</td><td>4</td><td>0.498</td></tr><tr><td>0.0484</td><td>Led Zeppelin II</td><td>0.412</td><td>333893</td><td>0.902</td><td>0hCB0YR03f6AmQaHbwWDe8</td><td>0.131</td><td>9</td><td>0.405</td><td>-11.6</td><td>1</td><td>Led Zeppelin</td><td>1969-10-22</td><td>0.405</td><td>89.74</td><td>4</td><td>0.422</td></tr><tr><td>0.0302</td><td>Abbey Road (Remastered)</td><td>0.533</td><td>259947</td><td>0.376</td><td>2EqlS6tkEnglzr7tkKAAYD</td><td>0.248</td><td>9</td><td>0.0926</td><td>-11.913</td><td>0</td><td>The Beatles</td><td>1969-09-26</td><td>0.0393</td><td>165.007</td><td>4</td><td>0.187</td></tr><tr><td>0.00603</td><td>Are You Experienced</td><td>0.346</td><td>210160</td><td>0.768</td><td>0NWPxcsf5vdjdiFUI8NgkP</td><td>0.38</td><td>9</td><td>0.0244</td><td>-5.695</td><td>1</td><td>Jimi Hendrix</td><td>1967-05-12</td><td>0.0377</td><td>169.492</td><td>4</td><td>0.532</td></tr><tr><td>0.0119</td><td>(Pronounced 'Leh-'Nérd 'Skin-'Nérd) [Expanded Edition]</td><td>0.279</td><td>558933</td><td>0.852</td><td>4JNi40t7xR5bO3PWxRkiPN</td><td>0.076</td><td>7</td><td>0.0624</td><td>-7.838</td><td>1</td><td>Lynyrd Skynyrd</td><td>1973</td><td>0.0511</td><td>117.418</td><td>4</td><td>0.438</td></tr><tr><td>0.0029</td><td>Agents Of Fortune</td><td>0.333</td><td>308120</td><td>0.927</td><td>5QTxFnGygVM4jFQiBovmRo</td><td>2.11E-4</td><td>9</td><td>0.297</td><td>-8.55</td><td>0</td><td>Blue Öyster Cult</td><td>1976</td><td>0.0733</td><td>141.47</td><td>4</td><td>0.382</td></tr><tr><td>0.0241</td><td>The Dark Side Of The Moon (2011 Remastered Version)</td><td>0.469</td><td>382834</td><td>0.537</td><td>3aoDEt6zSuYQ47gzarlaVo</td><td>0.00201</td><td>9</td><td>0.269</td><td>-10.421</td><td>1</td><td>Pink Floyd</td><td>1973-03-16</td><td>0.152</td><td>124.193</td><td>1</td><td>0.783</td></tr><tr><td>0.15</td><td>The Wall</td><td>0.472</td><td>382297</td><td>0.366</td><td>5HNCy40Ni5BZJFw1TKzRsC</td><td>0.308</td><td>11</td><td>0.0837</td><td>-12.595</td><td>0</td><td>Pink Floyd</td><td>1979-11-30</td><td>0.0286</td><td>127.167</td><td>4</td><td>0.171</td></tr><tr><td>9.61E-4</td><td>有問題</td><td>0.609</td><td>376228</td><td>0.91</td><td>3rzh028B4qQ43Ao0FpsMPt</td><td>0.631</td><td>10</td><td>0.048</td><td>-4.071</td><td>0</td><td>Zhang Zhen Yue</td><td>2000-12-05</td><td>0.0325</td><td>102.242</td><td>4</td><td>0.928</td></tr><tr><td>0.771</td><td>有問題</td><td>0.655</td><td>319825</td><td>0.416</td><td>5duA8HSDX5I62FLeZj8KA4</td><td>0.0022</td><td>11</td><td>0.128</td><td>-11.81</td><td>1</td><td>Zhang Zhen Yue</td><td>2000-12-05</td><td>0.0317</td><td>139.911</td><td>4</td><td>0.425</td></tr><tr><td>0.116</td><td>等我有一天</td><td>0.806</td><td>294400</td><td>0.685</td><td>0wqIgOWCIIR7ajjCECEriO</td><td>5.08E-5</td><td>8</td><td>0.0746</td><td>-4.505</td><td>1</td><td>Zhang Zhen Yue</td><td>2002-09-10</td><td>0.0283</td><td>106.088</td><td>4</td><td>0.962</td></tr><tr><td>0.0275</td><td>等我有一天</td><td>0.637</td><td>292067</td><td>0.798</td><td>05QChHU1jYH1X7SJG15OJ2</td><td>0.0</td><td>3</td><td>0.111</td><td>-3.338</td><td>1</td><td>Zhang Zhen Yue</td><td>2002-09-10</td><td>0.0321</td><td>124.989</td><td>4</td><td>0.613</td></tr><tr><td>0.00444</td><td>等我有一天</td><td>0.595</td><td>272267</td><td>0.736</td><td>6xTgd4AXwogqjYdtLzuRv0</td><td>0.0</td><td>11</td><td>0.257</td><td>-4.782</td><td>1</td><td>Zhang Zhen Yue</td><td>2002-09-10</td><td>0.0334</td><td>131.882</td><td>3</td><td>0.609</td></tr><tr><td>0.552</td><td>祕密基地</td><td>0.646</td><td>284467</td><td>0.356</td><td>2fc2vUA5H3mTAr9rQoBDKt</td><td>1.63E-6</td><td>0</td><td>0.0964</td><td>-10.804</td><td>1</td><td>Zhang Zhen Yue</td><td>1998-12-11</td><td>0.0268</td><td>90.079</td><td>4</td><td>0.684</td></tr><tr><td>0.037</td><td>OK</td><td>0.817</td><td>258427</td><td>0.441</td><td>6dhBZbgvTu77A5t06gOVjq</td><td>0.00318</td><td>3</td><td>0.0866</td><td>-6.884</td><td>1</td><td>Zhang Zhen Yue</td><td>2007-07-06</td><td>0.0345</td><td>87.999</td><td>4</td><td>0.817</td></tr><tr><td>0.427</td><td>OK</td><td>0.664</td><td>235255</td><td>0.342</td><td>4zMrSFdSkJBaL4NnQFMyEm</td><td>2.78E-6</td><td>8</td><td>0.122</td><td>-9.43</td><td>1</td><td>Zhang Zhen Yue</td><td>2007-07-06</td><td>0.0286</td><td>148.149</td><td>4</td><td>0.298</td></tr><tr><td>0.00158</td><td>Best Selection Noir</td><td>0.348</td><td>300587</td><td>0.695</td><td>7K5DPy1RyntbFpgmgDIOKx</td><td>0.0</td><td>6</td><td>0.109</td><td>-3.101</td><td>1</td><td>Aimer</td><td>2017</td><td>0.032</td><td>156.061</td><td>4</td><td>0.186</td></tr><tr><td>0.0656</td><td>Best Selection Blanc</td><td>0.474</td><td>329787</td><td>0.684</td><td>0Hrqab4eZk24PODh7YKzRH</td><td>0.0</td><td>6</td><td>0.254</td><td>-6.064</td><td>1</td><td>Aimer</td><td>2017</td><td>0.0339</td><td>73.996</td><td>4</td><td>0.335</td></tr><tr><td>0.0443</td><td>Antidotes</td><td>0.603</td><td>252093</td><td>0.869</td><td>6N2SM36vLwcTvgOSssoA4r</td><td>0.737</td><td>9</td><td>0.286</td><td>-7.167</td><td>0</td><td>Foals</td><td>2008-03-23</td><td>0.0309</td><td>138.944</td><td>4</td><td>0.795</td></tr><tr><td>0.0306</td><td>Total Life Forever</td><td>0.364</td><td>409560</td><td>0.565</td><td>4i3txPQIUV4eC9g9FBpi9I</td><td>0.0371</td><td>9</td><td>0.108</td><td>-10.085</td><td>0</td><td>Foals</td><td>2010-05-10</td><td>0.0705</td><td>128.219</td><td>4</td><td>0.346</td></tr><tr><td>3.69E-5</td><td>Vivadixiesubmarinetransmissionplot</td><td>0.299</td><td>432373</td><td>0.555</td><td>2CC7gjcS5IpxZIE71GNos8</td><td>0.651</td><td>0</td><td>0.357</td><td>-8.379</td><td>1</td><td>Sparklehorse</td><td>1995-01-01</td><td>0.0248</td><td>156.868</td><td>4</td><td>0.526</td></tr><tr><td>0.968</td><td>Daydreaming</td><td>0.299</td><td>384439</td><td>0.263</td><td>4wzidqkKngcrMqXzk6x7Qu</td><td>0.857</td><td>9</td><td>0.126</td><td>-13.207</td><td>0</td><td>Radiohead</td><td>2016-05-06</td><td>0.0323</td><td>137.848</td><td>3</td><td>0.113</td></tr><tr><td>0.557</td><td>Spectre</td><td>0.154</td><td>199334</td><td>0.447</td><td>6FhqMiFC6PPYXihpGTFNMC</td><td>0.912</td><td>4</td><td>0.108</td><td>-8.797</td><td>0</td><td>Radiohead</td><td>2016-05-07</td><td>0.0292</td><td>149.423</td><td>3</td><td>0.12</td></tr><tr><td>0.719</td><td>Kid A</td><td>0.645</td><td>275800</td><td>0.462</td><td>1HQYo8C5L0qd1p5f1anXPS</td><td>0.291</td><td>2</td><td>0.34</td><td>-12.124</td><td>1</td><td>Radiohead</td><td>2000-10-01</td><td>0.0319</td><td>142.137</td><td>5</td><td>0.391</td></tr><tr><td>0.0352</td><td>Kid A</td><td>0.615</td><td>309093</td><td>0.931</td><td>7xqeIdLJSf3bgmZ7vUvHrE</td><td>2.37E-5</td><td>3</td><td>0.0914</td><td>-7.8</td><td>1</td><td>Radiohead</td><td>2000-10-01</td><td>0.24</td><td>137.544</td><td>3</td><td>0.53</td></tr><tr><td>0.0496</td><td>Kid A</td><td>0.403</td><td>315973</td><td>0.757</td><td>4DE6Wkt9fW7R5e9gJGWQim</td><td>0.848</td><td>7</td><td>0.305</td><td>-9.931</td><td>0</td><td>Radiohead</td><td>2000-10-01</td><td>0.0371</td><td>157.957</td><td>4</td><td>0.573</td></tr><tr><td>0.00237</td><td>Kid A</td><td>0.486</td><td>351693</td><td>0.754</td><td>01UstUPbzPgq2MNp6h0tVo</td><td>0.858</td><td>2</td><td>0.224</td><td>-8.552</td><td>1</td><td>Radiohead</td><td>2000-10-01</td><td>0.0378</td><td>91.52</td><td>4</td><td>0.387</td></tr><tr><td>0.699</td><td>Kid A</td><td>0.293</td><td>251427</td><td>0.462</td><td>5AiNZnMDCWwujIENPj9PV9</td><td>0.0444</td><td>5</td><td>0.0954</td><td>-11.412</td><td>0</td><td>Radiohead</td><td>2000-10-01</td><td>0.0453</td><td>124.004</td><td>5</td><td>0.0623</td></tr><tr><td>0.0911</td><td>Amnesiac</td><td>0.433</td><td>254867</td><td>0.675</td><td>2xbrMtkxp399aSiCJ8EAON</td><td>0.293</td><td>2</td><td>0.159</td><td>-6.702</td><td>0</td><td>Radiohead</td><td>2001-03-12</td><td>0.0337</td><td>137.268</td><td>4</td><td>0.184</td></tr><tr><td>0.263</td><td>Amnesiac</td><td>0.601</td><td>293773</td><td>0.735</td><td>0JhpYE9xA3UpSFrmXTZyIF</td><td>0.795</td><td>7</td><td>0.11</td><td>-8.321</td><td>0</td><td>Radiohead</td><td>2001-03-12</td><td>0.0255</td><td>102.891</td><td>4</td><td>0.505</td></tr><tr><td>0.786</td><td>Amnesiac</td><td>0.127</td><td>288733</td><td>0.335</td><td>3A9vIxzGBjEfqmDK7H9exS</td><td>0.427</td><td>11</td><td>0.111</td><td>-8.298</td><td>0</td><td>Radiohead</td><td>2001-03-12</td><td>0.0329</td><td>77.078</td><td>4</td><td>0.0686</td></tr><tr><td>0.0193</td><td>Hail To the Thief</td><td>0.614</td><td>323600</td><td>0.677</td><td>77SPrxY5gn6VPrKPGrfLnM</td><td>0.518</td><td>9</td><td>0.108</td><td>-8.317</td><td>0</td><td>Radiohead</td><td>2003</td><td>0.0323</td><td>126.477</td><td>4</td><td>0.717</td></tr><tr><td>0.105</td><td>In Rainbows</td><td>0.461</td><td>248893</td><td>0.833</td><td>15ea10YpJIl3mJq75yzqsD</td><td>0.00419</td><td>11</td><td>0.0741</td><td>-6.082</td><td>0</td><td>Radiohead</td><td>2007-12-28</td><td>0.0481</td><td>165.635</td><td>4</td><td>0.808</td></tr><tr><td>0.314</td><td>The Bends</td><td>0.488</td><td>253853</td><td>0.453</td><td>5gz38AxRkD6Ywxd4fr2pLj</td><td>0.691</td><td>4</td><td>0.179</td><td>-11.562</td><td>0</td><td>Radiohead</td><td>1995-03-28</td><td>0.0304</td><td>138.077</td><td>4</td><td>0.129</td></tr><tr><td>0.053</td><td>OK Computer</td><td>0.206</td><td>258813</td><td>0.4</td><td>6n7GUf2h8D2Ad2wUy5s7nE</td><td>0.638</td><td>11</td><td>0.111</td><td>-9.813</td><td>0</td><td>Radiohead</td><td>1997-05-28</td><td>0.0324</td><td>133.442</td><td>4</td><td>0.196</td></tr><tr><td>0.0626</td><td>OK Computer</td><td>0.36</td><td>264067</td><td>0.505</td><td>3SVAN3BRByDmHOhKyIDxfC</td><td>9.22E-5</td><td>7</td><td>0.172</td><td>-9.129</td><td>1</td><td>Radiohead</td><td>1997-05-28</td><td>0.026</td><td>74.807</td><td>4</td><td>0.317</td></tr><tr><td>0.363</td><td>Maria's Little Elbows</td><td>0.787</td><td>418160</td><td>0.131</td><td>239IJFSqoUEL2k8tWzblWm</td><td>0.794</td><td>2</td><td>0.223</td><td>-16.174</td><td>1</td><td>Sparklehorse</td><td>2010-01-01</td><td>0.0343</td><td>104.928</td><td>4</td><td>0.0931</td></tr><tr><td>0.0179</td><td>It's A Wonderful Life</td><td>0.525</td><td>163733</td><td>0.788</td><td>0N3H8hAe6Lfu2iGSxGVdGQ</td><td>0.0102</td><td>6</td><td>0.353</td><td>-7.618</td><td>0</td><td>Sparklehorse</td><td>2001-08-08</td><td>0.0335</td><td>129.392</td><td>4</td><td>0.675</td></tr><tr><td>0.731</td><td>It's A Wonderful Life</td><td>0.559</td><td>179133</td><td>0.223</td><td>0IQs78HO3ym69mCNFJ0UZp</td><td>0.58</td><td>0</td><td>0.695</td><td>-18.63</td><td>0</td><td>Sparklehorse</td><td>2001-08-08</td><td>0.029</td><td>65.682</td><td>3</td><td>0.0907</td></tr><tr><td>0.00437</td><td>Cowboys from Hell</td><td>0.415</td><td>243533</td><td>0.908</td><td>2SgbR6ttzoNlCRGQOKjrop</td><td>0.0345</td><td>2</td><td>0.082</td><td>-9.701</td><td>1</td><td>Pantera</td><td>1990-07-20</td><td>0.0765</td><td>114.816</td><td>4</td><td>0.437</td></tr><tr><td>2.05E-4</td><td>Falling into Infinity</td><td>0.126</td><td>256827</td><td>0.868</td><td>0R73vqxAyGaAFS63esvwQ8</td><td>0.868</td><td>9</td><td>0.281</td><td>-5.611</td><td>1</td><td>Dream Theater</td><td>1997-09-12</td><td>0.105</td><td>77.398</td><td>4</td><td>0.178</td></tr><tr><td>5.06E-4</td><td>Alive or Just Breathing</td><td>0.441</td><td>253760</td><td>0.943</td><td>3uXR8I4kT1WtvtHTEj4ZHG</td><td>0.0397</td><td>3</td><td>0.122</td><td>-4.996</td><td>1</td><td>Killswitch Engage</td><td>2002-05-13</td><td>0.138</td><td>177.971</td><td>4</td><td>0.142</td></tr><tr><td>8.05E-4</td><td>Countdown To Extinction</td><td>0.61</td><td>246733</td><td>0.891</td><td>51TG9W3y9qyO8BY5RXKgnZ</td><td>0.0928</td><td>4</td><td>0.0657</td><td>-5.452</td><td>0</td><td>Megadeth</td><td>1992-07-14</td><td>0.0587</td><td>139.903</td><td>4</td><td>0.51</td></tr><tr><td>0.00354</td><td>A Dramatic Turn of Events</td><td>0.533</td><td>522520</td><td>0.942</td><td>1LEl9029bRIrHhssrf0Td6</td><td>0.102</td><td>9</td><td>0.0644</td><td>-6.25</td><td>0</td><td>Dream Theater</td><td>2011-08-25</td><td>0.0749</td><td>137.981</td><td>4</td><td>0.269</td></tr><tr><td>4.12E-4</td><td>Resolution</td><td>0.274</td><td>396573</td><td>0.953</td><td>0CgX6uamMxAI5tx7BU5s1V</td><td>0.00262</td><td>6</td><td>0.0884</td><td>-4.508</td><td>0</td><td>Lamb of God</td><td>2012</td><td>0.101</td><td>118.147</td><td>4</td><td>0.121</td></tr><tr><td>1.35E-5</td><td>Octavarium</td><td>0.493</td><td>436440</td><td>0.978</td><td>5axwj3ekvw85989jjO8Ov8</td><td>0.00216</td><td>1</td><td>0.181</td><td>-4.578</td><td>1</td><td>Dream Theater</td><td>2005-06-06</td><td>0.123</td><td>125.96</td><td>4</td><td>0.21</td></tr><tr><td>4.05E-4</td><td>Reign In Blood (Expanded)</td><td>0.227</td><td>255187</td><td>0.995</td><td>4fiOTntQKr24p07FvQDHZE</td><td>0.393</td><td>10</td><td>0.127</td><td>-4.361</td><td>0</td><td>Slayer</td><td>1986-01-01</td><td>0.173</td><td>87.499</td><td>4</td><td>0.0363</td></tr><tr><td>0.0742</td><td>To Pimp A Butterfly</td><td>0.796</td><td>219333</td><td>0.766</td><td>3iVcZ5G6tvkXZkZKlMpIUs</td><td>0.0</td><td>7</td><td>0.0827</td><td>-5.974</td><td>1</td><td>Kendrick Lamar</td><td>2015-03-16</td><td>0.238</td><td>110.034</td><td>4</td><td>0.558</td></tr><tr><td>0.281</td><td>everybody dies</td><td>0.779</td><td>161827</td><td>0.694</td><td>1wIQtB3UQ1TfjNMZZqO6eh</td><td>1.36E-5</td><td>9</td><td>0.109</td><td>-9.376</td><td>1</td><td>J. Cole</td><td>2016-12-06</td><td>0.2</td><td>82.861</td><td>4</td><td>0.569</td></tr><tr><td>0.00454</td><td>DAMN.</td><td>0.638</td><td>185947</td><td>0.523</td><td>6HZILIRieu8S0iqY8kIKhj</td><td>0.0</td><td>1</td><td>0.0842</td><td>-6.664</td><td>1</td><td>Kendrick Lamar</td><td>2017-04-14</td><td>0.357</td><td>139.913</td><td>4</td><td>0.422</td></tr><tr><td>0.149</td><td>MIDDLE CHILD</td><td>0.837</td><td>213594</td><td>0.364</td><td>2JvzF1RMd7lE3KmFlsyZD8</td><td>0.0</td><td>8</td><td>0.271</td><td>-11.713</td><td>1</td><td>J. Cole</td><td>2019-01-23</td><td>0.276</td><td>123.984</td><td>4</td><td>0.463</td></tr><tr><td>0.131</td><td>Book of Ryan (Bonus Track Edition)</td><td>0.725</td><td>213692</td><td>0.573</td><td>7ssUSWeSEosoWPy4aac57x</td><td>2.17E-6</td><td>1</td><td>0.0892</td><td>-4.193</td><td>1</td><td>Royce Da 5'9\"</td><td>2018-05-04</td><td>0.137</td><td>86.002</td><td>4</td><td>0.205</td></tr><tr><td>0.207</td><td>Lupe Fiasco's The Cool</td><td>0.572</td><td>289000</td><td>0.822</td><td>7dltD9eEX7X1zk8JJ9BS0e</td><td>0.0</td><td>11</td><td>0.359</td><td>-6.015</td><td>0</td><td>Lupe Fiasco</td><td>2007-01-01</td><td>0.361</td><td>94.812</td><td>4</td><td>0.472</td></tr><tr><td>2.82E-4</td><td>DAMN.</td><td>0.908</td><td>177000</td><td>0.621</td><td>7KXjTSCq5nL1LoYtL7XAwS</td><td>5.39E-5</td><td>1</td><td>0.0958</td><td>-6.638</td><td>0</td><td>Kendrick Lamar</td><td>2017-04-14</td><td>0.102</td><td>150.011</td><td>4</td><td>0.421</td></tr><tr><td>0.609</td><td>2014 Forest Hills Drive</td><td>0.502</td><td>211680</td><td>0.623</td><td>4gkl7QbQvBd3TM9PhlWFkI</td><td>0.0</td><td>8</td><td>0.119</td><td>-8.812</td><td>1</td><td>J. Cole</td><td>2014-12-09</td><td>0.441</td><td>75.555</td><td>1</td><td>0.399</td></tr><tr><td>0.0561</td><td>謝謝你提醒我</td><td>0.567</td><td>581813</td><td>0.729</td><td>1dNEZFBDkdomjRzaBo6Re3</td><td>0.84</td><td>4</td><td>0.111</td><td>-5.57</td><td>1</td><td>甜梅號</td><td>2007-11-30</td><td>0.0321</td><td>114.978</td><td>4</td><td>0.055</td></tr><tr><td>0.0581</td><td>OK</td><td>0.818</td><td>255721</td><td>0.483</td><td>5JaPBs2aQjEfLwM5kVb4jq</td><td>5.09E-4</td><td>2</td><td>0.122</td><td>-4.974</td><td>1</td><td>Zhang Zhen Yue</td><td>2007-07-06</td><td>0.148</td><td>90.025</td><td>4</td><td>0.449</td></tr><tr><td>0.14</td><td>太陽巡迴演唱會immortal tour 影音記錄</td><td>0.537</td><td>443387</td><td>0.63</td><td>6YT9lkE6k1FmCZfLwWQ0ct</td><td>6.95E-4</td><td>4</td><td>0.39</td><td>-8.014</td><td>1</td><td>Cheer Chen</td><td>2010-05-05</td><td>0.0279</td><td>104.018</td><td>4</td><td>0.322</td></tr><tr><td>0.206</td><td>時間的歌巡迴演唱會影音記錄</td><td>0.521</td><td>312360</td><td>0.53</td><td>4maj4HEyKmtXNj2KYIXv5f</td><td>0.00551</td><td>8</td><td>0.715</td><td>-7.056</td><td>1</td><td>Cheer Chen</td><td>2015-12-02</td><td>0.0284</td><td>82.944</td><td>4</td><td>0.275</td></tr><tr><td>0.517</td><td>老子有的是時間 (Ain't Got Nothing But Time, Son)</td><td>0.541</td><td>204173</td><td>0.831</td><td>1rympOhcJVs8PixYKZZ1HM</td><td>4.38E-5</td><td>1</td><td>0.127</td><td>-6.105</td><td>0</td><td>巨大的轟鳴</td><td>2016-05-13</td><td>0.036</td><td>171.921</td><td>4</td><td>0.671</td></tr><tr><td>0.127</td><td>時間的歌巡迴演唱會影音記錄</td><td>0.571</td><td>434800</td><td>0.46</td><td>1CEtI0ZbsapgHgHljEK0Ef</td><td>0.00117</td><td>4</td><td>0.482</td><td>-9.353</td><td>1</td><td>Cheer Chen</td><td>2015-12-02</td><td>0.0263</td><td>104.047</td><td>4</td><td>0.252</td></tr><tr><td>2.46E-5</td><td>Best Hit AKG</td><td>0.316</td><td>243347</td><td>0.951</td><td>052C0m9kD30nZqcPWPPRqm</td><td>0.189</td><td>1</td><td>0.17</td><td>-3.757</td><td>0</td><td>ASIAN KUNG-FU GENERATION</td><td>2012-01-18</td><td>0.112</td><td>174.895</td><td>4</td><td>0.255</td></tr><tr><td>0.0186</td><td>Ref:rain</td><td>0.454</td><td>290147</td><td>0.695</td><td>7ACBxaYBStLkzU8grvbzz5</td><td>0.0</td><td>7</td><td>0.0952</td><td>-4.143</td><td>1</td><td>Aimer</td><td>2018-02-21</td><td>0.0314</td><td>78.001</td><td>4</td><td>0.271</td></tr><tr><td>0.904</td><td>FOLK 2</td><td>0.586</td><td>247013</td><td>0.214</td><td>6ctwPug8Sntsrc5zu03M8Z</td><td>0.0</td><td>5</td><td>0.0922</td><td>-11.416</td><td>1</td><td>Humbert Humbert</td><td>2018-09-28</td><td>0.0304</td><td>148.146</td><td>4</td><td>0.452</td></tr><tr><td>0.207</td><td>打上花火</td><td>0.635</td><td>289335</td><td>0.667</td><td>7pcTLUekZJQnzDOUDuExVJ</td><td>0.0</td><td>6</td><td>0.108</td><td>-5.392</td><td>1</td><td>DAOKO</td><td>2017-08-16</td><td>0.0253</td><td>96.003</td><td>4</td><td>0.261</td></tr><tr><td>0.0413</td><td>808</td><td>0.651</td><td>325908</td><td>0.9</td><td>1HUd7YQlXVvpMHKnpVyqLF</td><td>3.11E-5</td><td>10</td><td>0.115</td><td>-5.337</td><td>0</td><td>Suchmos</td><td>2018-02-15</td><td>0.0393</td><td>126.105</td><td>4</td><td>0.779</td></tr><tr><td>0.0486</td><td>爽健美茶のラップ</td><td>0.777</td><td>206058</td><td>0.897</td><td>2rvpNggwPzsYfTaKLnvffV</td><td>7.48E-6</td><td>4</td><td>0.0972</td><td>-3.894</td><td>1</td><td>chelmico</td><td>2019-02-22</td><td>0.0684</td><td>122.017</td><td>4</td><td>0.85</td></tr><tr><td>0.0818</td><td>THE BAY</td><td>0.627</td><td>291640</td><td>0.52</td><td>2lNyRcYhNL44rZQLpcgIKG</td><td>0.00138</td><td>6</td><td>0.0944</td><td>-5.203</td><td>0</td><td>Suchmos</td><td>2015-07-08</td><td>0.0275</td><td>100.0</td><td>4</td><td>0.241</td></tr><tr><td>2.49E-5</td><td>Alive or Just Breathing</td><td>0.535</td><td>217973</td><td>0.978</td><td>3U63rbEYFncmc9hvez0P4W</td><td>0.0938</td><td>2</td><td>0.231</td><td>-3.779</td><td>0</td><td>Killswitch Engage</td><td>2002-05-13</td><td>0.0856</td><td>134.05</td><td>4</td><td>0.404</td></tr><tr><td>0.705</td><td>Cole World: The Sideline Story</td><td>0.745</td><td>237853</td><td>0.572</td><td>5pIn0ZiclQOMzoFUlgDY0f</td><td>0.0</td><td>10</td><td>0.146</td><td>-7.003</td><td>0</td><td>J. Cole</td><td>2011-09-27</td><td>0.174</td><td>89.051</td><td>4</td><td>0.663</td></tr><tr><td>0.269</td><td>Book of Ryan (Bonus Track Edition)</td><td>0.618</td><td>282010</td><td>0.836</td><td>6Gbj7s07M5pF76wfHPOxQZ</td><td>0.0</td><td>0</td><td>0.129</td><td>-5.073</td><td>1</td><td>Royce Da 5'9\"</td><td>2018-05-04</td><td>0.398</td><td>157.507</td><td>4</td><td>0.563</td></tr><tr><td>0.0152</td><td>good kid, m.A.A.d city (Deluxe)</td><td>0.587</td><td>310720</td><td>0.698</td><td>5h5tBFnbcVioFXiOixTn6E</td><td>0.0</td><td>1</td><td>0.442</td><td>-8.948</td><td>1</td><td>Kendrick Lamar</td><td>2012-10-22</td><td>0.0943</td><td>133.954</td><td>4</td><td>0.0985</td></tr><tr><td>0.04</td><td>電火王</td><td>0.609</td><td>303253</td><td>0.885</td><td>17SLDiuINZll0JcJnIEJtB</td><td>0.0</td><td>4</td><td>0.0396</td><td>-5.828</td><td>0</td><td>Bisiugroup</td><td>2018-08-22</td><td>0.145</td><td>167.872</td><td>4</td><td>0.787</td></tr><tr><td>0.0842</td><td>我會不會又睡到下午了</td><td>0.568</td><td>293996</td><td>0.592</td><td>51E0NPPHp2wE5qSDGM0bdd</td><td>0.00432</td><td>1</td><td>0.0645</td><td>-6.766</td><td>1</td><td>DSPS</td><td>2016-10-01</td><td>0.0265</td><td>90.001</td><td>4</td><td>0.375</td></tr><tr><td>0.0703</td><td>老子有的是時間 (Ain't Got Nothing But Time, Son)</td><td>0.71</td><td>212333</td><td>0.87</td><td>18B75fkLuHP6R558G9icE3</td><td>1.12E-5</td><td>0</td><td>0.0946</td><td>-6.577</td><td>1</td><td>巨大的轟鳴</td><td>2016-05-13</td><td>0.0405</td><td>106.014</td><td>4</td><td>0.958</td></tr><tr><td>0.0298</td><td>Go Slow</td><td>0.44</td><td>322333</td><td>0.445</td><td>3SH5hjBZnY4DsIy40lvlzP</td><td>0.221</td><td>2</td><td>0.123</td><td>-11.134</td><td>1</td><td>deca joins</td><td>2018-11-14</td><td>0.0316</td><td>114.985</td><td>4</td><td>0.439</td></tr><tr><td>0.00361</td><td>兄弟沒夢不應該</td><td>0.467</td><td>432933</td><td>0.781</td><td>3hJ2rjjLXCMJpNFw2Kuc8s</td><td>2.68E-4</td><td>10</td><td>0.142</td><td>-5.66</td><td>1</td><td>Sorry Youth</td><td>2017-12-01</td><td>0.0506</td><td>139.927</td><td>4</td><td>0.112</td></tr><tr><td>0.931</td><td>Liszt - My Piano Hero</td><td>0.28</td><td>287987</td><td>0.287</td><td>2Hnurh1BcigGbCGFOb4Uid</td><td>0.888</td><td>8</td><td>0.0762</td><td>-22.167</td><td>0</td><td>Franz Liszt</td><td>2011-08-22</td><td>0.0367</td><td>87.953</td><td>4</td><td>0.509</td></tr><tr><td>0.0011</td><td>The Bones of a Dying World</td><td>0.481</td><td>267200</td><td>0.617</td><td>3an4AA3vBuzfdyyQF4nsvF</td><td>0.838</td><td>8</td><td>0.102</td><td>-8.194</td><td>0</td><td>If These Trees Could Talk</td><td>2016-06-03</td><td>0.0335</td><td>124.956</td><td>4</td><td>0.0369</td></tr><tr><td>2.58E-4</td><td>武德</td><td>0.481</td><td>278440</td><td>0.995</td><td>5BSpLKfC11vSF5jfhxvKDn</td><td>4.0E-6</td><td>11</td><td>0.13</td><td>-2.6</td><td>0</td><td>CHTHONIC</td><td>2013-05-29</td><td>0.117</td><td>95.017</td><td>4</td><td>0.16</td></tr><tr><td>0.851</td><td>[大佛普拉斯] 電影配樂</td><td>0.512</td><td>276320</td><td>0.127</td><td>35thf0lfd7ZBwHOwRDhln6</td><td>0.0376</td><td>0</td><td>0.109</td><td>-16.155</td><td>1</td><td>林生祥</td><td>2017-05-20</td><td>0.0353</td><td>165.147</td><td>3</td><td>0.0512</td></tr><tr><td>0.00316</td><td>Californication (Deluxe Edition)</td><td>0.458</td><td>255373</td><td>0.795</td><td>64BbK9SFKH2jk86U3dGj2P</td><td>2.02E-4</td><td>0</td><td>0.0756</td><td>-3.265</td><td>1</td><td>Red Hot Chili Peppers</td><td>1999-06-08</td><td>0.0574</td><td>123.229</td><td>4</td><td>0.513</td></tr><tr><td>0.796</td><td>ghost is dead</td><td>0.57</td><td>357973</td><td>0.341</td><td>3qmtJvjBWKggiWMFeZETYx</td><td>0.818</td><td>0</td><td>0.114</td><td>-10.113</td><td>1</td><td>Spangle Call Lilli Line</td><td>2015-11-11</td><td>0.0348</td><td>130.04</td><td>4</td><td>0.22</td></tr><tr><td>0.00213</td><td>Metallica</td><td>0.577</td><td>331267</td><td>0.828</td><td>5sICkBXVmaCQk5aISGR3x1</td><td>0.0114</td><td>6</td><td>0.0581</td><td>-8.691</td><td>0</td><td>Metallica</td><td>1991-01-01</td><td>0.0298</td><td>123.257</td><td>4</td><td>0.604</td></tr><tr><td>5.36E-4</td><td>In never out</td><td>0.552</td><td>610240</td><td>0.639</td><td>4DpxW3ejhqmoU8FQ1o5JGL</td><td>0.787</td><td>2</td><td>0.0687</td><td>-8.195</td><td>0</td><td>pg.lost</td><td>2010-01-08</td><td>0.0329</td><td>137.048</td><td>4</td><td>0.0934</td></tr><tr><td>0.144</td><td>CASSA NOVA</td><td>0.781</td><td>322453</td><td>0.545</td><td>1uXGbw9IXFpZc1wt2F9dSW</td><td>0.703</td><td>0</td><td>0.16</td><td>-10.747</td><td>0</td><td>落日飛車 Sunset Rollercoaster</td><td>2018-03-14</td><td>0.0358</td><td>118.984</td><td>4</td><td>0.872</td></tr><tr><td>0.402</td><td>For My Parents</td><td>0.112</td><td>717240</td><td>0.415</td><td>7diZA5tliW5guYLOHhf2fu</td><td>0.862</td><td>6</td><td>0.144</td><td>-8.528</td><td>1</td><td>MONO</td><td>2012-09-04</td><td>0.0379</td><td>82.682</td><td>4</td><td>0.0378</td></tr><tr><td>0.0179</td><td>Blue Blood</td><td>0.498</td><td>394840</td><td>0.66</td><td>2i4DNxEjTT5gjk7wgfSpFq</td><td>6.92E-4</td><td>11</td><td>0.0785</td><td>-7.347</td><td>1</td><td>X JAPAN</td><td>1989</td><td>0.026</td><td>77.721</td><td>4</td><td>0.224</td></tr><tr><td>0.21</td><td>Holy Fire</td><td>0.608</td><td>327680</td><td>0.403</td><td>3VEmt3PtYnKsGrINV70AQq</td><td>0.102</td><td>2</td><td>0.12</td><td>-10.816</td><td>0</td><td>Foals</td><td>2013-02-11</td><td>0.0338</td><td>116.373</td><td>4</td><td>0.119</td></tr><tr><td>0.0479</td><td>songs, ideas, we forgot</td><td>0.48</td><td>246467</td><td>0.761</td><td>7vaWTEWLbCuX8hMHzBPFJ8</td><td>0.698</td><td>2</td><td>0.0502</td><td>-5.975</td><td>1</td><td>toe</td><td>2012-06-20</td><td>0.0314</td><td>171.025</td><td>4</td><td>0.473</td></tr><tr><td>0.119</td><td>[大佛普拉斯] 電影配樂</td><td>0.554</td><td>163733</td><td>0.666</td><td>1Sj0Wifkbz67eUWNa6J8uB</td><td>0.814</td><td>7</td><td>0.11</td><td>-14.092</td><td>1</td><td>林生祥</td><td>2017-05-20</td><td>0.0714</td><td>160.862</td><td>4</td><td>0.568</td></tr><tr><td>0.257</td><td>你所不知道的杜振熙之內部整修</td><td>0.58</td><td>210000</td><td>0.894</td><td>446ywOqGonfOIN1Dp0zMLf</td><td>0.0187</td><td>10</td><td>0.109</td><td>-7.443</td><td>0</td><td>Soft Lipa</td><td>2013-07-31</td><td>0.0688</td><td>175.966</td><td>4</td><td>0.556</td></tr><tr><td>0.564</td><td>2014 Forest Hills Drive</td><td>0.801</td><td>293040</td><td>0.543</td><td>1HNs07uZxZniPNmniw2GTa</td><td>0.0</td><td>5</td><td>0.116</td><td>-9.236</td><td>1</td><td>J. Cole</td><td>2014-12-09</td><td>0.091</td><td>133.982</td><td>4</td><td>0.534</td></tr><tr><td>0.104</td><td>I Decided.</td><td>0.78</td><td>222360</td><td>0.574</td><td>0SGkqnVQo9KPytSri1H6cF</td><td>0.0</td><td>1</td><td>0.129</td><td>-5.628</td><td>0</td><td>Big Sean</td><td>2017-02-03</td><td>0.141</td><td>81.502</td><td>4</td><td>0.273</td></tr><tr><td>3.79E-5</td><td>Atheist’s cornea</td><td>0.357</td><td>331347</td><td>0.557</td><td>2BCaVyRAL8RT65VT8h8lBy</td><td>0.707</td><td>2</td><td>0.0867</td><td>-7.832</td><td>1</td><td>envy</td><td>2015-05-15</td><td>0.0377</td><td>141.765</td><td>4</td><td>0.325</td></tr><tr><td>0.005</td><td>Golevka</td><td>0.24</td><td>660200</td><td>0.653</td><td>52Fw0bPlDegUpoETTxtIgf</td><td>0.719</td><td>7</td><td>0.235</td><td>-7.755</td><td>0</td><td>The Evpatoria Report</td><td>2005</td><td>0.0392</td><td>92.101</td><td>4</td><td>0.0558</td></tr><tr><td>1.45E-4</td><td>The Crocodile Society of Aphasia</td><td>0.453</td><td>277040</td><td>0.595</td><td>4ITclX14xLnsJBwYJI9pAC</td><td>0.905</td><td>8</td><td>0.0552</td><td>-7.752</td><td>0</td><td>Aphasia</td><td>2008-09-19</td><td>0.0389</td><td>127.987</td><td>4</td><td>0.142</td></tr><tr><td>0.136</td><td>Book of Ryan (Bonus Track Edition)</td><td>0.706</td><td>283077</td><td>0.745</td><td>70lVHIHJE2tUXH7FxNOz3z</td><td>0.0</td><td>10</td><td>0.268</td><td>-5.97</td><td>0</td><td>Royce Da 5'9\"</td><td>2018-05-04</td><td>0.441</td><td>91.08</td><td>4</td><td>0.598</td></tr><tr><td>0.00104</td><td>武德</td><td>0.435</td><td>322867</td><td>0.997</td><td>24s5YgrHdQsTZh4TAuBqR3</td><td>0.0025</td><td>11</td><td>0.345</td><td>-2.895</td><td>0</td><td>CHTHONIC</td><td>2013-05-29</td><td>0.0908</td><td>94.982</td><td>4</td><td>0.198</td></tr><tr><td>0.0634</td><td>ALL-AMERIKKKAN BADA$$</td><td>0.812</td><td>207059</td><td>0.628</td><td>4ntsD33Pgsgk8rUyZLLiUV</td><td>0.0</td><td>10</td><td>0.254</td><td>-6.164</td><td>0</td><td>Joey Bada$$</td><td>2017-04-07</td><td>0.0682</td><td>123.004</td><td>4</td><td>0.485</td></tr><tr><td>0.693</td><td>GDN Express</td><td>0.869</td><td>276651</td><td>0.489</td><td>4dDTfanIuKXjZQYhGaRk71</td><td>0.0</td><td>6</td><td>0.17</td><td>-9.007</td><td>1</td><td>Gordon</td><td>2014-10-10</td><td>0.328</td><td>92.014</td><td>4</td><td>0.751</td></tr><tr><td>0.101</td><td>龐克佛洛伊德</td><td>0.4</td><td>366169</td><td>0.791</td><td>3z6mlqt3EJZjgChFZwccK2</td><td>4.06E-4</td><td>2</td><td>0.328</td><td>-5.104</td><td>1</td><td>八十八顆芭樂籽</td><td>2016-06-01</td><td>0.0403</td><td>127.924</td><td>4</td><td>0.163</td></tr><tr><td>0.021</td><td>Tangible Dream</td><td>0.68</td><td>274286</td><td>0.731</td><td>2xFxMCpPRIsgXkND5gG4aA</td><td>0.0</td><td>4</td><td>0.0873</td><td>-8.283</td><td>0</td><td>Oddisee</td><td>2013-12-17</td><td>0.187</td><td>97.894</td><td>4</td><td>0.228</td></tr><tr><td>0.0743</td><td>腦海群島</td><td>0.539</td><td>361053</td><td>0.495</td><td>34Us2NmCqVkgMpyNOyhQjj</td><td>0.823</td><td>9</td><td>0.111</td><td>-9.034</td><td>1</td><td>甜梅號</td><td>2010-02-13</td><td>0.0294</td><td>120.023</td><td>3</td><td>0.286</td></tr><tr><td>6.26E-5</td><td>Imsomniac doze</td><td>0.305</td><td>437987</td><td>0.537</td><td>74Aj2ejR6bvQojkafmGOl1</td><td>0.753</td><td>2</td><td>0.136</td><td>-7.532</td><td>1</td><td>envy</td><td>2006-08-29</td><td>0.0387</td><td>132.248</td><td>4</td><td>0.0385</td></tr><tr><td>0.802</td><td>Ocean of Blue</td><td>0.0978</td><td>181562</td><td>0.469</td><td>7LZ6tdxMtYoBWFEXrbDdpL</td><td>0.93</td><td>0</td><td>0.0913</td><td>-14.51</td><td>1</td><td>Ok2222</td><td>2018-03-12</td><td>0.0806</td><td>79.12</td><td>3</td><td>0.0594</td></tr><tr><td>0.144</td><td>Our Latest Number</td><td>0.834</td><td>310587</td><td>0.4</td><td>0g0hpiCNKudKqBQ2s65PNB</td><td>0.823</td><td>6</td><td>0.107</td><td>-11.546</td><td>0</td><td>toe</td><td>2018-08-22</td><td>0.065</td><td>112.016</td><td>4</td><td>0.849</td></tr><tr><td>0.834</td><td>HEAR YOU</td><td>0.674</td><td>281549</td><td>0.276</td><td>0g0rxUoLosKWp3nYNJ62Um</td><td>0.916</td><td>7</td><td>0.0926</td><td>-12.659</td><td>1</td><td>toe</td><td>2015-07-22</td><td>0.0802</td><td>164.026</td><td>4</td><td>0.416</td></tr><tr><td>0.637</td><td>HEAR YOU</td><td>0.72</td><td>302272</td><td>0.264</td><td>0OePefuC1mHeiVTPl5pmHY</td><td>0.24</td><td>7</td><td>0.0935</td><td>-13.163</td><td>1</td><td>toe</td><td>2015-07-22</td><td>0.0388</td><td>149.972</td><td>4</td><td>0.387</td></tr><tr><td>0.00202</td><td>HEAR YOU</td><td>0.241</td><td>239181</td><td>0.718</td><td>13W7b0K1lS4qvbC6rJIi8l</td><td>0.907</td><td>11</td><td>0.0931</td><td>-7.752</td><td>0</td><td>toe</td><td>2015-07-22</td><td>0.0368</td><td>172.082</td><td>4</td><td>0.674</td></tr><tr><td>0.0396</td><td>the book about my idle plot on a vague anxiety</td><td>0.337</td><td>194467</td><td>0.689</td><td>18oy1auqHui2VpSGdpLoDi</td><td>0.517</td><td>11</td><td>0.0908</td><td>-8.721</td><td>0</td><td>toe</td><td>2012-06-20</td><td>0.0321</td><td>128.031</td><td>4</td><td>0.567</td></tr><tr><td>0.127</td><td>the book about my idle plot on a vague anxiety</td><td>0.49</td><td>247773</td><td>0.803</td><td>78MMGTJSRhyf7Aj56bOqfg</td><td>0.885</td><td>7</td><td>0.0804</td><td>-8.932</td><td>1</td><td>toe</td><td>2012-06-20</td><td>0.0273</td><td>108.526</td><td>4</td><td>0.254</td></tr><tr><td>0.271</td><td>the book about my idle plot on a vague anxiety</td><td>0.546</td><td>330493</td><td>0.643</td><td>6iK4LokzX8nLMjPWsZYYYO</td><td>0.907</td><td>7</td><td>0.109</td><td>-9.612</td><td>1</td><td>toe</td><td>2012-06-20</td><td>0.03</td><td>127.958</td><td>4</td><td>0.198</td></tr><tr><td>0.512</td><td>For Long Tomorrow</td><td>0.531</td><td>425533</td><td>0.665</td><td>1qb5VMA5dMZKJQYRHRPKo4</td><td>0.721</td><td>1</td><td>0.088</td><td>-7.774</td><td>0</td><td>toe</td><td>2009-12-09</td><td>0.0344</td><td>137.022</td><td>4</td><td>0.0938</td></tr><tr><td>0.224</td><td>For Long Tomorrow</td><td>0.441</td><td>139560</td><td>0.69</td><td>7wY4Q5xH36mFdN4xAQ5Vyd</td><td>0.623</td><td>9</td><td>0.299</td><td>-10.17</td><td>0</td><td>toe</td><td>2009-12-09</td><td>0.029</td><td>149.947</td><td>4</td><td>0.421</td></tr><tr><td>0.789</td><td>For Long Tomorrow</td><td>0.338</td><td>250253</td><td>0.464</td><td>2uo8RCIshYb1aVSNZlrwZZ</td><td>0.724</td><td>11</td><td>0.086</td><td>-11.204</td><td>1</td><td>toe</td><td>2009-12-09</td><td>0.0282</td><td>141.046</td><td>4</td><td>0.501</td></tr><tr><td>0.172</td><td>For Long Tomorrow</td><td>0.532</td><td>318373</td><td>0.749</td><td>5zYwcPb7VnNeHh3rQIGqXu</td><td>0.93</td><td>6</td><td>0.0931</td><td>-8.627</td><td>0</td><td>toe</td><td>2009-12-09</td><td>0.0378</td><td>136.962</td><td>4</td><td>0.17</td></tr><tr><td>0.345</td><td>一切不滅定律</td><td>0.642</td><td>309093</td><td>0.645</td><td>4gaODFXsFJ63QrE2tPZgCk</td><td>0.668</td><td>1</td><td>0.503</td><td>-10.888</td><td>0</td><td>The Murky Crows</td><td>2015-06-30</td><td>0.0281</td><td>140.002</td><td>4</td><td>0.872</td></tr><tr><td>0.112</td><td>一切不滅定律</td><td>0.602</td><td>287093</td><td>0.711</td><td>08WcqUEI8sJMl8avXEgWjY</td><td>0.208</td><td>7</td><td>0.0838</td><td>-9.291</td><td>0</td><td>The Murky Crows</td><td>2015-06-30</td><td>0.0331</td><td>169.016</td><td>4</td><td>0.545</td></tr><tr><td>0.51</td><td>一切不滅定律</td><td>0.338</td><td>323107</td><td>0.712</td><td>5DNr5k2CkoD4fQyF57JLj2</td><td>0.319</td><td>1</td><td>0.101</td><td>-10.631</td><td>0</td><td>The Murky Crows</td><td>2015-06-30</td><td>0.0743</td><td>179.21</td><td>4</td><td>0.311</td></tr><tr><td>0.444</td><td>一切不滅定律</td><td>0.385</td><td>311867</td><td>0.588</td><td>0ZPvvB2OoVykGD0PgIbPpn</td><td>0.541</td><td>11</td><td>0.38</td><td>-9.457</td><td>0</td><td>The Murky Crows</td><td>2015-06-30</td><td>0.0346</td><td>103.011</td><td>3</td><td>0.52</td></tr><tr><td>0.0635</td><td>一切不滅定律</td><td>0.527</td><td>270613</td><td>0.759</td><td>67lwIR130dU1TcFZiDOBmy</td><td>0.0742</td><td>4</td><td>0.403</td><td>-9.27</td><td>0</td><td>The Murky Crows</td><td>2015-06-30</td><td>0.0354</td><td>186.073</td><td>4</td><td>0.791</td></tr><tr><td>0.0587</td><td>萬中選一的青年</td><td>0.527</td><td>270613</td><td>0.766</td><td>2xwGdkfh4nWaOXbvCmpUH9</td><td>0.069</td><td>4</td><td>0.39</td><td>-9.268</td><td>0</td><td>The Murky Crows</td><td>2015-09-15</td><td>0.036</td><td>186.01</td><td>4</td><td>0.762</td></tr><tr><td>0.224</td><td>葉惠美</td><td>0.543</td><td>269747</td><td>0.564</td><td>2zjo2j5j3S0Nk21LKCgc8L</td><td>8.19E-4</td><td>7</td><td>0.101</td><td>-7.275</td><td>1</td><td>Jay Chou</td><td>2003-07-29</td><td>0.0242</td><td>137.128</td><td>4</td><td>0.411</td></tr><tr><td>0.0364</td><td>葉惠美</td><td>0.542</td><td>291413</td><td>0.927</td><td>5eAnkL0t2hnAf5SDgdKO1g</td><td>0.0749</td><td>2</td><td>0.0767</td><td>-4.676</td><td>1</td><td>Jay Chou</td><td>2003-07-29</td><td>0.0641</td><td>104.019</td><td>4</td><td>0.385</td></tr><tr><td>0.426</td><td>葉惠美</td><td>0.566</td><td>213347</td><td>0.618</td><td>3T4Nm1xj2s7sxwjgZoJmc8</td><td>0.227</td><td>1</td><td>0.146</td><td>-8.479</td><td>1</td><td>Jay Chou</td><td>2003-07-29</td><td>0.0545</td><td>150.676</td><td>4</td><td>0.656</td></tr><tr><td>0.858</td><td>八度空間</td><td>0.513</td><td>231467</td><td>0.464</td><td>7n6RsQEj7Tjd5QwJ1xm0dF</td><td>0.0</td><td>11</td><td>0.0819</td><td>-7.061</td><td>1</td><td>Jay Chou</td><td>2002-07-18</td><td>0.0293</td><td>170.145</td><td>4</td><td>0.193</td></tr><tr><td>0.498</td><td>八度空間</td><td>0.638</td><td>252627</td><td>0.425</td><td>01TY23ADPk3T6iz9iLOmpM</td><td>8.88E-6</td><td>1</td><td>0.0965</td><td>-8.454</td><td>1</td><td>Jay Chou</td><td>2002-07-18</td><td>0.0281</td><td>122.692</td><td>4</td><td>0.123</td></tr><tr><td>0.453</td><td>八度空間</td><td>0.781</td><td>317400</td><td>0.432</td><td>7LQSysyJNJAtAemXIQ6mDs</td><td>4.16E-6</td><td>8</td><td>0.322</td><td>-7.878</td><td>1</td><td>Jay Chou</td><td>2002-07-18</td><td>0.0356</td><td>129.978</td><td>4</td><td>0.499</td></tr><tr><td>0.236</td><td>范特西</td><td>0.834</td><td>158520</td><td>0.842</td><td>4KncAQUJuNKmRQCL4H88wQ</td><td>0.0</td><td>9</td><td>0.29</td><td>-4.047</td><td>1</td><td>Jay Chou</td><td>2001-09-14</td><td>0.0512</td><td>106.033</td><td>4</td><td>0.213</td></tr><tr><td>0.385</td><td>范特西</td><td>0.605</td><td>195800</td><td>0.379</td><td>3tzD4XP71zBu8UGGUZ6uar</td><td>0.0</td><td>2</td><td>0.273</td><td>-9.095</td><td>1</td><td>Jay Chou</td><td>2001-09-14</td><td>0.0302</td><td>173.956</td><td>3</td><td>0.394</td></tr><tr><td>0.00187</td><td>逃脫時間的鎖</td><td>0.33</td><td>375750</td><td>0.707</td><td>1WvqaJKAm1kxisqDCk5U1W</td><td>0.0261</td><td>9</td><td>0.0881</td><td>-6.188</td><td>0</td><td>無妄合作社</td><td>2017-11-04</td><td>0.0458</td><td>144.194</td><td>4</td><td>0.416</td></tr><tr><td>0.0659</td><td>伍佰電影歌曲典藏</td><td>0.8</td><td>413733</td><td>0.386</td><td>56UpdbSqljnVQdlA3yC8YJ</td><td>7.54E-4</td><td>2</td><td>0.0918</td><td>-8.729</td><td>0</td><td>Wu Bai</td><td>2000-09-28</td><td>0.0408</td><td>74.091</td><td>4</td><td>0.686</td></tr><tr><td>0.00781</td><td>樹枝孤鳥</td><td>0.482</td><td>335333</td><td>0.639</td><td>07BLMnpZYg6RT0H1elobry</td><td>1.57E-4</td><td>6</td><td>0.143</td><td>-7.477</td><td>1</td><td>Wu Bai</td><td>1998-01-20</td><td>0.026</td><td>96.036</td><td>3</td><td>0.668</td></tr><tr><td>0.382</td><td>愛情的盡頭</td><td>0.672</td><td>391027</td><td>0.568</td><td>5KdZLYyoBP0qsjDTDP28do</td><td>0.0</td><td>4</td><td>0.22</td><td>-8.757</td><td>0</td><td>Wu Bai</td><td>1996-06-18</td><td>0.0293</td><td>136.594</td><td>4</td><td>0.622</td></tr><tr><td>0.079</td><td>愛情的盡頭</td><td>0.606</td><td>375907</td><td>0.732</td><td>6rIc7WSW4ZY7E32cpazFEp</td><td>0.0</td><td>9</td><td>0.151</td><td>-6.155</td><td>1</td><td>Wu Bai</td><td>1996-06-18</td><td>0.0311</td><td>126.613</td><td>4</td><td>0.668</td></tr><tr><td>0.937</td><td>愛情的盡頭</td><td>0.402</td><td>214160</td><td>0.125</td><td>6rUx6SOB0ZG4UEClqK6W6L</td><td>6.49E-4</td><td>3</td><td>0.107</td><td>-16.256</td><td>1</td><td>Wu Bai</td><td>1996-06-18</td><td>0.0303</td><td>105.776</td><td>4</td><td>0.161</td></tr><tr><td>0.00219</td><td>ANIMA</td><td>0.558</td><td>237040</td><td>0.813</td><td>68b37cY3HARMg0rbn9uxhg</td><td>0.124</td><td>0</td><td>0.533</td><td>-8.919</td><td>1</td><td>Thom Yorke</td><td>2019-06-26</td><td>0.045</td><td>124.03</td><td>4</td><td>0.28</td></tr><tr><td>0.0177</td><td>The Wave 파도</td><td>0.612</td><td>282454</td><td>0.839</td><td>5uIsBpHUamPdpEkiVeKIyT</td><td>0.306</td><td>9</td><td>0.0718</td><td>-2.531</td><td>0</td><td>Se So Neon</td><td>2017-09-26</td><td>0.172</td><td>89.907</td><td>4</td><td>0.549</td></tr><tr><td>0.127</td><td>Dreams Never End</td><td>0.75</td><td>368587</td><td>0.703</td><td>3uG7r4LBVoFUJZsLhKFVl5</td><td>0.222</td><td>0</td><td>0.131</td><td>-6.427</td><td>1</td><td>Spangle Call Lilli Line</td><td>2019-01-09</td><td>0.0224</td><td>107.01</td><td>4</td><td>0.568</td></tr><tr><td>0.00457</td><td>Dreams Never End</td><td>0.51</td><td>302773</td><td>0.787</td><td>6ceFQKVbhaoOCK3dEgW0zk</td><td>0.0575</td><td>9</td><td>0.0958</td><td>-5.089</td><td>1</td><td>Spangle Call Lilli Line</td><td>2019-01-09</td><td>0.032</td><td>144.018</td><td>4</td><td>0.487</td></tr><tr><td>0.00207</td><td>幻象波普星</td><td>0.504</td><td>384787</td><td>0.702</td><td>25wDLO6r3uhr6pDu2I5pct</td><td>0.548</td><td>2</td><td>0.366</td><td>-5.67</td><td>1</td><td>刺猬乐队</td><td>2014-04-20</td><td>0.0297</td><td>127.003</td><td>4</td><td>0.192</td></tr><tr><td>1.9E-4</td><td>甜蜜与杀害</td><td>0.172</td><td>283493</td><td>0.575</td><td>7EhoJn9pNJmD6DNhnUGGaM</td><td>0.89</td><td>7</td><td>0.0895</td><td>-5.474</td><td>1</td><td>刺猬乐队</td><td>2011-03-01</td><td>0.0286</td><td>83.009</td><td>4</td><td>0.262</td></tr><tr><td>0.0866</td><td>方向感</td><td>0.493</td><td>357720</td><td>0.483</td><td>7fopK1NBhSZnRz0YqDcKry</td><td>7.04E-4</td><td>4</td><td>0.0868</td><td>-8.262</td><td>1</td><td>1976</td><td>1976</td><td>0.0294</td><td>104.981</td><td>4</td><td>0.0526</td></tr><tr><td>3.05E-4</td><td>不合時宜</td><td>0.566</td><td>232973</td><td>0.633</td><td>19Br0E2xTX2tjbfO7dF3sq</td><td>2.44E-4</td><td>9</td><td>0.399</td><td>-6.182</td><td>1</td><td>1976</td><td>2009</td><td>0.0293</td><td>119.974</td><td>4</td><td>0.617</td></tr><tr><td>0.0482</td><td>耳機裡的新浪潮</td><td>0.546</td><td>404280</td><td>0.936</td><td>5z88aMawjYd5L4jMiJYaVT</td><td>1.98E-5</td><td>9</td><td>0.208</td><td>-5.153</td><td>1</td><td>1976</td><td>1976</td><td>0.0373</td><td>127.941</td><td>4</td><td>0.53</td></tr><tr><td>0.971</td><td>Works II</td><td>0.262</td><td>213293</td><td>0.15</td><td>7e3BSOVmWX664gFZYBgeDn</td><td>0.892</td><td>1</td><td>0.188</td><td>-19.101</td><td>1</td><td>Joe Hisaishi</td><td>1999</td><td>0.0289</td><td>88.012</td><td>4</td><td>0.0798</td></tr><tr><td>0.664</td><td>MELODICA</td><td>0.434</td><td>400107</td><td>0.522</td><td>5fpIho8igzgHw9FTmZGoTU</td><td>0.925</td><td>7</td><td>0.269</td><td>-8.719</td><td>0</td><td>haruka nakamura</td><td>2013-09-06</td><td>0.0304</td><td>94.988</td><td>4</td><td>0.383</td></tr><tr><td>0.165</td><td>Mutemath</td><td>0.557</td><td>325760</td><td>0.918</td><td>0mqVZUM5rkUAgwLHc44Yve</td><td>0.768</td><td>8</td><td>0.16</td><td>-5.139</td><td>1</td><td>Mutemath</td><td>2006-10-09</td><td>0.0621</td><td>170.031</td><td>4</td><td>0.286</td></tr><tr><td>0.13</td><td>BLUEHARLEM</td><td>0.626</td><td>327173</td><td>0.665</td><td>5BPYHGLP1DPo0nVfOUHTEJ</td><td>0.206</td><td>5</td><td>0.365</td><td>-6.228</td><td>1</td><td>Yogee New Waves</td><td>2019-03-20</td><td>0.0241</td><td>93.028</td><td>4</td><td>0.767</td></tr><tr><td>2.72E-5</td><td>Definitely Maybe (Remastered)</td><td>0.191</td><td>276667</td><td>0.829</td><td>0nOF9ewQlwzVU0qKPR2DTq</td><td>2.11E-5</td><td>9</td><td>0.362</td><td>-3.381</td><td>0</td><td>Oasis</td><td>1994-08-29</td><td>0.0447</td><td>116.007</td><td>5</td><td>0.191</td></tr><tr><td>9.68E-5</td><td>Definitely Maybe (Remastered)</td><td>0.067</td><td>392307</td><td>0.941</td><td>62L8HlrCQLvBHKfpu8iqLa</td><td>3.59E-4</td><td>5</td><td>0.253</td><td>-2.7</td><td>0</td><td>Oasis</td><td>1994-08-29</td><td>0.137</td><td>187.874</td><td>4</td><td>0.236</td></tr><tr><td>0.127</td><td>mio</td><td>0.75</td><td>368587</td><td>0.703</td><td>45FjLR9BtbC42kSNwkaxEI</td><td>0.222</td><td>0</td><td>0.131</td><td>-6.427</td><td>1</td><td>Spangle Call Lilli Line</td><td>2018-12-19</td><td>0.0224</td><td>107.01</td><td>4</td><td>0.568</td></tr><tr><td>0.487</td><td>The Last Dawn</td><td>0.261</td><td>516587</td><td>0.255</td><td>6iWviHuknxg7k0pkhHgDf6</td><td>0.835</td><td>9</td><td>0.114</td><td>-7.726</td><td>1</td><td>MONO</td><td>2014-10-28</td><td>0.0337</td><td>106.521</td><td>4</td><td>0.0367</td></tr><tr><td>0.961</td><td>WHALE LIVING</td><td>0.315</td><td>100085</td><td>0.0438</td><td>2oPZknSmgjG9qVntEPxqEl</td><td>0.0888</td><td>6</td><td>0.186</td><td>-29.285</td><td>1</td><td>Homecomings</td><td>2018-10-24</td><td>0.0501</td><td>140.493</td><td>3</td><td>0.0743</td></tr><tr><td>0.158</td><td>WHALE LIVING</td><td>0.718</td><td>298296</td><td>0.605</td><td>7FYaRFT2YzrPOvmENJVpHH</td><td>0.0137</td><td>6</td><td>0.088</td><td>-6.549</td><td>1</td><td>Homecomings</td><td>2018-10-24</td><td>0.0292</td><td>113.979</td><td>4</td><td>0.442</td></tr><tr><td>0.45</td><td>WHALE LIVING</td><td>0.528</td><td>214574</td><td>0.447</td><td>4DdpBkjBPFcp4Epozs4Jvd</td><td>1.71E-4</td><td>10</td><td>0.102</td><td>-7.607</td><td>1</td><td>Homecomings</td><td>2018-10-24</td><td>0.0239</td><td>140.121</td><td>4</td><td>0.421</td></tr><tr><td>0.0186</td><td>What Went Down</td><td>0.659</td><td>261133</td><td>0.792</td><td>5mOPeaSXywGZX3mDflbDsq</td><td>0.0405</td><td>6</td><td>0.102</td><td>-7.101</td><td>0</td><td>Foals</td><td>2015-08-28</td><td>0.0301</td><td>108.009</td><td>4</td><td>0.466</td></tr><tr><td>0.641</td><td>What Went Down</td><td>0.489</td><td>254427</td><td>0.357</td><td>55H7cdGXn6670EiHiTuOtU</td><td>0.333</td><td>6</td><td>0.0838</td><td>-9.745</td><td>1</td><td>Foals</td><td>2015-08-28</td><td>0.0259</td><td>92.009</td><td>4</td><td>0.0388</td></tr><tr><td>0.00193</td><td>What Went Down</td><td>0.286</td><td>412827</td><td>0.76</td><td>66IHpS7V8P8jaWQR7yfTyj</td><td>0.267</td><td>9</td><td>0.585</td><td>-5.458</td><td>1</td><td>Foals</td><td>2015-08-28</td><td>0.0456</td><td>178.534</td><td>3</td><td>0.17</td></tr><tr><td>0.721</td><td>落日飛車 Sunset Rollercoaster on Audiotree Live</td><td>0.544</td><td>345909</td><td>0.59</td><td>5LD66ZjcVXEVuKJOkiiAXh</td><td>0.664</td><td>7</td><td>0.132</td><td>-11.361</td><td>0</td><td>落日飛車 Sunset Rollercoaster</td><td>2018-10-18</td><td>0.0403</td><td>139.982</td><td>4</td><td>0.48</td></tr><tr><td>0.0923</td><td>SINCE2</td><td>0.556</td><td>271707</td><td>0.886</td><td>0cpjF8LIAkCsczpvxzBuu7</td><td>1.08E-4</td><td>9</td><td>0.118</td><td>-7.146</td><td>1</td><td>Spangle Call Lilli Line</td><td>2013-06-12</td><td>0.0326</td><td>120.023</td><td>4</td><td>0.584</td></tr><tr><td>0.0615</td><td>You Forgot It In People</td><td>0.0629</td><td>230773</td><td>0.701</td><td>183ZqJuUliKiaLfLTGWCka</td><td>0.0144</td><td>0</td><td>0.15</td><td>-6.837</td><td>1</td><td>Broken Social Scene</td><td>2003-03-11</td><td>0.061</td><td>202.592</td><td>3</td><td>0.211</td></tr><tr><td>0.0588</td><td>You Forgot It In People</td><td>0.466</td><td>308947</td><td>0.931</td><td>5o74Vk6hlCUTKMb4WGFWn4</td><td>0.766</td><td>7</td><td>0.678</td><td>-7.433</td><td>1</td><td>Broken Social Scene</td><td>2003-03-11</td><td>0.144</td><td>125.601</td><td>4</td><td>0.522</td></tr><tr><td>9.2E-4</td><td>You Forgot It In People</td><td>0.378</td><td>330853</td><td>0.551</td><td>69ifK5mouTzjfAQmK2kUa7</td><td>0.00748</td><td>7</td><td>0.204</td><td>-8.527</td><td>1</td><td>Broken Social Scene</td><td>2003-03-11</td><td>0.0393</td><td>148.583</td><td>4</td><td>0.347</td></tr><tr><td>0.0971</td><td>You Forgot It In People</td><td>0.581</td><td>245067</td><td>0.56</td><td>1vHhxh1JCjbWvZEOTLt2rL</td><td>0.694</td><td>5</td><td>0.199</td><td>-5.802</td><td>1</td><td>Broken Social Scene</td><td>2003-03-11</td><td>0.0317</td><td>121.355</td><td>4</td><td>0.391</td></tr><tr><td>0.0272</td><td>You Forgot It In People</td><td>0.723</td><td>309187</td><td>0.703</td><td>6KXbSJLz6h8NvysBPm8ctt</td><td>0.313</td><td>0</td><td>0.0979</td><td>-9.495</td><td>1</td><td>Broken Social Scene</td><td>2003-03-11</td><td>0.0318</td><td>129.725</td><td>4</td><td>0.767</td></tr><tr><td>0.0288</td><td>Songs to Eat Pizza By. 9 Years of Siluh Records</td><td>0.508</td><td>389000</td><td>0.806</td><td>19pFUzgqRmV00VmATYaJY0</td><td>0.339</td><td>4</td><td>0.0834</td><td>-3.154</td><td>0</td><td>Various Artists</td><td>2014-03-07</td><td>0.034</td><td>119.881</td><td>4</td><td>0.0933</td></tr><tr><td>0.0489</td><td>In Rainbows</td><td>0.6</td><td>237293</td><td>0.853</td><td>6dsq7Nt5mIFzvm5kIYNORy</td><td>0.346</td><td>1</td><td>0.0934</td><td>-7.584</td><td>1</td><td>Radiohead</td><td>2007-12-28</td><td>0.0423</td><td>94.457</td><td>4</td><td>0.847</td></tr><tr><td>0.774</td><td>In Rainbows</td><td>0.538</td><td>318187</td><td>0.61</td><td>4Iyo50UoYhuuYORMLrGDci</td><td>0.749</td><td>11</td><td>0.0909</td><td>-8.027</td><td>0</td><td>Radiohead</td><td>2007-12-28</td><td>0.0392</td><td>152.999</td><td>4</td><td>0.199</td></tr><tr><td>0.517</td><td>In Rainbows</td><td>0.668</td><td>228747</td><td>0.477</td><td>51ygW389BW4Dut3B69pSwc</td><td>0.446</td><td>4</td><td>0.139</td><td>-8.709</td><td>0</td><td>Radiohead</td><td>2007-12-28</td><td>0.0358</td><td>88.005</td><td>4</td><td>0.0966</td></tr><tr><td>0.511</td><td>In Rainbows</td><td>0.518</td><td>290213</td><td>0.656</td><td>56Z7hbyMrndw1naxb6I5Oi</td><td>0.156</td><td>4</td><td>0.0679</td><td>-7.438</td><td>0</td><td>Radiohead</td><td>2007-12-28</td><td>0.0264</td><td>104.282</td><td>4</td><td>0.203</td></tr></tbody></table></div>"
      ]
     },
     "metadata": {},
     "output_type": "display_data"
    }
   ],
   "source": [
    "# first view of the data\n",
    "display(features_df)"
   ]
  },
  {
   "cell_type": "markdown",
   "metadata": {},
   "source": [
    "With **Spark.sql** and **display** function provided by DataBricks, we can take a closer look.\n",
    "#### For example, **when were songs in my library released?**\n",
    "##### Ans: **From 1965 to 2019, with an obvious increasing pattern overtime.**"
   ]
  },
  {
   "cell_type": "code",
   "execution_count": 26,
   "metadata": {},
   "outputs": [
    {
     "data": {
      "text/html": [
       "<style scoped>\n",
       "  .table-result-container {\n",
       "    max-height: 300px;\n",
       "    overflow: auto;\n",
       "  }\n",
       "  table, th, td {\n",
       "    border: 1px solid black;\n",
       "    border-collapse: collapse;\n",
       "  }\n",
       "  th, td {\n",
       "    padding: 5px;\n",
       "  }\n",
       "  th {\n",
       "    text-align: left;\n",
       "  }\n",
       "</style><div class='table-result-container'><table class='table-result'><thead style='background-color: white'><tr><th>year</th><th>NUMBER</th></tr></thead><tbody><tr><td>1965</td><td>1</td></tr><tr><td>1967</td><td>1</td></tr><tr><td>1968</td><td>2</td></tr><tr><td>1969</td><td>2</td></tr><tr><td>1970</td><td>3</td></tr><tr><td>1971</td><td>1</td></tr><tr><td>1972</td><td>1</td></tr><tr><td>1973</td><td>4</td></tr><tr><td>1974</td><td>1</td></tr><tr><td>1975</td><td>2</td></tr><tr><td>1976</td><td>9</td></tr><tr><td>1978</td><td>1</td></tr><tr><td>1979</td><td>2</td></tr><tr><td>1980</td><td>1</td></tr><tr><td>1982</td><td>3</td></tr><tr><td>1983</td><td>2</td></tr><tr><td>1984</td><td>1</td></tr><tr><td>1986</td><td>4</td></tr><tr><td>1987</td><td>1</td></tr><tr><td>1988</td><td>1</td></tr><tr><td>1989</td><td>3</td></tr><tr><td>1990</td><td>2</td></tr><tr><td>1991</td><td>5</td></tr><tr><td>1992</td><td>4</td></tr><tr><td>1994</td><td>8</td></tr><tr><td>1995</td><td>6</td></tr><tr><td>1996</td><td>5</td></tr><tr><td>1997</td><td>8</td></tr><tr><td>1998</td><td>3</td></tr><tr><td>1999</td><td>6</td></tr><tr><td>2000</td><td>15</td></tr><tr><td>2001</td><td>15</td></tr><tr><td>2002</td><td>15</td></tr><tr><td>2003</td><td>20</td></tr><tr><td>2004</td><td>8</td></tr><tr><td>2005</td><td>14</td></tr><tr><td>2006</td><td>15</td></tr><tr><td>2007</td><td>19</td></tr><tr><td>2008</td><td>9</td></tr><tr><td>2009</td><td>22</td></tr><tr><td>2010</td><td>26</td></tr><tr><td>2011</td><td>42</td></tr><tr><td>2012</td><td>31</td></tr><tr><td>2013</td><td>31</td></tr><tr><td>2014</td><td>37</td></tr><tr><td>2015</td><td>39</td></tr><tr><td>2016</td><td>41</td></tr><tr><td>2017</td><td>38</td></tr><tr><td>2018</td><td>54</td></tr><tr><td>2019</td><td>22</td></tr></tbody></table></div>"
      ]
     },
     "metadata": {},
     "output_type": "display_data"
    }
   ],
   "source": [
    "# Realease year of my library\n",
    "features_df.createOrReplaceTempView(\"features\")\n",
    "\n",
    "song_years = spark.sql(\"SELECT substring(release_date, 0, 4) AS year, COUNT(substring(release_date, 0, 4)) as NUMBER FROM features GROUP BY year ORDER BY year ASC\")\n",
    "\n",
    "display(song_years)"
   ]
  },
  {
   "cell_type": "markdown",
   "metadata": {},
   "source": [
    "Or,\n",
    "\n",
    "#### Who are my top 10 artists?\n",
    "\n",
    "##### Ans:"
   ]
  },
  {
   "cell_type": "code",
   "execution_count": 28,
   "metadata": {},
   "outputs": [
    {
     "data": {
      "text/html": [
       "<style scoped>\n",
       "  .table-result-container {\n",
       "    max-height: 300px;\n",
       "    overflow: auto;\n",
       "  }\n",
       "  table, th, td {\n",
       "    border: 1px solid black;\n",
       "    border-collapse: collapse;\n",
       "  }\n",
       "  th, td {\n",
       "    padding: 5px;\n",
       "  }\n",
       "  th {\n",
       "    text-align: left;\n",
       "  }\n",
       "</style><div class='table-result-container'><table class='table-result'><thead style='background-color: white'><tr><th>artist</th><th>songs</th></tr></thead><tbody><tr><td>Radiohead</td><td>28</td></tr><tr><td>落日飛車 Sunset Rollercoaster</td><td>23</td></tr><tr><td>Kendrick Lamar</td><td>20</td></tr><tr><td>toe</td><td>14</td></tr><tr><td>甜梅號</td><td>13</td></tr><tr><td>MONO</td><td>13</td></tr><tr><td>Broken Social Scene</td><td>12</td></tr><tr><td>Jay Chou</td><td>11</td></tr><tr><td>CHTHONIC</td><td>10</td></tr><tr><td>J. Cole</td><td>10</td></tr></tbody></table></div>"
      ]
     },
     "metadata": {},
     "output_type": "display_data"
    }
   ],
   "source": [
    "# My top 10 artists\n",
    "top_artists = spark.sql(\"SELECT name AS artist, COUNT(name) as songs FROM features GROUP BY artist ORDER BY songs DESC\")\n",
    "\n",
    "display(top_artists.head(10))"
   ]
  },
  {
   "cell_type": "markdown",
   "metadata": {},
   "source": [
    "And,\n",
    "\n",
    "#### How many albums are there?\n",
    "\n",
    "##### Ans: 389 in total."
   ]
  },
  {
   "cell_type": "code",
   "execution_count": 30,
   "metadata": {},
   "outputs": [
    {
     "data": {
      "text/html": [
       "<style scoped>\n",
       "  .table-result-container {\n",
       "    max-height: 300px;\n",
       "    overflow: auto;\n",
       "  }\n",
       "  table, th, td {\n",
       "    border: 1px solid black;\n",
       "    border-collapse: collapse;\n",
       "  }\n",
       "  th, td {\n",
       "    padding: 5px;\n",
       "  }\n",
       "  th {\n",
       "    text-align: left;\n",
       "  }\n",
       "</style><div class='table-result-container'><table class='table-result'><thead style='background-color: white'><tr><th>album_number</th></tr></thead><tbody><tr><td>389</td></tr></tbody></table></div>"
      ]
     },
     "metadata": {},
     "output_type": "display_data"
    }
   ],
   "source": [
    "# How many albums are there?\n",
    "albums_num = spark.sql(\"SELECT COUNT(DISTINCT album) as album_number FROM features\")\n",
    "\n",
    "display(albums_num)"
   ]
  },
  {
   "cell_type": "markdown",
   "metadata": {},
   "source": [
    "Even more,\n",
    "\n",
    "#### Duration of my saved songs, in minutes."
   ]
  },
  {
   "cell_type": "code",
   "execution_count": 32,
   "metadata": {},
   "outputs": [
    {
     "data": {
      "text/html": [
       "<style scoped>\n",
       "  .table-result-container {\n",
       "    max-height: 300px;\n",
       "    overflow: auto;\n",
       "  }\n",
       "  table, th, td {\n",
       "    border: 1px solid black;\n",
       "    border-collapse: collapse;\n",
       "  }\n",
       "  th, td {\n",
       "    padding: 5px;\n",
       "  }\n",
       "  th {\n",
       "    text-align: left;\n",
       "  }\n",
       "</style><div class='table-result-container'><table class='table-result'><thead style='background-color: white'><tr><th>minutes</th><th>count</th></tr></thead><tbody><tr><td>2.0</td><td>19</td></tr><tr><td>3.0</td><td>61</td></tr><tr><td>4.0</td><td>190</td></tr><tr><td>5.0</td><td>187</td></tr><tr><td>6.0</td><td>72</td></tr><tr><td>7.0</td><td>35</td></tr><tr><td>8.0</td><td>18</td></tr><tr><td>9.0</td><td>9</td></tr><tr><td>10.0</td><td>5</td></tr><tr><td>11.0</td><td>3</td></tr><tr><td>12.0</td><td>3</td></tr><tr><td>13.0</td><td>2</td></tr><tr><td>14.0</td><td>1</td></tr><tr><td>20.0</td><td>1</td></tr></tbody></table></div>"
      ]
     },
     "metadata": {},
     "output_type": "display_data"
    }
   ],
   "source": [
    "# How about song duration?\n",
    "# duration is recorded in ms, for ease to understand, let's convert it to minutes\n",
    "dura_mins = spark.sql(\"SELECT ROUND(duration_ms/60000) as minutes, COUNT(ROUND(duration_ms/60000)) as count FROM features GROUP BY minutes ORDER BY minutes ASC\")\n",
    "\n",
    "display(dura_mins)"
   ]
  },
  {
   "cell_type": "markdown",
   "metadata": {},
   "source": [
    "Now, in order to make recommendation, we need data of songs that I don't like. However, Spotify Web API doesn't provide access to user's dislike songs. <br> \n",
    "\n",
    "In such case, the easiest way to get data from disliked songs would be creating a playlist containing all the songs I don't like, but it requires a lot of time and effort and it also means that I have to revisit all the songs I dislike! <br>\n",
    "\n",
    "My alternative plan is to choose playlists from genres I don't like that much(*K-Pop*, *Electrical Dance Music*) and playlists I definitely can not enjoy(*Songs from Disney films*, *Audio books of scary stories*, etc...), and merge them together. <br>\n",
    "\n",
    "Since **Spotipy** does not provides method for extracting songs information from a given playlist, I had to go with **curl GET** here, **curl GET** was realized by **Python**'s requests package, and the json file it returns was parsed by **Python**'s **json** package. <br>"
   ]
  },
  {
   "cell_type": "markdown",
   "metadata": {},
   "source": [
    "##### Code chunk below specifies a function that, given a *playlist id* found on Spotify App, create a Spark dataframe contains all the needed audio features and information."
   ]
  },
  {
   "cell_type": "code",
   "execution_count": 35,
   "metadata": {},
   "outputs": [
    {
     "data": {
      "text/html": [
       "<style scoped>\n",
       "  .ansiout {\n",
       "    display: block;\n",
       "    unicode-bidi: embed;\n",
       "    white-space: pre-wrap;\n",
       "    word-wrap: break-word;\n",
       "    word-break: break-all;\n",
       "    font-family: \"Source Code Pro\", \"Menlo\", monospace;;\n",
       "    font-size: 13px;\n",
       "    color: #555;\n",
       "    margin-left: 4px;\n",
       "    line-height: 19px;\n",
       "  }\n",
       "</style>\n",
       "<div class=\"ansiout\"></div>"
      ]
     },
     "metadata": {},
     "output_type": "display_data"
    }
   ],
   "source": [
    "def audio_features_collector(playlistid):\n",
    "  \n",
    "  import json\n",
    "  import requests\n",
    "  #count total songs in a playlists\n",
    "  url = \"https://api.spotify.com/v1/playlists/{}/tracks\".format(playlistid)\n",
    "  headers = {'Authorization': \"Bearer {}\".format(token)}\n",
    "  r = requests.get(url, headers=headers)\n",
    "  parsed = json.loads(r.text)\n",
    "  count_songs = parsed['total']\n",
    "\n",
    "  # get inforamtion for all songs\n",
    "  tracks = []\n",
    "  for i in range(math.ceil(count_songs / 50)):\n",
    "      offset = 50 * i\n",
    "      current_url = \"https://api.spotify.com/v1/playlists/{}/tracks?limit=50&offset={}\".format(playlistid, offset)\n",
    "      req = requests.get(current_url, headers=headers)\n",
    "      current_parsed = json.loads(req.text)\n",
    "      tracks.extend(current_parsed['items'])\n",
    "\n",
    "  print('Total number of songs in playlist: {}'.format(len(tracks)))\n",
    " \n",
    "  # get tracks features\n",
    "  tracks_features = []\n",
    "  \n",
    "  for j in range(count_songs):\n",
    "    # get track id\n",
    "    song_id = tracks[j]['track']['id']\n",
    "    # get track audio features\n",
    "    features = sp.audio_features(song_id)[0]\n",
    "    # modify result\n",
    "    # 1. add artist name\n",
    "    features['name'] = tracks[j]['track']['album']['artists'][0]['name']\n",
    "    # 2. add album title\n",
    "    features['album'] = tracks[j]['track']['album']['name']\n",
    "    # 3. add release date\n",
    "    features['release_date'] = tracks[j]['track']['album']['release_date']\n",
    "    # 4. add song title\n",
    "    features['title'] = tracks[j]['track']['name']\n",
    "    # convert possible scientific notation to float\n",
    "    features['instrumentalness'] = format(features['instrumentalness'], '.8f')\n",
    "    # delete unwanted content\n",
    "    del features['uri']\n",
    "    del features['track_href']\n",
    "    del features['analysis_url']\n",
    "    del features['type']\n",
    "    # append\n",
    "    tracks_features.append(features)\n",
    "    \n",
    "  print('Total number of songs features get: {}'.format(len(tracks_features)))\n",
    "  \n",
    "  # convert to Spark DF\n",
    "  #features_df = sqlContext.createDataFrame(tracks_features)\n",
    "  from pyspark.sql import Row\n",
    "  features_df = spark.createDataFrame(Row(**x) for x in tracks_features)\n",
    "  #features_df = spark.createDataFrame(tracks_features)\n",
    "  \n",
    "  # covert instrumentalness back to double type\n",
    "  from pyspark.sql.types import DoubleType\n",
    "  features_df = features_df.withColumn(\"instrumentalness\", features_df[\"instrumentalness\"].cast(DoubleType()))\n",
    "  \n",
    "  return(features_df)"
   ]
  },
  {
   "cell_type": "markdown",
   "metadata": {},
   "source": [
    "##### Get audio features from songs in 9 different playlists."
   ]
  },
  {
   "cell_type": "code",
   "execution_count": 37,
   "metadata": {},
   "outputs": [
    {
     "data": {
      "text/html": [
       "<style scoped>\n",
       "  .ansiout {\n",
       "    display: block;\n",
       "    unicode-bidi: embed;\n",
       "    white-space: pre-wrap;\n",
       "    word-wrap: break-word;\n",
       "    word-break: break-all;\n",
       "    font-family: \"Source Code Pro\", \"Menlo\", monospace;;\n",
       "    font-size: 13px;\n",
       "    color: #555;\n",
       "    margin-left: 4px;\n",
       "    line-height: 19px;\n",
       "  }\n",
       "</style>\n",
       "<div class=\"ansiout\">Total number of songs in playlist: 50\n",
       "Total number of songs features get: 50\n",
       "Total number of songs in playlist: 61\n",
       "Total number of songs features get: 61\n",
       "Total number of songs in playlist: 36\n",
       "Total number of songs features get: 36\n",
       "Total number of songs in playlist: 69\n",
       "Total number of songs features get: 69\n",
       "Total number of songs in playlist: 100\n",
       "Total number of songs features get: 100\n",
       "Total number of songs in playlist: 140\n",
       "Total number of songs features get: 140\n",
       "Total number of songs in playlist: 65\n",
       "Total number of songs features get: 65\n",
       "Total number of songs in playlist: 63\n",
       "Total number of songs features get: 63\n",
       "Total number of songs in playlist: 63\n",
       "Total number of songs features get: 63\n",
       "</div>"
      ]
     },
     "metadata": {},
     "output_type": "display_data"
    }
   ],
   "source": [
    "# dance party from Dance Party\n",
    "dance_party = audio_features_collector(\"37i9dQZF1DXaXB8fQg7xif\")\n",
    "\n",
    "# k-pop from Essential K-Pop\n",
    "kpop = audio_features_collector(\"37i9dQZF1DX14fiWYoe7Oh\")\n",
    "\n",
    "# kids song from Silly Songs for Kids\n",
    "kids = audio_features_collector(\"37i9dQZF1DX2ls3pMfEx4A\")\n",
    "\n",
    "# pop from Pop Rising\n",
    "pop = audio_features_collector(\"37i9dQZF1DWUa8ZRTfalHk\")\n",
    "\n",
    "# dance music from Bass Arcade\n",
    "dance = audio_features_collector(\"37i9dQZF1DX0hvSv9Rf41p\")\n",
    "\n",
    "# scary_stories from Scary Stories\n",
    "scary_stories = audio_features_collector(\"37i9dQZF1DX0RGhgSIsFBm\")\n",
    "\n",
    "# stories from Short Stories\n",
    "stories = audio_features_collector(\"37i9dQZF1DWXmUJqjFaQNQ\") \n",
    "\n",
    "# Disney songs from Disney Favorites\n",
    "disney = audio_features_collector(\"37i9dQZF1DWVs8I62NcHks\")\n",
    "\n",
    "# k-pop dance music from K-Party Dance Mix\n",
    "kpop_dance = audio_features_collector(\"37i9dQZF1DX4RDXswvP6Mj\")"
   ]
  },
  {
   "cell_type": "markdown",
   "metadata": {},
   "source": [
    "##### Merge all playlist into one Spark dataframe named *disliked*, merge it with audio features with my music library, also create a new column specifies whether the song was from *disliked* or my music library."
   ]
  },
  {
   "cell_type": "code",
   "execution_count": 39,
   "metadata": {},
   "outputs": [
    {
     "data": {
      "text/html": [
       "<style scoped>\n",
       "  .ansiout {\n",
       "    display: block;\n",
       "    unicode-bidi: embed;\n",
       "    white-space: pre-wrap;\n",
       "    word-wrap: break-word;\n",
       "    word-break: break-all;\n",
       "    font-family: \"Source Code Pro\", \"Menlo\", monospace;;\n",
       "    font-size: 13px;\n",
       "    color: #555;\n",
       "    margin-left: 4px;\n",
       "    line-height: 19px;\n",
       "  }\n",
       "</style>\n",
       "<div class=\"ansiout\"></div>"
      ]
     },
     "metadata": {},
     "output_type": "display_data"
    }
   ],
   "source": [
    "# append all disliked playlists together\n",
    "disliked = dance_party.union(kpop).union(kids).union(pop).union(dance).union(scary_stories).union(stories).union(disney).union(kpop_dance)\n",
    "\n",
    "# add a new column indicates like or dislike\n",
    "from pyspark.sql.functions import lit\n",
    "\n",
    "# 0 for all disliked songs\n",
    "disliked = disliked.withColumn('like', lit(0))\n",
    "\n",
    "# 1 for all liked(saved) songs\n",
    "liked = features_df.withColumn('like', lit(1))\n",
    "\n",
    "# join them together\n",
    "full_data = disliked.union(liked)"
   ]
  },
  {
   "cell_type": "markdown",
   "metadata": {},
   "source": [
    "# 2. Making Recommendation\n",
    "\n",
    "## (1) Data Preprocessing for Building Model\n",
    "\n",
    "Unlike other programming language, **pyspark.ml** requests all features be supressed in one single column of vectors, almost all of our audio features are numerical, or ready to use binary variable coded as 0 or 1 (mode). However, the key of a song should not be treated as numerical and therefore should be coded properly into a dummy vector. <br>\n",
    "\n",
    "With **OneHotEncoderEstimator** from **pyspark.ml.feature** this is done as follows:"
   ]
  },
  {
   "cell_type": "code",
   "execution_count": 41,
   "metadata": {},
   "outputs": [
    {
     "data": {
      "text/html": [
       "<style scoped>\n",
       "  .ansiout {\n",
       "    display: block;\n",
       "    unicode-bidi: embed;\n",
       "    white-space: pre-wrap;\n",
       "    word-wrap: break-word;\n",
       "    word-break: break-all;\n",
       "    font-family: \"Source Code Pro\", \"Menlo\", monospace;;\n",
       "    font-size: 13px;\n",
       "    color: #555;\n",
       "    margin-left: 4px;\n",
       "    line-height: 19px;\n",
       "  }\n",
       "</style>\n",
       "<div class=\"ansiout\"></div>"
      ]
     },
     "metadata": {},
     "output_type": "display_data"
    }
   ],
   "source": [
    "# since the key of a song should not be treated as numerical\n",
    "# we need to transform key to dummy vector\n",
    "from pyspark.ml.feature import OneHotEncoderEstimator\n",
    "\n",
    "encoder = OneHotEncoderEstimator(inputCols=['key'], outputCols=['keyVec'])\n",
    "full_data = encoder.fit(full_data).transform(full_data)"
   ]
  },
  {
   "cell_type": "markdown",
   "metadata": {},
   "source": [
    "With **VectorAssembler** from **pyspark.ml.feature**, further suppress audio features into one column of vector named *features*"
   ]
  },
  {
   "cell_type": "code",
   "execution_count": 43,
   "metadata": {},
   "outputs": [
    {
     "data": {
      "text/html": [
       "<style scoped>\n",
       "  .ansiout {\n",
       "    display: block;\n",
       "    unicode-bidi: embed;\n",
       "    white-space: pre-wrap;\n",
       "    word-wrap: break-word;\n",
       "    word-break: break-all;\n",
       "    font-family: \"Source Code Pro\", \"Menlo\", monospace;;\n",
       "    font-size: 13px;\n",
       "    color: #555;\n",
       "    margin-left: 4px;\n",
       "    line-height: 19px;\n",
       "  }\n",
       "</style>\n",
       "<div class=\"ansiout\"></div>"
      ]
     },
     "metadata": {},
     "output_type": "display_data"
    }
   ],
   "source": [
    "# specify needed columns\n",
    "model_cols = ['acousticness', 'danceability', 'duration_ms', 'energy', 'instrumentalness', 'liveness', 'loudness', 'mode', 'speechiness', 'tempo', 'time_signature', 'valence', 'keyVec']\n",
    "\n",
    "from pyspark.ml.feature import VectorAssembler\n",
    "assembler = VectorAssembler(inputCols=model_cols,outputCol=\"features\")\n",
    "# Now let us use the transform method to transform our dataset\n",
    "model_data = assembler.transform(full_data)"
   ]
  },
  {
   "cell_type": "markdown",
   "metadata": {},
   "source": [
    "Most of the time, it's a good idea to scale and center features before modeling, with default settings of **StandardScaler** from **pyspark.ml.feature**, the features are scaled and centered to unit standard deviation."
   ]
  },
  {
   "cell_type": "code",
   "execution_count": 45,
   "metadata": {},
   "outputs": [
    {
     "data": {
      "text/html": [
       "<style scoped>\n",
       "  .ansiout {\n",
       "    display: block;\n",
       "    unicode-bidi: embed;\n",
       "    white-space: pre-wrap;\n",
       "    word-wrap: break-word;\n",
       "    word-break: break-all;\n",
       "    font-family: \"Source Code Pro\", \"Menlo\", monospace;;\n",
       "    font-size: 13px;\n",
       "    color: #555;\n",
       "    margin-left: 4px;\n",
       "    line-height: 19px;\n",
       "  }\n",
       "</style>\n",
       "<div class=\"ansiout\"></div>"
      ]
     },
     "metadata": {},
     "output_type": "display_data"
    }
   ],
   "source": [
    "from pyspark.ml.feature import StandardScaler\n",
    "standardscaler = StandardScaler().setInputCol(\"features\").setOutputCol(\"scaled_features\")\n",
    "model_data = standardscaler.fit(model_data).transform(model_data)"
   ]
  },
  {
   "cell_type": "markdown",
   "metadata": {},
   "source": [
    "## (2) Variable Selection via Chi-sqaure Test and Train Test Split\n",
    "\n",
    "With **ChiSqSelector** from **pyspark.ml.feature**, select features that are significantly different between liked and disliked songs under 95% of confidence level."
   ]
  },
  {
   "cell_type": "code",
   "execution_count": 47,
   "metadata": {},
   "outputs": [
    {
     "data": {
      "text/html": [
       "<style scoped>\n",
       "  .ansiout {\n",
       "    display: block;\n",
       "    unicode-bidi: embed;\n",
       "    white-space: pre-wrap;\n",
       "    word-wrap: break-word;\n",
       "    word-break: break-all;\n",
       "    font-family: \"Source Code Pro\", \"Menlo\", monospace;;\n",
       "    font-size: 13px;\n",
       "    color: #555;\n",
       "    margin-left: 4px;\n",
       "    line-height: 19px;\n",
       "  }\n",
       "</style>\n",
       "<div class=\"ansiout\"></div>"
      ]
     },
     "metadata": {},
     "output_type": "display_data"
    }
   ],
   "source": [
    "# feature selection with chisquareSelector\n",
    "from pyspark.ml.feature import ChiSqSelector\n",
    "\n",
    "css = ChiSqSelector(featuresCol='scaled_features', outputCol='selected_features', labelCol='like', fpr=0.05)\n",
    "model_data = css.fit(model_data).transform(model_data)"
   ]
  },
  {
   "cell_type": "markdown",
   "metadata": {},
   "source": [
    "##### Randomly split the data into training set and testing set by 80:20 proportion."
   ]
  },
  {
   "cell_type": "code",
   "execution_count": 49,
   "metadata": {},
   "outputs": [
    {
     "data": {
      "text/html": [
       "<style scoped>\n",
       "  .ansiout {\n",
       "    display: block;\n",
       "    unicode-bidi: embed;\n",
       "    white-space: pre-wrap;\n",
       "    word-wrap: break-word;\n",
       "    word-break: break-all;\n",
       "    font-family: \"Source Code Pro\", \"Menlo\", monospace;;\n",
       "    font-size: 13px;\n",
       "    color: #555;\n",
       "    margin-left: 4px;\n",
       "    line-height: 19px;\n",
       "  }\n",
       "</style>\n",
       "<div class=\"ansiout\"></div>"
      ]
     },
     "metadata": {},
     "output_type": "display_data"
    }
   ],
   "source": [
    "# random train test split\n",
    "train, test = model_data.randomSplit([0.8, 0.2], seed=480)"
   ]
  },
  {
   "cell_type": "markdown",
   "metadata": {},
   "source": [
    "## (3) Train a Logistic Regression Model for Making Recommendation\n",
    "\n",
    "##### Prediction was made on testing data set, first five prediction as well as their real value are shown below"
   ]
  },
  {
   "cell_type": "code",
   "execution_count": 51,
   "metadata": {},
   "outputs": [
    {
     "data": {
      "text/html": [
       "<style scoped>\n",
       "  .ansiout {\n",
       "    display: block;\n",
       "    unicode-bidi: embed;\n",
       "    white-space: pre-wrap;\n",
       "    word-wrap: break-word;\n",
       "    word-break: break-all;\n",
       "    font-family: \"Source Code Pro\", \"Menlo\", monospace;;\n",
       "    font-size: 13px;\n",
       "    color: #555;\n",
       "    margin-left: 4px;\n",
       "    line-height: 19px;\n",
       "  }\n",
       "</style>\n",
       "<div class=\"ansiout\">+----+----------+\n",
       "like|prediction|\n",
       "+----+----------+\n",
       "   0|       1.0|\n",
       "   0|       0.0|\n",
       "   0|       1.0|\n",
       "   0|       0.0|\n",
       "   0|       1.0|\n",
       "+----+----------+\n",
       "only showing top 5 rows\n",
       "\n",
       "</div>"
      ]
     },
     "metadata": {},
     "output_type": "display_data"
    }
   ],
   "source": [
    "from pyspark.ml.classification import LogisticRegression\n",
    "\n",
    "# logistic regression lr\n",
    "lr = LogisticRegression(labelCol='like', featuresCol='scaled_features', maxIter=50)\n",
    "logit_model = lr.fit(train)\n",
    "predict_train = logit_model.transform(train)\n",
    "predict_test = logit_model.transform(test)\n",
    "predict_test.select('like', 'prediction').show(5)"
   ]
  },
  {
   "cell_type": "markdown",
   "metadata": {},
   "source": [
    "## (4) Evaluating the Model\n",
    "\n",
    "With **BinaryClassificationEvaluator** from **pyspark.ml.evaluation** we can get the value of AUC and use it to evaluate the model. <br>\n",
    "The model has 0.83 training AUC and 0.78 testing AUC, is already pretty good result but we can further improve it."
   ]
  },
  {
   "cell_type": "code",
   "execution_count": 53,
   "metadata": {},
   "outputs": [
    {
     "data": {
      "text/html": [
       "<style scoped>\n",
       "  .ansiout {\n",
       "    display: block;\n",
       "    unicode-bidi: embed;\n",
       "    white-space: pre-wrap;\n",
       "    word-wrap: break-word;\n",
       "    word-break: break-all;\n",
       "    font-family: \"Source Code Pro\", \"Menlo\", monospace;;\n",
       "    font-size: 13px;\n",
       "    color: #555;\n",
       "    margin-left: 4px;\n",
       "    line-height: 19px;\n",
       "  }\n",
       "</style>\n",
       "<div class=\"ansiout\">+----+--------------------+----------+--------------------+\n",
       "like|       rawPrediction|prediction|         probability|\n",
       "+----+--------------------+----------+--------------------+\n",
       "   0|[-0.3771702773366...|       1.0|[0.40680957265125...|\n",
       "   0|[0.05694107629472...|       0.0|[0.51423142408566...|\n",
       "   0|[-0.1441345443217...|       1.0|[0.46402861712558...|\n",
       "   0|[0.44702083317672...|       0.0|[0.60993067731869...|\n",
       "   0|[-0.7839900780632...|       1.0|[0.31346057067320...|\n",
       "+----+--------------------+----------+--------------------+\n",
       "only showing top 5 rows\n",
       "\n",
       "AUC for training set is 0.8273024729073545\n",
       "AUC for testing set is 0.7783187476888943\n",
       "</div>"
      ]
     },
     "metadata": {},
     "output_type": "display_data"
    }
   ],
   "source": [
    "from pyspark.ml.evaluation import BinaryClassificationEvaluator\n",
    "evaluator = BinaryClassificationEvaluator(rawPredictionCol='rawPrediction', labelCol='like')\n",
    "predict_test.select(\"like\", \"rawPrediction\", \"prediction\",\"probability\").show(5)\n",
    "print(\"AUC for training set is {}\".format(evaluator.evaluate(predict_train)))\n",
    "print(\"AUC for testing set is {}\".format(evaluator.evaluate(predict_test)))"
   ]
  },
  {
   "cell_type": "markdown",
   "metadata": {},
   "source": [
    "## (5) Improving the Model and Trying Other Models\n",
    "\n",
    "We can utilize grid search over some parameters to find the best model, also, in order to reduce the chance of over-fitting, 5 folds cross-validation was used.\n",
    "*Because of the particular grid we chose to work with here, the CV doesn't improve model performance. If given more time to try different grid, the model should improve.*"
   ]
  },
  {
   "cell_type": "code",
   "execution_count": 55,
   "metadata": {},
   "outputs": [
    {
     "data": {
      "text/html": [
       "<style scoped>\n",
       "  .ansiout {\n",
       "    display: block;\n",
       "    unicode-bidi: embed;\n",
       "    white-space: pre-wrap;\n",
       "    word-wrap: break-word;\n",
       "    word-break: break-all;\n",
       "    font-family: \"Source Code Pro\", \"Menlo\", monospace;;\n",
       "    font-size: 13px;\n",
       "    color: #555;\n",
       "    margin-left: 4px;\n",
       "    line-height: 19px;\n",
       "  }\n",
       "</style>\n",
       "<div class=\"ansiout\">/databricks/spark/python/pyspark/ml/util.py:791: UserWarning: Can not find mlflow. To enable mlflow logging, install MLflow library from PyPi.\n",
       "  warnings.warn(_MLflowInstrumentation._NO_MLFLOW_WARNING)\n",
       "AUC for training set with CV is 0.8273024729073544\n",
       "AUC for testing set with CV is 0.7783187476888943\n",
       "</div>"
      ]
     },
     "metadata": {},
     "output_type": "display_data"
    }
   ],
   "source": [
    "from pyspark.ml.tuning import ParamGridBuilder, CrossValidator\n",
    "\n",
    "paramGrid = ParamGridBuilder()\\\n",
    "    .addGrid(lr.elasticNetParam, [0.0, 0.5, 1.0])\\\n",
    "    .addGrid(lr.maxIter, [50])\\\n",
    "    .build()\n",
    "\n",
    "# 5-fold crossValidator\n",
    "cv = CrossValidator(estimator=lr, estimatorParamMaps=paramGrid, evaluator=evaluator, numFolds=5)\n",
    "# fit model\n",
    "# this is going to take a while\n",
    "cvModel = cv.fit(train)\n",
    "# make predictions\n",
    "predict_train = cvModel.transform(train)\n",
    "predict_test = cvModel.transform(test)\n",
    "print(\"AUC for training set with CV is {}\".format(evaluator.evaluate(predict_train)))\n",
    "print(\"AUC for testing set with CV is {}\".format(evaluator.evaluate(predict_test)))"
   ]
  },
  {
   "cell_type": "markdown",
   "metadata": {},
   "source": [
    "## (6) Make Recommendation on Random Songs\n",
    "\n",
    "Grab a random noisy looking playlists for making recommendation, take New Music Friday as example. <br>\n",
    "Preparing data for model to make recommendation."
   ]
  },
  {
   "cell_type": "code",
   "execution_count": 57,
   "metadata": {},
   "outputs": [
    {
     "data": {
      "text/html": [
       "<style scoped>\n",
       "  .ansiout {\n",
       "    display: block;\n",
       "    unicode-bidi: embed;\n",
       "    white-space: pre-wrap;\n",
       "    word-wrap: break-word;\n",
       "    word-break: break-all;\n",
       "    font-family: \"Source Code Pro\", \"Menlo\", monospace;;\n",
       "    font-size: 13px;\n",
       "    color: #555;\n",
       "    margin-left: 4px;\n",
       "    line-height: 19px;\n",
       "  }\n",
       "</style>\n",
       "<div class=\"ansiout\">Total number of songs in playlist: 75\n",
       "Total number of songs features get: 75\n",
       "</div>"
      ]
     },
     "metadata": {},
     "output_type": "display_data"
    }
   ],
   "source": [
    "# get audio features\n",
    "new_music = audio_features_collector(\"37i9dQZF1DX4JAvHpjipBk\")\n",
    "\n",
    "# encode key variable\n",
    "new_music_data = encoder.fit(new_music).transform(new_music)\n",
    "\n",
    "# assemble features\n",
    "new_music_data = assembler.transform(new_music_data)\n",
    "\n",
    "# scale features\n",
    "new_music_data = standardscaler.fit(new_music_data).transform(new_music_data)"
   ]
  },
  {
   "cell_type": "markdown",
   "metadata": {},
   "source": [
    "##### Make prediciton"
   ]
  },
  {
   "cell_type": "code",
   "execution_count": 59,
   "metadata": {},
   "outputs": [
    {
     "data": {
      "text/html": [
       "<style scoped>\n",
       "  .ansiout {\n",
       "    display: block;\n",
       "    unicode-bidi: embed;\n",
       "    white-space: pre-wrap;\n",
       "    word-wrap: break-word;\n",
       "    word-break: break-all;\n",
       "    font-family: \"Source Code Pro\", \"Menlo\", monospace;;\n",
       "    font-size: 13px;\n",
       "    color: #555;\n",
       "    margin-left: 4px;\n",
       "    line-height: 19px;\n",
       "  }\n",
       "</style>\n",
       "<div class=\"ansiout\"></div>"
      ]
     },
     "metadata": {},
     "output_type": "display_data"
    }
   ],
   "source": [
    "predict_new_music = logit_model.transform(new_music_data)"
   ]
  },
  {
   "cell_type": "markdown",
   "metadata": {},
   "source": [
    "#### And... These songs are probably worth checking out:"
   ]
  },
  {
   "cell_type": "code",
   "execution_count": 61,
   "metadata": {},
   "outputs": [
    {
     "data": {
      "text/html": [
       "<style scoped>\n",
       "  .table-result-container {\n",
       "    max-height: 300px;\n",
       "    overflow: auto;\n",
       "  }\n",
       "  table, th, td {\n",
       "    border: 1px solid black;\n",
       "    border-collapse: collapse;\n",
       "  }\n",
       "  th, td {\n",
       "    padding: 5px;\n",
       "  }\n",
       "  th {\n",
       "    text-align: left;\n",
       "  }\n",
       "</style><div class='table-result-container'><table class='table-result'><thead style='background-color: white'><tr><th>title</th><th>album</th><th>artist</th></tr></thead><tbody><tr><td>Heartless</td><td>Heartless</td><td>The Weeknd</td></tr><tr><td>Fantasía</td><td>Fantasía</td><td>Ozuna</td></tr><tr><td>Blinding Lights</td><td>Blinding Lights</td><td>The Weeknd</td></tr><tr><td>Glittery - From The Kacey Musgraves Christmas Show</td><td>The Kacey Musgraves Christmas Show</td><td>Kacey Musgraves</td></tr><tr><td>My Name is Dark - Art Mix</td><td>My Name is Dark (Art Mix)</td><td>Grimes</td></tr><tr><td>Everything Else Has Gone Wrong</td><td>Everything Else Has Gone Wrong</td><td>Bombay Bicycle Club</td></tr><tr><td>Don't Let It Break Your Heart - Single Edit</td><td>Don't Let It Break Your Heart</td><td>Louis Tomlinson</td></tr><tr><td>W (feat. Gunna)</td><td>W (feat. Gunna)</td><td>Koffee</td></tr><tr><td>Trust3000 (feat. Dijon)</td><td>Trust3000 (feat. Dijon)</td><td>No Rome</td></tr><tr><td>California Halo Blue</td><td>California Halo Blue</td><td>AWOLNATION</td></tr><tr><td>No Good</td><td>No Good</td><td>Ally Brooke</td></tr><tr><td>Us vs. The World (feat. Chris Brown & Teyana Taylor)</td><td>Summertime Shootout 3: Coldest Summer Ever</td><td>Fabolous</td></tr><tr><td>My Own Company</td><td>My Own Company</td><td>Dounia</td></tr><tr><td>Yes Please</td><td>Yes Please</td><td>Poo Bear</td></tr><tr><td>when you're lonely</td><td>a hard drug</td><td>Grady</td></tr><tr><td>Feel Again</td><td>Feel Again</td><td>Kota Banks</td></tr><tr><td>FALL</td><td>FALL</td><td>deadmau5</td></tr><tr><td>SPARK</td><td>SPARK</td><td>Kilo Kish</td></tr><tr><td>Take Me Apart</td><td>Take Me Apart</td><td>SYML</td></tr><tr><td>Proud</td><td>Proud</td><td>Aaron Carpenter</td></tr><tr><td>Scream</td><td>Scream</td><td>SAINT PHNX</td></tr><tr><td>Paranoid</td><td>Paranoid</td><td>ASHS</td></tr><tr><td>Teenage Blues</td><td>Teenage Blues</td><td>Vistas</td></tr><tr><td>Forgiveness I + II</td><td>Forgiveness I + II</td><td>Billy Talent</td></tr><tr><td>Better Than Me</td><td>More Moore Mixtape</td><td>Lily Moore</td></tr><tr><td>One Little Soldier</td><td>One Little Soldier (From \"Bombshell\" the Original Motion Picture Soundtrack)</td><td>Regina Spektor</td></tr><tr><td>Paperbacks</td><td>Sophie</td><td>Arlo Parks</td></tr><tr><td>Helium</td><td>Helium</td><td>ASL</td></tr><tr><td>By Now</td><td>By Now</td><td>Jay Pryor</td></tr><tr><td>Make A Mark</td><td>Make A Mark</td><td>Beoga</td></tr><tr><td>The Bonny</td><td>The Bonny</td><td>Gerry Cinnamon</td></tr><tr><td>spark</td><td>Spark</td><td>Lewis Watson</td></tr><tr><td>Almost</td><td>Almost</td><td>Sarah Close</td></tr><tr><td>You Know That</td><td>You Know That</td><td>No Love For The Middle Child</td></tr><tr><td>Forget Tomorrow</td><td>Forget Tomorrow</td><td>Mighty Oaks</td></tr><tr><td>Loaded Gun</td><td>Loaded Gun</td><td>Jack Peñate</td></tr><tr><td>Casa</td><td>Mermaids</td><td>Anfa Rose</td></tr><tr><td>Drunk</td><td>Drunk</td><td>JØRD</td></tr><tr><td>Heaven's In Your Head</td><td>Heaven's In Your Head</td><td>Superheart</td></tr><tr><td>Black and Blue</td><td>Black and Blue</td><td>November Lights</td></tr><tr><td>i luv him.</td><td>i luv him.</td><td>Catie Turner</td></tr><tr><td>New Day</td><td>New Day</td><td>Benji Lewis</td></tr><tr><td>Clean Me Up</td><td>Clean Me Up</td><td>Thomas Headon</td></tr><tr><td>The Shore</td><td>We Were Thunder</td><td>Lilla Vargen</td></tr><tr><td>Dancing Alone</td><td>Dancing Alone</td><td>Camp Claude</td></tr></tbody></table></div>"
      ]
     },
     "metadata": {},
     "output_type": "display_data"
    }
   ],
   "source": [
    "predict_new_music.createOrReplaceTempView(\"recommendation\")\n",
    "\n",
    "recommendation_que = spark.sql(\"SELECT title, album, name AS artist FROM recommendation WHERE prediction = 1\")\n",
    "\n",
    "display(recommendation_que)"
   ]
  },
  {
   "cell_type": "markdown",
   "metadata": {},
   "source": [
    "# Reflection\n",
    "\n",
    "#### (1) In order to improve the accuracy of recommendation: \n",
    "\n",
    "There are lots of methods worth trying in order to improve the recommendation accuracy, such as trying different models like random forest, gbm, etc... or adding customized features like genres, male or female vocals, etc... but one things that should be done first is gather songs that I don't like, the playlists that I used to contruct *disliked* data are collected from certain genres, therefore very structured, however, there are song from other genres that I disliked, and song from my favorite genres that I dislike for no particular reason, so, in order to make prediction more accurate, precise disliked songs is required. Another thing worth trying would be adjusting the model overtime by trying the model's recommendation and carefully labeled them as like and dislike.\n",
    "\n",
    "#### (2) If given more time:\n",
    "\n",
    "Originally, I was trying to build a real-time music recommendator, but I spent too much time on getting pass authorization in DataBricks, wrangling the data, and ran out of time, I am still going to try building a automatic music recommnedor after the semester. It would be done by **Spotipy**'s ability to update user's playlist. \n",
    "\n",
    "In order to realized an automatic music recommendor: chron job as well as more advanced Spark features are required."
   ]
  },
  {
   "cell_type": "markdown",
   "metadata": {},
   "source": [
    "# References\n",
    "\n",
    "1. Analysing My Spotify Music Library with Jupyter and a Bit of Pandas: https://vsupalov.com/analyze-spotify-music-library-with-jupyter-pandas\n",
    "2. Making Your Own Spotify Discover Weekly Playlist – Toward Data Science: https://towardsdatascience.com/making-your-own-discover-weekly-f1ac7546fedb\n",
    "3. Music Recommendation Service with the Spotify API, Spark MLlib and Databricks: https://medium.com/@polomarcus/music-recommendation-service-with-the-spotify-api-spark-mllib-and-databricks-7cde9b16d35d\n",
    "4. Extract Songs from the Spotify API: https://databricks-prod-cloudfront.cloud.databricks.com/public/4027ec902e239c93eaaa8714f173bcfc/6937750999095841/1043779841828769/6197123402747553/latest.html\n",
    "\n",
    "# Documentations\n",
    "\n",
    "1. Spotify for Developers: https://developer.spotify.com/\n",
    "2. Spotipy Documentation: https://spotipy.readthedocs.io/en/latest/#"
   ]
  }
 ],
 "metadata": {
  "kernelspec": {
   "display_name": "Python 3",
   "language": "python",
   "name": "python3"
  },
  "language_info": {
   "codemirror_mode": {
    "name": "ipython",
    "version": 3
   },
   "file_extension": ".py",
   "mimetype": "text/x-python",
   "name": "python",
   "nbconvert_exporter": "python",
   "pygments_lexer": "ipython3",
   "version": "3.7.3"
  },
  "name": "personal_project",
  "notebookId": 1109110571958480
 },
 "nbformat": 4,
 "nbformat_minor": 1
}
